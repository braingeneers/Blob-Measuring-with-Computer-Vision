{
 "cells": [
  {
   "cell_type": "code",
   "execution_count": 3,
   "id": "f13c298e",
   "metadata": {},
   "outputs": [
    {
     "name": "stdout",
     "output_type": "stream",
     "text": [
      "Collecting imutils\n",
      "  Using cached imutils-0.5.4-py3-none-any.whl\n",
      "Installing collected packages: imutils\n",
      "Successfully installed imutils-0.5.4\n"
     ]
    }
   ],
   "source": [
    "!pip install imutils"
   ]
  },
  {
   "cell_type": "code",
   "execution_count": 20,
   "id": "9840f16c-ffdf-49da-b64b-f7b4990dcb38",
   "metadata": {},
   "outputs": [
    {
     "name": "stdout",
     "output_type": "stream",
     "text": [
      "Collecting package metadata (current_repodata.json): done\n",
      "Solving environment: done\n",
      "\n",
      "## Package Plan ##\n",
      "\n",
      "  environment location: /Users/pierre/miniforge3\n",
      "\n",
      "  added / updated specs:\n",
      "    - ipywidgets\n",
      "\n",
      "\n",
      "The following packages will be downloaded:\n",
      "\n",
      "    package                    |            build\n",
      "    ---------------------------|-----------------\n",
      "    conda-4.13.0               |   py39h2804cbe_1         992 KB  conda-forge\n",
      "    ------------------------------------------------------------\n",
      "                                           Total:         992 KB\n",
      "\n",
      "The following packages will be UPDATED:\n",
      "\n",
      "  conda                               4.12.0-py39h2804cbe_0 --> 4.13.0-py39h2804cbe_1\n",
      "\n",
      "\n",
      "\n",
      "Downloading and Extracting Packages\n",
      "conda-4.13.0         | 992 KB    | ##################################### | 100% \n",
      "Preparing transaction: done\n",
      "Verifying transaction: | WARNING conda.core.path_actions:verify(957): Unable to create environments file. Path not writable.\n",
      "  environment location: /Users/pierre/.conda/environments.txt\n",
      "\n",
      "done\n",
      "Executing transaction: \\ WARNING conda.core.envs_manager:register_env(50): Unable to register environment. Path not writable or missing.\n",
      "  environment location: /Users/pierre/miniforge3\n",
      "  registry file: /Users/pierre/.conda/environments.txt\n",
      "done\n"
     ]
    }
   ],
   "source": [
    "!conda install -c conda-forge ipywidgets -y"
   ]
  },
  {
   "cell_type": "code",
   "execution_count": 9,
   "id": "31d96db5",
   "metadata": {},
   "outputs": [],
   "source": [
    "#https://pyimagesearch.com/2015/09/14/ball-tracking-with-opencv/\n",
    "\n",
    "# import the necessary packages\n",
    "from collections import deque\n",
    "from imutils.video import VideoStream\n",
    "import numpy as np\n",
    "import argparse\n",
    "import cv2\n",
    "import imutils\n",
    "import time\n",
    "from matplotlib import pyplot as plt\n",
    "from math import sqrt\n",
    "import urllib.request\n",
    "from datetime import datetime\n",
    "import ipywidgets as widgets\n",
    "import pandas as pd\n",
    "from statistics import mean\n",
    "# construct the argument parse and parse the arguments\n",
    "ap = argparse.ArgumentParser()\n",
    "ap.add_argument(\"-v\", \"--video\", help=\"path to the (optional) video file\");\n",
    "ap.add_argument(\"-b\", \"--buffer\", type=int, default=64, help=\"max buffer size\");\n",
    "#args = vars(ap.parse_args())\n",
    "buffer = 64\n",
    "# define the lower and upper boundaries of the \"green\"\n",
    "# ball in the HSV color space, then initialize the\n",
    "# list of tracked points\n",
    "greenLower = (29, 86, 6)\n",
    "greenUpper = (64, 255, 255)\n",
    "\n",
    "#pts = deque(maxlen=args[\"buffer\"])\n",
    "pts = deque(maxlen = buffer)\n",
    "\n",
    "# if a video path was not supplied, grab the reference\n",
    "# to the webcam\n",
    "# if not args.get(\"video\", False):\n",
    "#     vs = VideoStream(src=0).start()\n",
    "# # otherwise, grab a reference to the video file\n",
    "# else:\n",
    "#     vs = cv2.VideoCapture(args[\"video\"])\n",
    "\n",
    "#vs = VideoStream(src=\"rtsp://advancedcameranode.local:8554/cam\").start()\n",
    "\n",
    "#vs = VideoStream(src=\"http://camerag11.local/html/min.php\").start()\n",
    "# allow the camera or video file to warm up\n",
    "#time.sleep(2.0)\n",
    "# from IPython.display import display\n",
    "# take_pic = 0\n",
    "# button = widgets.Button(description=\"Click Me!\")\n",
    "# output = widgets.Output()\n",
    "\n",
    "# display(button, output)\n",
    "# def on_button_clicked(b):\n",
    "#     with output:\n",
    "#         take_pic += 1\n",
    "#         print(\"Button clicked.\")\n",
    "#         print(str(take_pic))\n",
    "\n",
    "# button.on_click(on_button_clicked)\n"
   ]
  },
  {
   "cell_type": "code",
   "execution_count": 22,
   "id": "9c812cbf",
   "metadata": {},
   "outputs": [
    {
     "data": {
      "application/vnd.jupyter.widget-view+json": {
       "model_id": "a72e5c8e107d48269111d9057852c56d",
       "version_major": 2,
       "version_minor": 0
      },
      "text/plain": [
       "ToggleButton(value=False, description='capture image')"
      ]
     },
     "metadata": {},
     "output_type": "display_data"
    },
    {
     "data": {
      "application/vnd.jupyter.widget-view+json": {
       "model_id": "73558e8bacb840f1851c4d308efe068b",
       "version_major": 2,
       "version_minor": 0
      },
      "text/plain": [
       "Text(value='', description='filename')"
      ]
     },
     "metadata": {},
     "output_type": "display_data"
    },
    {
     "data": {
      "application/vnd.jupyter.widget-view+json": {
       "model_id": "30c3bbd91a5b44c6ada59f88fdef4f48",
       "version_major": 2,
       "version_minor": 0
      },
      "text/plain": [
       "ToggleButton(value=False, description='plot size')"
      ]
     },
     "metadata": {},
     "output_type": "display_data"
    },
    {
     "data": {
      "application/vnd.jupyter.widget-view+json": {
       "model_id": "4444661b0cf0401bb8370aa35317ea6e",
       "version_major": 2,
       "version_minor": 0
      },
      "text/plain": [
       "Text(value='june-6-2022', description='folder')"
      ]
     },
     "metadata": {},
     "output_type": "display_data"
    },
    {
     "data": {
      "application/vnd.jupyter.widget-view+json": {
       "model_id": "e9aa408a91e34b2397e9732835ed3b70",
       "version_major": 2,
       "version_minor": 0
      },
      "text/plain": [
       "ToggleButton(value=False, description='Stop')"
      ]
     },
     "metadata": {},
     "output_type": "display_data"
    }
   ],
   "source": [
    "%gui asyncio\n",
    "import asyncio\n",
    "import ipywidgets as widgets\n",
    "import os\n",
    "\n",
    "button = widgets.ToggleButton()\n",
    "button.description = \"capture image\"\n",
    "display(button)\n",
    "text = widgets.Text()\n",
    "text.description = \"filename\"\n",
    "img_folder = widgets.Text()\n",
    "img_folder.description = \"folder\"\n",
    "img_folder.value = \"june-6-2022\"\n",
    "plot = widgets.ToggleButton()\n",
    "plot.description = \"plot size\"\n",
    "display(text)\n",
    "display(plot)\n",
    "display(img_folder)\n",
    "#display(text_input)\n",
    "#text.value= str(button.value)\n",
    "\n",
    "stop_button = widgets.ToggleButton()\n",
    "stop_button.description = \"Stop\"\n",
    "display(stop_button)\n",
    "\n",
    "\n",
    "async def f():   \n",
    "    i=0\n",
    "    size = [[],[],[],[],[]]\n",
    "    area_buffer = [0,0,0,0,0,0,0,0,0,0,0,0,0,0,0,0,0,0,0,0]\n",
    "    perimeter_buffer = [0,0,0,0,0,0,0,0,0,0,0,0,0,0,0,0,0,0,0,0]\n",
    "    stream = urllib.request.urlopen('http://advancedcameranode.local/html/cam_pic.php')\n",
    "    image_dir = \"/Users/pierre/Pictures/biology/Blob-Measuring/Level-Measurement-Experiment/stream-captures/\"\n",
    "    bytes = b''\n",
    "    #os.chdir(image_dir)\n",
    "    while True:\n",
    "\n",
    "\n",
    "\n",
    "    # keep looping\n",
    "    #while True:\n",
    "        # grab the current frame\n",
    "        #frame = vs.read()\n",
    "        # handle the frame from VideoCapture or VideoStream\n",
    "        #frame = frame[1] if args.get(\"video\", False) else frame\n",
    "        # if we are viewing a video and we did not grab a frame,\n",
    "        # then we have reached the end of the video\n",
    "        # if frame is None:\n",
    "        #     break\n",
    "        curr_dt = datetime.now()\n",
    "        timestamp = int(round(curr_dt.timestamp()))\n",
    "\n",
    "    #     print(\"Integer timestamp of current datetime: \",\n",
    "    #       timestamp)\n",
    "        bytes += stream.read(1024)\n",
    "        a = bytes.find(b'\\xff\\xd8') #frame starting \n",
    "        b = bytes.find(b'\\xff\\xd9') #frame ending\n",
    "        if a != -1 and b != -1:\n",
    "            jpg = bytes[a:b+2]\n",
    "            bytes = bytes[b+2:]\n",
    "            frame = cv2.imdecode(np.frombuffer(jpg, dtype=np.uint8), cv2.IMREAD_COLOR)\n",
    "            #cv2.imshow('image', img)\n",
    "            bytes = b''\n",
    "            url = 'http://advancedcameranode.local/html/cam_pic.php?' + str(timestamp)\n",
    "            #print(url)\n",
    "            stream = urllib.request.urlopen(url)\n",
    "        #     plt.imshow(frame)\n",
    "        #     plt.show() \n",
    "            # resize the frame, blur it, and convert it to the HSV\n",
    "            # color space\n",
    "            #frame = imutils.resize(frame, width=600)\n",
    "\n",
    "\n",
    "            #my stuff\n",
    "            #frame = imutils.resize(frame, width=600)\n",
    "            gray = cv2.cvtColor(frame, cv2.COLOR_BGR2GRAY)\n",
    "            gray_blurred = cv2.medianBlur(gray,91)\n",
    "            ret, thresh = cv2.threshold(gray_blurred, 130, 255, cv2.THRESH_BINARY_INV)\n",
    "            #end my stuff\n",
    "\n",
    "            # blurred = cv2.GaussianBlur(frame, (11, 11), 0)\n",
    "            # hsv = cv2.cvtColor(blurred, cv2.COLOR_BGR2HSV)\n",
    "\n",
    "\n",
    "            # construct a mask for the color \"green\", then perform\n",
    "            # a series of dilations and erosions to remove any small\n",
    "            # blobs left in the mask\n",
    "            # mask = cv2.inRange(hsv, greenLower, greenUpper)\n",
    "            # mask = cv2.erode(mask, None, iterations=2)\n",
    "            # mask = cv2.dilate(mask, None, iterations=2)\n",
    "\n",
    "                # find contours in the mask and initialize the current\n",
    "            # (x, y) center of the ball\n",
    "            # cnts = cv2.findContours(mask.copy(), cv2.RETR_EXTERNAL,\n",
    "            #     cv2.CHAIN_APPROX_SIMPLE)\n",
    "            # cnts = imutils.grab_contours(cnts)\n",
    "            # center = None\n",
    "\n",
    "            perimeter = \"boof\"\n",
    "            try:\n",
    "                        #my stuff\n",
    "                contours,hierarchy = cv2.findContours(thresh, 1, 2)\n",
    "                threshold_area = 10000     #threshold area \n",
    "                contours, hierarchy = cv2.findContours(thresh,1,2)  \n",
    "                # cnt = contours[0]\n",
    "                for cntr in contours:        \n",
    "                    area = cv2.contourArea(cntr)         \n",
    "                    if area > threshold_area:\n",
    "                        cnt = cntr\n",
    "                        area_buffer.pop(0)\n",
    "                        area_buffer.append(area)\n",
    "                        break\n",
    "                # cnt = contours[0]\n",
    "                # M = cv2.moments(cnt)\n",
    "\n",
    "                ellipse = cv2.fitEllipse(cnt)\n",
    "                cv2.ellipse(frame,ellipse,(0,255,0),5)\n",
    "\n",
    "                (a,b) = ellipse[1]\n",
    "                perimeter = (2 * 3.14 *\n",
    "                    sqrt((a * a + b * b) /\n",
    "                               (2 * 1.0)));\n",
    "                perimeter_buffer.pop(0)\n",
    "                perimeter_buffer.append(perimeter)\n",
    "\n",
    "            except:\n",
    "                pass\n",
    "\n",
    "            # font\n",
    "            font = cv2.FONT_HERSHEY_SIMPLEX\n",
    "            # org\n",
    "            org = (50, 50)\n",
    "            # fontScale\n",
    "            fontScale = 1\n",
    "            # Blue color in BGR\n",
    "            color = (255, 255, 255)\n",
    "            # Line thickness of 2 px\n",
    "            thickness = 2\n",
    "            # Using cv2.putText() method\n",
    "            frame = cv2.putText(frame, str(cv2.contourArea(cnt)), (50,100), font, \n",
    "                                fontScale, color, thickness, cv2.LINE_AA)\n",
    "            display_frame = cv2.putText(frame, str(mean(area_buffer)), org, font, \n",
    "                                fontScale, color, thickness, cv2.LINE_AA)\n",
    "            #end my stuff\n",
    "\n",
    "\n",
    "            # only proceed if at least one contour was found\n",
    "            # if len(cnts) > 0:\n",
    "            #     # find the largest contour in the mask, then use\n",
    "            #     # it to compute the minimum enclosing circle and\n",
    "            #     # centroid\n",
    "            #     c = max(cnts, key=cv2.contourArea)\n",
    "            #     ((x, y), radius) = cv2.minEnclosingCircle(c)\n",
    "            #     M = cv2.moments(c)\n",
    "            #     center = (int(M[\"m10\"] / M[\"m00\"]), int(M[\"m01\"] / M[\"m00\"]))\n",
    "            #     # only proceed if the radius meets a minimum size\n",
    "            #     if radius > 10:\n",
    "            #         # draw the circle and centroid on the frame,\n",
    "            #         # then update the list of tracked points\n",
    "            #         cv2.circle(frame, (int(x), int(y)), int(radius),\n",
    "            #             (0, 255, 255), 2)\n",
    "            #         cv2.circle(frame, center, 5, (0, 0, 255), -1)\n",
    "            # # update the points queue\n",
    "            # pts.appendleft(center)\n",
    "            #     # loop over the set of tracked points\n",
    "            # for i in range(1, len(pts)):\n",
    "            #     # if either of the tracked points are None, ignore\n",
    "            #     # them\n",
    "            #     if pts[i - 1] is None or pts[i] is None:\n",
    "            #         continue\n",
    "            #     # otherwise, compute the thickness of the line and\n",
    "            #     # draw the connecting lines\n",
    "            #     thickness = int(np.sqrt(64 / float(i + 1)) * 2.5)\n",
    "            #     cv2.line(frame, pts[i - 1], pts[i], (0, 0, 255), thickness)\n",
    "            # show the frame to our screen\n",
    "            #cv2.namedWindow('image',cv2.WINDOW_NORMAL)\n",
    "            cv2.imshow(\"Frame\", display_frame)\n",
    "\n",
    "            #print(\"foo\")\n",
    "            key = cv2.waitKey(1) & 0xFF\n",
    "            # # if the 'q' key is pressed, stop the loop\n",
    "            # if key == ord(\"q\"):\n",
    "            #     break\n",
    "            i += 1\n",
    "        #text.value = str(i) + \" \" + str(button.value)\n",
    "            if button.value == True:\n",
    "                #i = 0\n",
    "                button.value = False\n",
    "                #text.value = text_input.value\n",
    "                cv2.imwrite(image_dir+img_folder.value + \"/\" + text.value+\".jpg\",display_frame)\n",
    "                size[0].append(int(text.value)/10)\n",
    "                size[1].append(perimeter)\n",
    "                size[2].append(mean(perimeter_buffer))\n",
    "                size[3].append(cv2.contourArea(cnt))\n",
    "                size[4].append(mean(area_buffer))\n",
    "            await asyncio.sleep(0.001)\n",
    "            if plot.value == True:\n",
    "                print(size)\n",
    "                plot.value = False\n",
    "                dict = {\"volume\" : size[0] , \"perimeter\" : size[1], \"perimeter_mean\" : size[2], \"contour_area\" : size[3], \"contour_area_average\":size[4]}\n",
    "                df = pd.DataFrame(dict) \n",
    "\n",
    "                # saving the dataframe \n",
    "                df.to_csv(image_dir+img_folder.value+\"/\"+'boof3.csv') \n",
    "                try:\n",
    "                    plt.plot(size[0],size[1], 'ro')\n",
    "                    x= size[0];\n",
    "                    y=size[1];\n",
    "                    z = np.polyfit(x, y, 3)\n",
    "                    p = np.poly1d(z)\n",
    "                    plt.plot(x,p(x),'k--',linewidth=2)\n",
    "                    color = 0.8;\n",
    "                    plt.ylabel('Size ($mm^2$)')\n",
    "                    plt.xlabel('ml')\n",
    "                    plt.title(\"Light Diffusion\")\n",
    "                    plt.show()\n",
    "                    \n",
    "                    plt.plot(size[0],size[2], 'ro')\n",
    "                    x= size[0];\n",
    "                    y=size[1];\n",
    "                    z = np.polyfit(x, y, 3)\n",
    "                    p = np.poly1d(z)\n",
    "                    plt.plot(x,p(x),'k--',linewidth=2)\n",
    "                    color = 0.8;\n",
    "                    plt.ylabel('Size ($mm^2$)')\n",
    "                    plt.xlabel('ml')\n",
    "                    plt.title(\"Light Diffusion Average\")\n",
    "                    plt.show()\n",
    "                    #print( \"y=%.6fx+(%.6f)\"%(z[0],z[1]))\n",
    "                    \n",
    "                except:\n",
    "                    pass\n",
    "                \n",
    "            if stop_button.value == True:\n",
    "                cv2.destroyAllWindows()\n",
    "                return\n",
    "        \n",
    "asyncio.create_task(f());\n",
    "# if we are not using a video file, stop the camera video stream\n",
    "# if not args.get(\"video\", False):\n",
    "#     vs.stop()\n",
    "# # otherwise, release the camera\n",
    "# else:\n",
    "#     vs.release()\n",
    "# # close all windows\n",
    "# cv2.destroyAllWindows()\n"
   ]
  },
  {
   "cell_type": "code",
   "execution_count": 22,
   "id": "1faaa6db-ae5c-4d15-8f4a-2d2c01d945de",
   "metadata": {},
   "outputs": [],
   "source": []
  },
  {
   "cell_type": "code",
   "execution_count": 33,
   "id": "ad294d64",
   "metadata": {},
   "outputs": [
    {
     "name": "stdout",
     "output_type": "stream",
     "text": [
      "http://camerag11.local/html/cam_pic.php?1654123996\n",
      "http://camerag11.local/html/cam_pic.php?1654123997\n",
      "http://camerag11.local/html/cam_pic.php?1654123997\n",
      "http://camerag11.local/html/cam_pic.php?1654123997\n",
      "http://camerag11.local/html/cam_pic.php?1654123997\n",
      "http://camerag11.local/html/cam_pic.php?1654123997\n",
      "http://camerag11.local/html/cam_pic.php?1654123997\n",
      "http://camerag11.local/html/cam_pic.php?1654123997\n",
      "http://camerag11.local/html/cam_pic.php?1654123997\n",
      "http://camerag11.local/html/cam_pic.php?1654123997\n",
      "http://camerag11.local/html/cam_pic.php?1654123997\n",
      "http://camerag11.local/html/cam_pic.php?1654123997\n",
      "http://camerag11.local/html/cam_pic.php?1654123997\n",
      "http://camerag11.local/html/cam_pic.php?1654123997\n",
      "http://camerag11.local/html/cam_pic.php?1654123997\n",
      "http://camerag11.local/html/cam_pic.php?1654123997\n",
      "http://camerag11.local/html/cam_pic.php?1654123997\n",
      "http://camerag11.local/html/cam_pic.php?1654123997\n",
      "http://camerag11.local/html/cam_pic.php?1654123998\n",
      "http://camerag11.local/html/cam_pic.php?1654123998\n",
      "http://camerag11.local/html/cam_pic.php?1654123998\n",
      "http://camerag11.local/html/cam_pic.php?1654123998\n",
      "http://camerag11.local/html/cam_pic.php?1654123998\n",
      "http://camerag11.local/html/cam_pic.php?1654123998\n",
      "http://camerag11.local/html/cam_pic.php?1654123998\n",
      "http://camerag11.local/html/cam_pic.php?1654123998\n",
      "http://camerag11.local/html/cam_pic.php?1654123998\n",
      "http://camerag11.local/html/cam_pic.php?1654123998\n",
      "http://camerag11.local/html/cam_pic.php?1654123998\n",
      "http://camerag11.local/html/cam_pic.php?1654123998\n",
      "http://camerag11.local/html/cam_pic.php?1654123998\n",
      "http://camerag11.local/html/cam_pic.php?1654123998\n",
      "http://camerag11.local/html/cam_pic.php?1654123998\n",
      "http://camerag11.local/html/cam_pic.php?1654123998\n",
      "http://camerag11.local/html/cam_pic.php?1654123998\n",
      "http://camerag11.local/html/cam_pic.php?1654123999\n",
      "http://camerag11.local/html/cam_pic.php?1654123999\n",
      "http://camerag11.local/html/cam_pic.php?1654123999\n",
      "http://camerag11.local/html/cam_pic.php?1654123999\n",
      "http://camerag11.local/html/cam_pic.php?1654123999\n",
      "http://camerag11.local/html/cam_pic.php?1654123999\n",
      "http://camerag11.local/html/cam_pic.php?1654123999\n",
      "http://camerag11.local/html/cam_pic.php?1654123999\n",
      "http://camerag11.local/html/cam_pic.php?1654123999\n"
     ]
    },
    {
     "ename": "KeyboardInterrupt",
     "evalue": "",
     "output_type": "error",
     "traceback": [
      "\u001b[0;31m---------------------------------------------------------------------------\u001b[0m",
      "\u001b[0;31mKeyboardInterrupt\u001b[0m                         Traceback (most recent call last)",
      "Input \u001b[0;32mIn [33]\u001b[0m, in \u001b[0;36m<cell line: 11>\u001b[0;34m()\u001b[0m\n\u001b[1;32m     25\u001b[0m url \u001b[38;5;241m=\u001b[39m \u001b[38;5;124m'\u001b[39m\u001b[38;5;124mhttp://camerag11.local/html/cam_pic.php?\u001b[39m\u001b[38;5;124m'\u001b[39m \u001b[38;5;241m+\u001b[39m \u001b[38;5;28mstr\u001b[39m(timestamp)\n\u001b[1;32m     26\u001b[0m \u001b[38;5;28mprint\u001b[39m(url)\n\u001b[0;32m---> 27\u001b[0m stream \u001b[38;5;241m=\u001b[39m \u001b[43murllib\u001b[49m\u001b[38;5;241;43m.\u001b[39;49m\u001b[43mrequest\u001b[49m\u001b[38;5;241;43m.\u001b[39;49m\u001b[43murlopen\u001b[49m\u001b[43m(\u001b[49m\u001b[43murl\u001b[49m\u001b[43m)\u001b[49m\n\u001b[1;32m     29\u001b[0m \u001b[38;5;28;01mif\u001b[39;00m cv2\u001b[38;5;241m.\u001b[39mwaitKey(\u001b[38;5;241m1\u001b[39m) \u001b[38;5;241m==\u001b[39m \u001b[38;5;241m27\u001b[39m:\n\u001b[1;32m     30\u001b[0m     cv2\u001b[38;5;241m.\u001b[39mdestroyAllWindows()\n",
      "File \u001b[0;32m~/miniforge3/lib/python3.9/urllib/request.py:214\u001b[0m, in \u001b[0;36murlopen\u001b[0;34m(url, data, timeout, cafile, capath, cadefault, context)\u001b[0m\n\u001b[1;32m    212\u001b[0m \u001b[38;5;28;01melse\u001b[39;00m:\n\u001b[1;32m    213\u001b[0m     opener \u001b[38;5;241m=\u001b[39m _opener\n\u001b[0;32m--> 214\u001b[0m \u001b[38;5;28;01mreturn\u001b[39;00m \u001b[43mopener\u001b[49m\u001b[38;5;241;43m.\u001b[39;49m\u001b[43mopen\u001b[49m\u001b[43m(\u001b[49m\u001b[43murl\u001b[49m\u001b[43m,\u001b[49m\u001b[43m \u001b[49m\u001b[43mdata\u001b[49m\u001b[43m,\u001b[49m\u001b[43m \u001b[49m\u001b[43mtimeout\u001b[49m\u001b[43m)\u001b[49m\n",
      "File \u001b[0;32m~/miniforge3/lib/python3.9/urllib/request.py:517\u001b[0m, in \u001b[0;36mOpenerDirector.open\u001b[0;34m(self, fullurl, data, timeout)\u001b[0m\n\u001b[1;32m    514\u001b[0m     req \u001b[38;5;241m=\u001b[39m meth(req)\n\u001b[1;32m    516\u001b[0m sys\u001b[38;5;241m.\u001b[39maudit(\u001b[38;5;124m'\u001b[39m\u001b[38;5;124murllib.Request\u001b[39m\u001b[38;5;124m'\u001b[39m, req\u001b[38;5;241m.\u001b[39mfull_url, req\u001b[38;5;241m.\u001b[39mdata, req\u001b[38;5;241m.\u001b[39mheaders, req\u001b[38;5;241m.\u001b[39mget_method())\n\u001b[0;32m--> 517\u001b[0m response \u001b[38;5;241m=\u001b[39m \u001b[38;5;28;43mself\u001b[39;49m\u001b[38;5;241;43m.\u001b[39;49m\u001b[43m_open\u001b[49m\u001b[43m(\u001b[49m\u001b[43mreq\u001b[49m\u001b[43m,\u001b[49m\u001b[43m \u001b[49m\u001b[43mdata\u001b[49m\u001b[43m)\u001b[49m\n\u001b[1;32m    519\u001b[0m \u001b[38;5;66;03m# post-process response\u001b[39;00m\n\u001b[1;32m    520\u001b[0m meth_name \u001b[38;5;241m=\u001b[39m protocol\u001b[38;5;241m+\u001b[39m\u001b[38;5;124m\"\u001b[39m\u001b[38;5;124m_response\u001b[39m\u001b[38;5;124m\"\u001b[39m\n",
      "File \u001b[0;32m~/miniforge3/lib/python3.9/urllib/request.py:534\u001b[0m, in \u001b[0;36mOpenerDirector._open\u001b[0;34m(self, req, data)\u001b[0m\n\u001b[1;32m    531\u001b[0m     \u001b[38;5;28;01mreturn\u001b[39;00m result\n\u001b[1;32m    533\u001b[0m protocol \u001b[38;5;241m=\u001b[39m req\u001b[38;5;241m.\u001b[39mtype\n\u001b[0;32m--> 534\u001b[0m result \u001b[38;5;241m=\u001b[39m \u001b[38;5;28;43mself\u001b[39;49m\u001b[38;5;241;43m.\u001b[39;49m\u001b[43m_call_chain\u001b[49m\u001b[43m(\u001b[49m\u001b[38;5;28;43mself\u001b[39;49m\u001b[38;5;241;43m.\u001b[39;49m\u001b[43mhandle_open\u001b[49m\u001b[43m,\u001b[49m\u001b[43m \u001b[49m\u001b[43mprotocol\u001b[49m\u001b[43m,\u001b[49m\u001b[43m \u001b[49m\u001b[43mprotocol\u001b[49m\u001b[43m \u001b[49m\u001b[38;5;241;43m+\u001b[39;49m\n\u001b[1;32m    535\u001b[0m \u001b[43m                          \u001b[49m\u001b[38;5;124;43m'\u001b[39;49m\u001b[38;5;124;43m_open\u001b[39;49m\u001b[38;5;124;43m'\u001b[39;49m\u001b[43m,\u001b[49m\u001b[43m \u001b[49m\u001b[43mreq\u001b[49m\u001b[43m)\u001b[49m\n\u001b[1;32m    536\u001b[0m \u001b[38;5;28;01mif\u001b[39;00m result:\n\u001b[1;32m    537\u001b[0m     \u001b[38;5;28;01mreturn\u001b[39;00m result\n",
      "File \u001b[0;32m~/miniforge3/lib/python3.9/urllib/request.py:494\u001b[0m, in \u001b[0;36mOpenerDirector._call_chain\u001b[0;34m(self, chain, kind, meth_name, *args)\u001b[0m\n\u001b[1;32m    492\u001b[0m \u001b[38;5;28;01mfor\u001b[39;00m handler \u001b[38;5;129;01min\u001b[39;00m handlers:\n\u001b[1;32m    493\u001b[0m     func \u001b[38;5;241m=\u001b[39m \u001b[38;5;28mgetattr\u001b[39m(handler, meth_name)\n\u001b[0;32m--> 494\u001b[0m     result \u001b[38;5;241m=\u001b[39m \u001b[43mfunc\u001b[49m\u001b[43m(\u001b[49m\u001b[38;5;241;43m*\u001b[39;49m\u001b[43margs\u001b[49m\u001b[43m)\u001b[49m\n\u001b[1;32m    495\u001b[0m     \u001b[38;5;28;01mif\u001b[39;00m result \u001b[38;5;129;01mis\u001b[39;00m \u001b[38;5;129;01mnot\u001b[39;00m \u001b[38;5;28;01mNone\u001b[39;00m:\n\u001b[1;32m    496\u001b[0m         \u001b[38;5;28;01mreturn\u001b[39;00m result\n",
      "File \u001b[0;32m~/miniforge3/lib/python3.9/urllib/request.py:1375\u001b[0m, in \u001b[0;36mHTTPHandler.http_open\u001b[0;34m(self, req)\u001b[0m\n\u001b[1;32m   1374\u001b[0m \u001b[38;5;28;01mdef\u001b[39;00m \u001b[38;5;21mhttp_open\u001b[39m(\u001b[38;5;28mself\u001b[39m, req):\n\u001b[0;32m-> 1375\u001b[0m     \u001b[38;5;28;01mreturn\u001b[39;00m \u001b[38;5;28;43mself\u001b[39;49m\u001b[38;5;241;43m.\u001b[39;49m\u001b[43mdo_open\u001b[49m\u001b[43m(\u001b[49m\u001b[43mhttp\u001b[49m\u001b[38;5;241;43m.\u001b[39;49m\u001b[43mclient\u001b[49m\u001b[38;5;241;43m.\u001b[39;49m\u001b[43mHTTPConnection\u001b[49m\u001b[43m,\u001b[49m\u001b[43m \u001b[49m\u001b[43mreq\u001b[49m\u001b[43m)\u001b[49m\n",
      "File \u001b[0;32m~/miniforge3/lib/python3.9/urllib/request.py:1346\u001b[0m, in \u001b[0;36mAbstractHTTPHandler.do_open\u001b[0;34m(self, http_class, req, **http_conn_args)\u001b[0m\n\u001b[1;32m   1344\u001b[0m \u001b[38;5;28;01mtry\u001b[39;00m:\n\u001b[1;32m   1345\u001b[0m     \u001b[38;5;28;01mtry\u001b[39;00m:\n\u001b[0;32m-> 1346\u001b[0m         \u001b[43mh\u001b[49m\u001b[38;5;241;43m.\u001b[39;49m\u001b[43mrequest\u001b[49m\u001b[43m(\u001b[49m\u001b[43mreq\u001b[49m\u001b[38;5;241;43m.\u001b[39;49m\u001b[43mget_method\u001b[49m\u001b[43m(\u001b[49m\u001b[43m)\u001b[49m\u001b[43m,\u001b[49m\u001b[43m \u001b[49m\u001b[43mreq\u001b[49m\u001b[38;5;241;43m.\u001b[39;49m\u001b[43mselector\u001b[49m\u001b[43m,\u001b[49m\u001b[43m \u001b[49m\u001b[43mreq\u001b[49m\u001b[38;5;241;43m.\u001b[39;49m\u001b[43mdata\u001b[49m\u001b[43m,\u001b[49m\u001b[43m \u001b[49m\u001b[43mheaders\u001b[49m\u001b[43m,\u001b[49m\n\u001b[1;32m   1347\u001b[0m \u001b[43m                  \u001b[49m\u001b[43mencode_chunked\u001b[49m\u001b[38;5;241;43m=\u001b[39;49m\u001b[43mreq\u001b[49m\u001b[38;5;241;43m.\u001b[39;49m\u001b[43mhas_header\u001b[49m\u001b[43m(\u001b[49m\u001b[38;5;124;43m'\u001b[39;49m\u001b[38;5;124;43mTransfer-encoding\u001b[39;49m\u001b[38;5;124;43m'\u001b[39;49m\u001b[43m)\u001b[49m\u001b[43m)\u001b[49m\n\u001b[1;32m   1348\u001b[0m     \u001b[38;5;28;01mexcept\u001b[39;00m \u001b[38;5;167;01mOSError\u001b[39;00m \u001b[38;5;28;01mas\u001b[39;00m err: \u001b[38;5;66;03m# timeout error\u001b[39;00m\n\u001b[1;32m   1349\u001b[0m         \u001b[38;5;28;01mraise\u001b[39;00m URLError(err)\n",
      "File \u001b[0;32m~/miniforge3/lib/python3.9/http/client.py:1279\u001b[0m, in \u001b[0;36mHTTPConnection.request\u001b[0;34m(self, method, url, body, headers, encode_chunked)\u001b[0m\n\u001b[1;32m   1276\u001b[0m \u001b[38;5;28;01mdef\u001b[39;00m \u001b[38;5;21mrequest\u001b[39m(\u001b[38;5;28mself\u001b[39m, method, url, body\u001b[38;5;241m=\u001b[39m\u001b[38;5;28;01mNone\u001b[39;00m, headers\u001b[38;5;241m=\u001b[39m{}, \u001b[38;5;241m*\u001b[39m,\n\u001b[1;32m   1277\u001b[0m             encode_chunked\u001b[38;5;241m=\u001b[39m\u001b[38;5;28;01mFalse\u001b[39;00m):\n\u001b[1;32m   1278\u001b[0m     \u001b[38;5;124;03m\"\"\"Send a complete request to the server.\"\"\"\u001b[39;00m\n\u001b[0;32m-> 1279\u001b[0m     \u001b[38;5;28;43mself\u001b[39;49m\u001b[38;5;241;43m.\u001b[39;49m\u001b[43m_send_request\u001b[49m\u001b[43m(\u001b[49m\u001b[43mmethod\u001b[49m\u001b[43m,\u001b[49m\u001b[43m \u001b[49m\u001b[43murl\u001b[49m\u001b[43m,\u001b[49m\u001b[43m \u001b[49m\u001b[43mbody\u001b[49m\u001b[43m,\u001b[49m\u001b[43m \u001b[49m\u001b[43mheaders\u001b[49m\u001b[43m,\u001b[49m\u001b[43m \u001b[49m\u001b[43mencode_chunked\u001b[49m\u001b[43m)\u001b[49m\n",
      "File \u001b[0;32m~/miniforge3/lib/python3.9/http/client.py:1325\u001b[0m, in \u001b[0;36mHTTPConnection._send_request\u001b[0;34m(self, method, url, body, headers, encode_chunked)\u001b[0m\n\u001b[1;32m   1321\u001b[0m \u001b[38;5;28;01mif\u001b[39;00m \u001b[38;5;28misinstance\u001b[39m(body, \u001b[38;5;28mstr\u001b[39m):\n\u001b[1;32m   1322\u001b[0m     \u001b[38;5;66;03m# RFC 2616 Section 3.7.1 says that text default has a\u001b[39;00m\n\u001b[1;32m   1323\u001b[0m     \u001b[38;5;66;03m# default charset of iso-8859-1.\u001b[39;00m\n\u001b[1;32m   1324\u001b[0m     body \u001b[38;5;241m=\u001b[39m _encode(body, \u001b[38;5;124m'\u001b[39m\u001b[38;5;124mbody\u001b[39m\u001b[38;5;124m'\u001b[39m)\n\u001b[0;32m-> 1325\u001b[0m \u001b[38;5;28;43mself\u001b[39;49m\u001b[38;5;241;43m.\u001b[39;49m\u001b[43mendheaders\u001b[49m\u001b[43m(\u001b[49m\u001b[43mbody\u001b[49m\u001b[43m,\u001b[49m\u001b[43m \u001b[49m\u001b[43mencode_chunked\u001b[49m\u001b[38;5;241;43m=\u001b[39;49m\u001b[43mencode_chunked\u001b[49m\u001b[43m)\u001b[49m\n",
      "File \u001b[0;32m~/miniforge3/lib/python3.9/http/client.py:1274\u001b[0m, in \u001b[0;36mHTTPConnection.endheaders\u001b[0;34m(self, message_body, encode_chunked)\u001b[0m\n\u001b[1;32m   1272\u001b[0m \u001b[38;5;28;01melse\u001b[39;00m:\n\u001b[1;32m   1273\u001b[0m     \u001b[38;5;28;01mraise\u001b[39;00m CannotSendHeader()\n\u001b[0;32m-> 1274\u001b[0m \u001b[38;5;28;43mself\u001b[39;49m\u001b[38;5;241;43m.\u001b[39;49m\u001b[43m_send_output\u001b[49m\u001b[43m(\u001b[49m\u001b[43mmessage_body\u001b[49m\u001b[43m,\u001b[49m\u001b[43m \u001b[49m\u001b[43mencode_chunked\u001b[49m\u001b[38;5;241;43m=\u001b[39;49m\u001b[43mencode_chunked\u001b[49m\u001b[43m)\u001b[49m\n",
      "File \u001b[0;32m~/miniforge3/lib/python3.9/http/client.py:1034\u001b[0m, in \u001b[0;36mHTTPConnection._send_output\u001b[0;34m(self, message_body, encode_chunked)\u001b[0m\n\u001b[1;32m   1032\u001b[0m msg \u001b[38;5;241m=\u001b[39m \u001b[38;5;124mb\u001b[39m\u001b[38;5;124m\"\u001b[39m\u001b[38;5;130;01m\\r\u001b[39;00m\u001b[38;5;130;01m\\n\u001b[39;00m\u001b[38;5;124m\"\u001b[39m\u001b[38;5;241m.\u001b[39mjoin(\u001b[38;5;28mself\u001b[39m\u001b[38;5;241m.\u001b[39m_buffer)\n\u001b[1;32m   1033\u001b[0m \u001b[38;5;28;01mdel\u001b[39;00m \u001b[38;5;28mself\u001b[39m\u001b[38;5;241m.\u001b[39m_buffer[:]\n\u001b[0;32m-> 1034\u001b[0m \u001b[38;5;28;43mself\u001b[39;49m\u001b[38;5;241;43m.\u001b[39;49m\u001b[43msend\u001b[49m\u001b[43m(\u001b[49m\u001b[43mmsg\u001b[49m\u001b[43m)\u001b[49m\n\u001b[1;32m   1036\u001b[0m \u001b[38;5;28;01mif\u001b[39;00m message_body \u001b[38;5;129;01mis\u001b[39;00m \u001b[38;5;129;01mnot\u001b[39;00m \u001b[38;5;28;01mNone\u001b[39;00m:\n\u001b[1;32m   1037\u001b[0m \n\u001b[1;32m   1038\u001b[0m     \u001b[38;5;66;03m# create a consistent interface to message_body\u001b[39;00m\n\u001b[1;32m   1039\u001b[0m     \u001b[38;5;28;01mif\u001b[39;00m \u001b[38;5;28mhasattr\u001b[39m(message_body, \u001b[38;5;124m'\u001b[39m\u001b[38;5;124mread\u001b[39m\u001b[38;5;124m'\u001b[39m):\n\u001b[1;32m   1040\u001b[0m         \u001b[38;5;66;03m# Let file-like take precedence over byte-like.  This\u001b[39;00m\n\u001b[1;32m   1041\u001b[0m         \u001b[38;5;66;03m# is needed to allow the current position of mmap'ed\u001b[39;00m\n\u001b[1;32m   1042\u001b[0m         \u001b[38;5;66;03m# files to be taken into account.\u001b[39;00m\n",
      "File \u001b[0;32m~/miniforge3/lib/python3.9/http/client.py:974\u001b[0m, in \u001b[0;36mHTTPConnection.send\u001b[0;34m(self, data)\u001b[0m\n\u001b[1;32m    972\u001b[0m \u001b[38;5;28;01mif\u001b[39;00m \u001b[38;5;28mself\u001b[39m\u001b[38;5;241m.\u001b[39msock \u001b[38;5;129;01mis\u001b[39;00m \u001b[38;5;28;01mNone\u001b[39;00m:\n\u001b[1;32m    973\u001b[0m     \u001b[38;5;28;01mif\u001b[39;00m \u001b[38;5;28mself\u001b[39m\u001b[38;5;241m.\u001b[39mauto_open:\n\u001b[0;32m--> 974\u001b[0m         \u001b[38;5;28;43mself\u001b[39;49m\u001b[38;5;241;43m.\u001b[39;49m\u001b[43mconnect\u001b[49m\u001b[43m(\u001b[49m\u001b[43m)\u001b[49m\n\u001b[1;32m    975\u001b[0m     \u001b[38;5;28;01melse\u001b[39;00m:\n\u001b[1;32m    976\u001b[0m         \u001b[38;5;28;01mraise\u001b[39;00m NotConnected()\n",
      "File \u001b[0;32m~/miniforge3/lib/python3.9/http/client.py:945\u001b[0m, in \u001b[0;36mHTTPConnection.connect\u001b[0;34m(self)\u001b[0m\n\u001b[1;32m    943\u001b[0m \u001b[38;5;28;01mdef\u001b[39;00m \u001b[38;5;21mconnect\u001b[39m(\u001b[38;5;28mself\u001b[39m):\n\u001b[1;32m    944\u001b[0m     \u001b[38;5;124;03m\"\"\"Connect to the host and port specified in __init__.\"\"\"\u001b[39;00m\n\u001b[0;32m--> 945\u001b[0m     \u001b[38;5;28mself\u001b[39m\u001b[38;5;241m.\u001b[39msock \u001b[38;5;241m=\u001b[39m \u001b[38;5;28;43mself\u001b[39;49m\u001b[38;5;241;43m.\u001b[39;49m\u001b[43m_create_connection\u001b[49m\u001b[43m(\u001b[49m\n\u001b[1;32m    946\u001b[0m \u001b[43m        \u001b[49m\u001b[43m(\u001b[49m\u001b[38;5;28;43mself\u001b[39;49m\u001b[38;5;241;43m.\u001b[39;49m\u001b[43mhost\u001b[49m\u001b[43m,\u001b[49m\u001b[38;5;28;43mself\u001b[39;49m\u001b[38;5;241;43m.\u001b[39;49m\u001b[43mport\u001b[49m\u001b[43m)\u001b[49m\u001b[43m,\u001b[49m\u001b[43m \u001b[49m\u001b[38;5;28;43mself\u001b[39;49m\u001b[38;5;241;43m.\u001b[39;49m\u001b[43mtimeout\u001b[49m\u001b[43m,\u001b[49m\u001b[43m \u001b[49m\u001b[38;5;28;43mself\u001b[39;49m\u001b[38;5;241;43m.\u001b[39;49m\u001b[43msource_address\u001b[49m\u001b[43m)\u001b[49m\n\u001b[1;32m    947\u001b[0m     \u001b[38;5;28mself\u001b[39m\u001b[38;5;241m.\u001b[39msock\u001b[38;5;241m.\u001b[39msetsockopt(socket\u001b[38;5;241m.\u001b[39mIPPROTO_TCP, socket\u001b[38;5;241m.\u001b[39mTCP_NODELAY, \u001b[38;5;241m1\u001b[39m)\n\u001b[1;32m    949\u001b[0m     \u001b[38;5;28;01mif\u001b[39;00m \u001b[38;5;28mself\u001b[39m\u001b[38;5;241m.\u001b[39m_tunnel_host:\n",
      "File \u001b[0;32m~/miniforge3/lib/python3.9/socket.py:832\u001b[0m, in \u001b[0;36mcreate_connection\u001b[0;34m(address, timeout, source_address)\u001b[0m\n\u001b[1;32m    830\u001b[0m \u001b[38;5;28;01mif\u001b[39;00m source_address:\n\u001b[1;32m    831\u001b[0m     sock\u001b[38;5;241m.\u001b[39mbind(source_address)\n\u001b[0;32m--> 832\u001b[0m \u001b[43msock\u001b[49m\u001b[38;5;241;43m.\u001b[39;49m\u001b[43mconnect\u001b[49m\u001b[43m(\u001b[49m\u001b[43msa\u001b[49m\u001b[43m)\u001b[49m\n\u001b[1;32m    833\u001b[0m \u001b[38;5;66;03m# Break explicitly a reference cycle\u001b[39;00m\n\u001b[1;32m    834\u001b[0m err \u001b[38;5;241m=\u001b[39m \u001b[38;5;28;01mNone\u001b[39;00m\n",
      "\u001b[0;31mKeyboardInterrupt\u001b[0m: "
     ]
    }
   ],
   "source": [
    "import cv2\n",
    "import urllib.request\n",
    "import numpy as np\n",
    "from datetime import datetime\n",
    "\n",
    "stream = urllib.request.urlopen('http://camerag11.local/html/cam_pic.php')\n",
    "bytes = b''\n",
    "while True:\n",
    "    \n",
    "\n",
    "    curr_dt = datetime.now()\n",
    "    timestamp = int(round(curr_dt.timestamp()))\n",
    "\n",
    "#     print(\"Integer timestamp of current datetime: \",\n",
    "#       timestamp)\n",
    "    bytes += stream.read(1024)\n",
    "    a = bytes.find(b'\\xff\\xd8') #frame starting \n",
    "    b = bytes.find(b'\\xff\\xd9') #frame ending\n",
    "    if a != -1 and b != -1:\n",
    "        jpg = bytes[a:b+2]\n",
    "        bytes = bytes[b+2:]\n",
    "        img = cv2.imdecode(np.frombuffer(jpg, dtype=np.uint8), cv2.IMREAD_COLOR)\n",
    "        cv2.imshow('image', img)\n",
    "        bytes = b''\n",
    "        url = 'http://camerag11.local/html/cam_pic.php?' + str(timestamp)\n",
    "        print(url)\n",
    "        stream = urllib.request.urlopen(url)\n",
    "        \n",
    "        if cv2.waitKey(1) == 27:\n",
    "            cv2.destroyAllWindows()\n",
    "            break"
   ]
  },
  {
   "cell_type": "code",
   "execution_count": 8,
   "id": "568718dc-ae88-4478-9039-f2ccb27b432f",
   "metadata": {},
   "outputs": [
    {
     "data": {
      "application/vnd.jupyter.widget-view+json": {
       "model_id": "71b10f7d55494cdab68948638d6f6768",
       "version_major": 2,
       "version_minor": 0
      },
      "text/plain": [
       "ToggleButton(value=False)"
      ]
     },
     "metadata": {},
     "output_type": "display_data"
    },
    {
     "data": {
      "application/vnd.jupyter.widget-view+json": {
       "model_id": "f226ddcb3e444de38db190de308275ac",
       "version_major": 2,
       "version_minor": 0
      },
      "text/plain": [
       "Text(value='')"
      ]
     },
     "metadata": {},
     "output_type": "display_data"
    },
    {
     "data": {
      "application/vnd.jupyter.widget-view+json": {
       "model_id": "3c23a0d361a8405f877a07883c151dd1",
       "version_major": 2,
       "version_minor": 0
      },
      "text/plain": [
       "Text(value='')"
      ]
     },
     "metadata": {},
     "output_type": "display_data"
    },
    {
     "data": {
      "application/vnd.jupyter.widget-view+json": {
       "model_id": "0a4b7a9812b24edf8f0ff15cac8a6b2e",
       "version_major": 2,
       "version_minor": 0
      },
      "text/plain": [
       "ToggleButton(value=False, description='Stop')"
      ]
     },
     "metadata": {},
     "output_type": "display_data"
    }
   ],
   "source": [
    "%gui asyncio\n",
    "import asyncio\n",
    "import ipywidgets as widgets\n",
    "\n",
    "button = widgets.ToggleButton()\n",
    "display(button)\n",
    "text = widgets.Text()\n",
    "text_input = widgets.Text()\n",
    "display(text)\n",
    "display(text_input)\n",
    "text.value= str(button.value)\n",
    "\n",
    "stop_button = widgets.ToggleButton()\n",
    "stop_button.description = \"Stop\"\n",
    "display(stop_button)\n",
    "\n",
    "async def f():   \n",
    "    i=0\n",
    "    while True:\n",
    "        i += 1\n",
    "        #text.value = str(i) + \" \" + str(button.value)\n",
    "        if button.value == True:\n",
    "            i = 0\n",
    "            button.value = False\n",
    "            text.value = text_input.value\n",
    "        await asyncio.sleep(0.001)\n",
    "        if stop_button.value == True:\n",
    "            return\n",
    "\n",
    "asyncio.create_task(f());"
   ]
  },
  {
   "cell_type": "code",
   "execution_count": 47,
   "id": "070c500f-030d-4627-b4af-215708fe218e",
   "metadata": {},
   "outputs": [],
   "source": [
    "%gui asyncio"
   ]
  },
  {
   "cell_type": "code",
   "execution_count": 52,
   "id": "818106f2-7dea-4bdc-9ef9-6f8002d30415",
   "metadata": {},
   "outputs": [
    {
     "data": {
      "application/vnd.jupyter.widget-view+json": {
       "model_id": "86a175d33fe14ee2a581597f7a372bf7",
       "version_major": 2,
       "version_minor": 0
      },
      "text/plain": [
       "Output()"
      ]
     },
     "metadata": {},
     "output_type": "display_data"
    }
   ],
   "source": [
    "out"
   ]
  },
  {
   "cell_type": "code",
   "execution_count": 42,
   "id": "70657133-5699-4c44-90a9-8eee9d5fbe3c",
   "metadata": {},
   "outputs": [
    {
     "data": {
      "text/plain": [
       "0"
      ]
     },
     "execution_count": 42,
     "metadata": {},
     "output_type": "execute_result"
    }
   ],
   "source": [
    "take_pic"
   ]
  },
  {
   "cell_type": "code",
   "execution_count": 60,
   "id": "a7fad400-1512-4315-b1c6-31239c2f9240",
   "metadata": {},
   "outputs": [
    {
     "ename": "NameError",
     "evalue": "name 'x' is not defined",
     "output_type": "error",
     "traceback": [
      "\u001b[0;31m---------------------------------------------------------------------------\u001b[0m",
      "\u001b[0;31mNameError\u001b[0m                                 Traceback (most recent call last)",
      "Input \u001b[0;32mIn [60]\u001b[0m, in \u001b[0;36m<cell line: 1>\u001b[0;34m()\u001b[0m\n\u001b[0;32m----> 1\u001b[0m \u001b[43mx\u001b[49m\n",
      "\u001b[0;31mNameError\u001b[0m: name 'x' is not defined"
     ]
    }
   ],
   "source": [
    "x"
   ]
  },
  {
   "cell_type": "code",
   "execution_count": null,
   "id": "22ca9880-53fc-4e60-9ae6-efc23b167fac",
   "metadata": {},
   "outputs": [],
   "source": []
  }
 ],
 "metadata": {
  "kernelspec": {
   "display_name": "Python 3 (ipykernel)",
   "language": "python",
   "name": "python3"
  },
  "language_info": {
   "codemirror_mode": {
    "name": "ipython",
    "version": 3
   },
   "file_extension": ".py",
   "mimetype": "text/x-python",
   "name": "python",
   "nbconvert_exporter": "python",
   "pygments_lexer": "ipython3",
   "version": "3.9.7"
  }
 },
 "nbformat": 4,
 "nbformat_minor": 5
}
