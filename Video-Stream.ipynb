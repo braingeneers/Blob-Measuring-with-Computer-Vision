{
 "cells": [
  {
   "cell_type": "code",
   "execution_count": 3,
   "id": "f13c298e",
   "metadata": {},
   "outputs": [
    {
     "name": "stdout",
     "output_type": "stream",
     "text": [
      "Collecting imutils\n",
      "  Using cached imutils-0.5.4-py3-none-any.whl\n",
      "Installing collected packages: imutils\n",
      "Successfully installed imutils-0.5.4\n"
     ]
    }
   ],
   "source": [
    "!pip install imutils"
   ]
  },
  {
   "cell_type": "code",
   "execution_count": 20,
   "id": "9840f16c-ffdf-49da-b64b-f7b4990dcb38",
   "metadata": {},
   "outputs": [
    {
     "name": "stdout",
     "output_type": "stream",
     "text": [
      "Collecting package metadata (current_repodata.json): done\n",
      "Solving environment: done\n",
      "\n",
      "## Package Plan ##\n",
      "\n",
      "  environment location: /Users/pierre/miniforge3\n",
      "\n",
      "  added / updated specs:\n",
      "    - ipywidgets\n",
      "\n",
      "\n",
      "The following packages will be downloaded:\n",
      "\n",
      "    package                    |            build\n",
      "    ---------------------------|-----------------\n",
      "    conda-4.13.0               |   py39h2804cbe_1         992 KB  conda-forge\n",
      "    ------------------------------------------------------------\n",
      "                                           Total:         992 KB\n",
      "\n",
      "The following packages will be UPDATED:\n",
      "\n",
      "  conda                               4.12.0-py39h2804cbe_0 --> 4.13.0-py39h2804cbe_1\n",
      "\n",
      "\n",
      "\n",
      "Downloading and Extracting Packages\n",
      "conda-4.13.0         | 992 KB    | ##################################### | 100% \n",
      "Preparing transaction: done\n",
      "Verifying transaction: | WARNING conda.core.path_actions:verify(957): Unable to create environments file. Path not writable.\n",
      "  environment location: /Users/pierre/.conda/environments.txt\n",
      "\n",
      "done\n",
      "Executing transaction: \\ WARNING conda.core.envs_manager:register_env(50): Unable to register environment. Path not writable or missing.\n",
      "  environment location: /Users/pierre/miniforge3\n",
      "  registry file: /Users/pierre/.conda/environments.txt\n",
      "done\n"
     ]
    }
   ],
   "source": [
    "!conda install -c conda-forge ipywidgets -y"
   ]
  },
  {
   "cell_type": "code",
   "execution_count": 10,
   "id": "31d96db5",
   "metadata": {},
   "outputs": [],
   "source": [
    "#https://pyimagesearch.com/2015/09/14/ball-tracking-with-opencv/\n",
    "\n",
    "# import the necessary packages\n",
    "from collections import deque\n",
    "from imutils.video import VideoStream\n",
    "import numpy as np\n",
    "import argparse\n",
    "import cv2\n",
    "import imutils\n",
    "import time\n",
    "from matplotlib import pyplot as plt\n",
    "from math import sqrt\n",
    "import urllib.request\n",
    "from datetime import datetime\n",
    "import ipywidgets as widgets\n",
    "# construct the argument parse and parse the arguments\n",
    "ap = argparse.ArgumentParser()\n",
    "ap.add_argument(\"-v\", \"--video\", help=\"path to the (optional) video file\");\n",
    "ap.add_argument(\"-b\", \"--buffer\", type=int, default=64, help=\"max buffer size\");\n",
    "#args = vars(ap.parse_args())\n",
    "buffer = 64\n",
    "# define the lower and upper boundaries of the \"green\"\n",
    "# ball in the HSV color space, then initialize the\n",
    "# list of tracked points\n",
    "greenLower = (29, 86, 6)\n",
    "greenUpper = (64, 255, 255)\n",
    "\n",
    "#pts = deque(maxlen=args[\"buffer\"])\n",
    "pts = deque(maxlen = buffer)\n",
    "\n",
    "# if a video path was not supplied, grab the reference\n",
    "# to the webcam\n",
    "# if not args.get(\"video\", False):\n",
    "#     vs = VideoStream(src=0).start()\n",
    "# # otherwise, grab a reference to the video file\n",
    "# else:\n",
    "#     vs = cv2.VideoCapture(args[\"video\"])\n",
    "\n",
    "#vs = VideoStream(src=\"rtsp://advancedcameranode.local:8554/cam\").start()\n",
    "\n",
    "#vs = VideoStream(src=\"http://camerag11.local/html/min.php\").start()\n",
    "# allow the camera or video file to warm up\n",
    "#time.sleep(2.0)\n",
    "# from IPython.display import display\n",
    "# take_pic = 0\n",
    "# button = widgets.Button(description=\"Click Me!\")\n",
    "# output = widgets.Output()\n",
    "\n",
    "# display(button, output)\n",
    "# def on_button_clicked(b):\n",
    "#     with output:\n",
    "#         take_pic += 1\n",
    "#         print(\"Button clicked.\")\n",
    "#         print(str(take_pic))\n",
    "\n",
    "# button.on_click(on_button_clicked)\n"
   ]
  },
  {
   "cell_type": "code",
   "execution_count": 22,
   "id": "9c812cbf",
   "metadata": {},
   "outputs": [
    {
     "data": {
      "application/vnd.jupyter.widget-view+json": {
       "model_id": "9706a99e4a704f879b3a67d0fba0ee93",
       "version_major": 2,
       "version_minor": 0
      },
      "text/plain": [
       "ToggleButton(value=False)"
      ]
     },
     "metadata": {},
     "output_type": "display_data"
    },
    {
     "data": {
      "application/vnd.jupyter.widget-view+json": {
       "model_id": "09761f279ccd4a4eaae94a36aa91dd76",
       "version_major": 2,
       "version_minor": 0
      },
      "text/plain": [
       "Text(value='')"
      ]
     },
     "metadata": {},
     "output_type": "display_data"
    },
    {
     "data": {
      "application/vnd.jupyter.widget-view+json": {
       "model_id": "8cdb47a825b24d0d99743d0ff70d4bb7",
       "version_major": 2,
       "version_minor": 0
      },
      "text/plain": [
       "Text(value='')"
      ]
     },
     "metadata": {},
     "output_type": "display_data"
    },
    {
     "data": {
      "application/vnd.jupyter.widget-view+json": {
       "model_id": "da68e3cae08f463589a06e9723366216",
       "version_major": 2,
       "version_minor": 0
      },
      "text/plain": [
       "ToggleButton(value=False, description='Stop')"
      ]
     },
     "metadata": {},
     "output_type": "display_data"
    }
   ],
   "source": [
    "%gui asyncio\n",
    "import asyncio\n",
    "import ipywidgets as widgets\n",
    "import os\n",
    "\n",
    "button = widgets.ToggleButton()\n",
    "display(button)\n",
    "text = widgets.Text()\n",
    "text_input = widgets.Text()\n",
    "display(text)\n",
    "display(text_input)\n",
    "text.value= str(button.value)\n",
    "\n",
    "stop_button = widgets.ToggleButton()\n",
    "stop_button.description = \"Stop\"\n",
    "display(stop_button)\n",
    "\n",
    "\n",
    "async def f():   \n",
    "    i=0\n",
    "    stream = urllib.request.urlopen('http://camerag11.local/html/cam_pic.php')\n",
    "    image_dir = \"/Users/pierre/Pictures/biology/Blob-Measuring/Level-Measurement-Experiment/stream-captures/\"\n",
    "    bytes = b''\n",
    "    #os.chdir(image_dir)\n",
    "    while True:\n",
    "\n",
    "\n",
    "\n",
    "    # keep looping\n",
    "    #while True:\n",
    "        # grab the current frame\n",
    "        #frame = vs.read()\n",
    "        # handle the frame from VideoCapture or VideoStream\n",
    "        #frame = frame[1] if args.get(\"video\", False) else frame\n",
    "        # if we are viewing a video and we did not grab a frame,\n",
    "        # then we have reached the end of the video\n",
    "        # if frame is None:\n",
    "        #     break\n",
    "        curr_dt = datetime.now()\n",
    "        timestamp = int(round(curr_dt.timestamp()))\n",
    "\n",
    "    #     print(\"Integer timestamp of current datetime: \",\n",
    "    #       timestamp)\n",
    "        bytes += stream.read(1024)\n",
    "        a = bytes.find(b'\\xff\\xd8') #frame starting \n",
    "        b = bytes.find(b'\\xff\\xd9') #frame ending\n",
    "        if a != -1 and b != -1:\n",
    "            jpg = bytes[a:b+2]\n",
    "            bytes = bytes[b+2:]\n",
    "            frame = cv2.imdecode(np.frombuffer(jpg, dtype=np.uint8), cv2.IMREAD_COLOR)\n",
    "            #cv2.imshow('image', img)\n",
    "            bytes = b''\n",
    "            url = 'http://camerag11.local/html/cam_pic.php?' + str(timestamp)\n",
    "            #print(url)\n",
    "            stream = urllib.request.urlopen(url)\n",
    "        #     plt.imshow(frame)\n",
    "        #     plt.show() \n",
    "            # resize the frame, blur it, and convert it to the HSV\n",
    "            # color space\n",
    "            #frame = imutils.resize(frame, width=600)\n",
    "\n",
    "\n",
    "            #my stuff\n",
    "            #frame = imutils.resize(frame, width=600)\n",
    "            gray = cv2.cvtColor(frame, cv2.COLOR_BGR2GRAY)\n",
    "            gray_blurred = cv2.medianBlur(gray,91)\n",
    "            ret, thresh = cv2.threshold(gray_blurred, 130, 255, cv2.THRESH_BINARY_INV)\n",
    "            #end my stuff\n",
    "\n",
    "            # blurred = cv2.GaussianBlur(frame, (11, 11), 0)\n",
    "            # hsv = cv2.cvtColor(blurred, cv2.COLOR_BGR2HSV)\n",
    "\n",
    "\n",
    "            # construct a mask for the color \"green\", then perform\n",
    "            # a series of dilations and erosions to remove any small\n",
    "            # blobs left in the mask\n",
    "            # mask = cv2.inRange(hsv, greenLower, greenUpper)\n",
    "            # mask = cv2.erode(mask, None, iterations=2)\n",
    "            # mask = cv2.dilate(mask, None, iterations=2)\n",
    "\n",
    "                # find contours in the mask and initialize the current\n",
    "            # (x, y) center of the ball\n",
    "            # cnts = cv2.findContours(mask.copy(), cv2.RETR_EXTERNAL,\n",
    "            #     cv2.CHAIN_APPROX_SIMPLE)\n",
    "            # cnts = imutils.grab_contours(cnts)\n",
    "            # center = None\n",
    "\n",
    "            perimeter = \"boof\"\n",
    "            try:\n",
    "                        #my stuff\n",
    "                contours,hierarchy = cv2.findContours(thresh, 1, 2)\n",
    "                threshold_area = 80000     #threshold area \n",
    "                contours, hierarchy = cv2.findContours(thresh,1,2)  \n",
    "                # cnt = contours[0]\n",
    "                for cntr in contours:        \n",
    "                    area = cv2.contourArea(cntr)         \n",
    "                    if area > threshold_area:\n",
    "                        cnt = cntr\n",
    "                        break\n",
    "                # cnt = contours[0]\n",
    "                # M = cv2.moments(cnt)\n",
    "\n",
    "                ellipse = cv2.fitEllipse(cnt)\n",
    "                cv2.ellipse(frame,ellipse,(0,255,0),5)\n",
    "\n",
    "                (a,b) = ellipse[1]\n",
    "                perimeter = (2 * 3.14 *\n",
    "                    sqrt((a * a + b * b) /\n",
    "                               (2 * 1.0)));\n",
    "\n",
    "            except:\n",
    "                pass\n",
    "\n",
    "            # font\n",
    "            font = cv2.FONT_HERSHEY_SIMPLEX\n",
    "            # org\n",
    "            org = (50, 50)\n",
    "            # fontScale\n",
    "            fontScale = 1\n",
    "            # Blue color in BGR\n",
    "            color = (255, 255, 255)\n",
    "            # Line thickness of 2 px\n",
    "            thickness = 2\n",
    "            # Using cv2.putText() method\n",
    "            display_frame = cv2.putText(frame, str(cv2.contourArea(cnt)), org, font, \n",
    "                               fontScale, color, thickness, cv2.LINE_AA)\n",
    "            #end my stuff\n",
    "\n",
    "\n",
    "            # only proceed if at least one contour was found\n",
    "            # if len(cnts) > 0:\n",
    "            #     # find the largest contour in the mask, then use\n",
    "            #     # it to compute the minimum enclosing circle and\n",
    "            #     # centroid\n",
    "            #     c = max(cnts, key=cv2.contourArea)\n",
    "            #     ((x, y), radius) = cv2.minEnclosingCircle(c)\n",
    "            #     M = cv2.moments(c)\n",
    "            #     center = (int(M[\"m10\"] / M[\"m00\"]), int(M[\"m01\"] / M[\"m00\"]))\n",
    "            #     # only proceed if the radius meets a minimum size\n",
    "            #     if radius > 10:\n",
    "            #         # draw the circle and centroid on the frame,\n",
    "            #         # then update the list of tracked points\n",
    "            #         cv2.circle(frame, (int(x), int(y)), int(radius),\n",
    "            #             (0, 255, 255), 2)\n",
    "            #         cv2.circle(frame, center, 5, (0, 0, 255), -1)\n",
    "            # # update the points queue\n",
    "            # pts.appendleft(center)\n",
    "            #     # loop over the set of tracked points\n",
    "            # for i in range(1, len(pts)):\n",
    "            #     # if either of the tracked points are None, ignore\n",
    "            #     # them\n",
    "            #     if pts[i - 1] is None or pts[i] is None:\n",
    "            #         continue\n",
    "            #     # otherwise, compute the thickness of the line and\n",
    "            #     # draw the connecting lines\n",
    "            #     thickness = int(np.sqrt(64 / float(i + 1)) * 2.5)\n",
    "            #     cv2.line(frame, pts[i - 1], pts[i], (0, 0, 255), thickness)\n",
    "            # show the frame to our screen\n",
    "            cv2.imshow(\"Frame\", display_frame)\n",
    "            #print(\"foo\")\n",
    "            key = cv2.waitKey(1) & 0xFF\n",
    "            # # if the 'q' key is pressed, stop the loop\n",
    "            # if key == ord(\"q\"):\n",
    "            #     break\n",
    "            i += 1\n",
    "        #text.value = str(i) + \" \" + str(button.value)\n",
    "            if button.value == True:\n",
    "                i = 0\n",
    "                button.value = False\n",
    "                text.value = text_input.value\n",
    "                cv2.imwrite(image_dir+str(i)+\".jpg\",display_frame)\n",
    "            await asyncio.sleep(0.001)\n",
    "            if stop_button.value == True:\n",
    "                cv2.destroyAllWindows()\n",
    "                return\n",
    "        \n",
    "asyncio.create_task(f());\n",
    "# if we are not using a video file, stop the camera video stream\n",
    "# if not args.get(\"video\", False):\n",
    "#     vs.stop()\n",
    "# # otherwise, release the camera\n",
    "# else:\n",
    "#     vs.release()\n",
    "# # close all windows\n",
    "# cv2.destroyAllWindows()\n"
   ]
  },
  {
   "cell_type": "code",
   "execution_count": null,
   "id": "ad294d64",
   "metadata": {},
   "outputs": [
    {
     "name": "stdout",
     "output_type": "stream",
     "text": [
      "http://camerag11.local/html/cam_pic.php?1654048949\n",
      "http://camerag11.local/html/cam_pic.php?1654048949\n",
      "http://camerag11.local/html/cam_pic.php?1654048949\n",
      "http://camerag11.local/html/cam_pic.php?1654048949\n",
      "http://camerag11.local/html/cam_pic.php?1654048949\n",
      "http://camerag11.local/html/cam_pic.php?1654048949\n",
      "http://camerag11.local/html/cam_pic.php?1654048949\n",
      "http://camerag11.local/html/cam_pic.php?1654048949\n",
      "http://camerag11.local/html/cam_pic.php?1654048949\n",
      "http://camerag11.local/html/cam_pic.php?1654048949\n",
      "http://camerag11.local/html/cam_pic.php?1654048949\n",
      "http://camerag11.local/html/cam_pic.php?1654048950\n",
      "http://camerag11.local/html/cam_pic.php?1654048950\n",
      "http://camerag11.local/html/cam_pic.php?1654048950\n",
      "http://camerag11.local/html/cam_pic.php?1654048950\n",
      "http://camerag11.local/html/cam_pic.php?1654048950\n",
      "http://camerag11.local/html/cam_pic.php?1654048950\n",
      "http://camerag11.local/html/cam_pic.php?1654048950\n",
      "http://camerag11.local/html/cam_pic.php?1654048950\n",
      "http://camerag11.local/html/cam_pic.php?1654048950\n",
      "http://camerag11.local/html/cam_pic.php?1654048950\n",
      "http://camerag11.local/html/cam_pic.php?1654048950\n",
      "http://camerag11.local/html/cam_pic.php?1654048950\n",
      "http://camerag11.local/html/cam_pic.php?1654048950\n",
      "http://camerag11.local/html/cam_pic.php?1654048950\n",
      "http://camerag11.local/html/cam_pic.php?1654048950\n",
      "http://camerag11.local/html/cam_pic.php?1654048950\n",
      "http://camerag11.local/html/cam_pic.php?1654048950\n",
      "http://camerag11.local/html/cam_pic.php?1654048950\n",
      "http://camerag11.local/html/cam_pic.php?1654048950\n",
      "http://camerag11.local/html/cam_pic.php?1654048950\n",
      "http://camerag11.local/html/cam_pic.php?1654048950\n",
      "http://camerag11.local/html/cam_pic.php?1654048950\n",
      "http://camerag11.local/html/cam_pic.php?1654048951\n",
      "http://camerag11.local/html/cam_pic.php?1654048951\n",
      "http://camerag11.local/html/cam_pic.php?1654048951\n",
      "http://camerag11.local/html/cam_pic.php?1654048951\n",
      "http://camerag11.local/html/cam_pic.php?1654048951\n",
      "http://camerag11.local/html/cam_pic.php?1654048951\n",
      "http://camerag11.local/html/cam_pic.php?1654048951\n",
      "http://camerag11.local/html/cam_pic.php?1654048951\n",
      "http://camerag11.local/html/cam_pic.php?1654048951\n",
      "http://camerag11.local/html/cam_pic.php?1654048951\n",
      "http://camerag11.local/html/cam_pic.php?1654048951\n",
      "http://camerag11.local/html/cam_pic.php?1654048951\n",
      "http://camerag11.local/html/cam_pic.php?1654048951\n",
      "http://camerag11.local/html/cam_pic.php?1654048951\n",
      "http://camerag11.local/html/cam_pic.php?1654048951\n",
      "http://camerag11.local/html/cam_pic.php?1654048951\n",
      "http://camerag11.local/html/cam_pic.php?1654048951\n",
      "http://camerag11.local/html/cam_pic.php?1654048951\n",
      "http://camerag11.local/html/cam_pic.php?1654048951\n",
      "http://camerag11.local/html/cam_pic.php?1654048951\n",
      "http://camerag11.local/html/cam_pic.php?1654048951\n",
      "http://camerag11.local/html/cam_pic.php?1654048951\n",
      "http://camerag11.local/html/cam_pic.php?1654048951\n",
      "http://camerag11.local/html/cam_pic.php?1654048952\n",
      "http://camerag11.local/html/cam_pic.php?1654048952\n",
      "http://camerag11.local/html/cam_pic.php?1654048952\n",
      "http://camerag11.local/html/cam_pic.php?1654048952\n",
      "http://camerag11.local/html/cam_pic.php?1654048952\n",
      "http://camerag11.local/html/cam_pic.php?1654048952\n",
      "http://camerag11.local/html/cam_pic.php?1654048952\n",
      "http://camerag11.local/html/cam_pic.php?1654048952\n",
      "http://camerag11.local/html/cam_pic.php?1654048952\n",
      "http://camerag11.local/html/cam_pic.php?1654048952\n",
      "http://camerag11.local/html/cam_pic.php?1654048952\n",
      "http://camerag11.local/html/cam_pic.php?1654048952\n",
      "http://camerag11.local/html/cam_pic.php?1654048952\n",
      "http://camerag11.local/html/cam_pic.php?1654048952\n",
      "http://camerag11.local/html/cam_pic.php?1654048952\n",
      "http://camerag11.local/html/cam_pic.php?1654048952\n",
      "http://camerag11.local/html/cam_pic.php?1654048952\n",
      "http://camerag11.local/html/cam_pic.php?1654048952\n",
      "http://camerag11.local/html/cam_pic.php?1654048952\n",
      "http://camerag11.local/html/cam_pic.php?1654048952\n",
      "http://camerag11.local/html/cam_pic.php?1654048952\n",
      "http://camerag11.local/html/cam_pic.php?1654048952\n",
      "http://camerag11.local/html/cam_pic.php?1654048952\n",
      "http://camerag11.local/html/cam_pic.php?1654048953\n",
      "http://camerag11.local/html/cam_pic.php?1654048953\n",
      "http://camerag11.local/html/cam_pic.php?1654048953\n",
      "http://camerag11.local/html/cam_pic.php?1654048953\n",
      "http://camerag11.local/html/cam_pic.php?1654048953\n",
      "http://camerag11.local/html/cam_pic.php?1654048953\n",
      "http://camerag11.local/html/cam_pic.php?1654048953\n",
      "http://camerag11.local/html/cam_pic.php?1654048953\n",
      "http://camerag11.local/html/cam_pic.php?1654048953\n",
      "http://camerag11.local/html/cam_pic.php?1654048953\n",
      "http://camerag11.local/html/cam_pic.php?1654048953\n",
      "http://camerag11.local/html/cam_pic.php?1654048953\n",
      "http://camerag11.local/html/cam_pic.php?1654048953\n",
      "http://camerag11.local/html/cam_pic.php?1654048953\n",
      "http://camerag11.local/html/cam_pic.php?1654048953\n",
      "http://camerag11.local/html/cam_pic.php?1654048953\n",
      "http://camerag11.local/html/cam_pic.php?1654048953\n",
      "http://camerag11.local/html/cam_pic.php?1654048953\n",
      "http://camerag11.local/html/cam_pic.php?1654048953\n",
      "http://camerag11.local/html/cam_pic.php?1654048953\n",
      "http://camerag11.local/html/cam_pic.php?1654048953\n",
      "http://camerag11.local/html/cam_pic.php?1654048953\n",
      "http://camerag11.local/html/cam_pic.php?1654048953\n",
      "http://camerag11.local/html/cam_pic.php?1654048953\n",
      "http://camerag11.local/html/cam_pic.php?1654048954\n",
      "http://camerag11.local/html/cam_pic.php?1654048954\n",
      "http://camerag11.local/html/cam_pic.php?1654048954\n",
      "http://camerag11.local/html/cam_pic.php?1654048954\n",
      "http://camerag11.local/html/cam_pic.php?1654048954\n",
      "http://camerag11.local/html/cam_pic.php?1654048954\n",
      "http://camerag11.local/html/cam_pic.php?1654048954\n",
      "http://camerag11.local/html/cam_pic.php?1654048954\n",
      "http://camerag11.local/html/cam_pic.php?1654048954\n",
      "http://camerag11.local/html/cam_pic.php?1654048954\n",
      "http://camerag11.local/html/cam_pic.php?1654048954\n",
      "http://camerag11.local/html/cam_pic.php?1654048954\n",
      "http://camerag11.local/html/cam_pic.php?1654048954\n",
      "http://camerag11.local/html/cam_pic.php?1654048954\n",
      "http://camerag11.local/html/cam_pic.php?1654048954\n",
      "http://camerag11.local/html/cam_pic.php?1654048954\n",
      "http://camerag11.local/html/cam_pic.php?1654048954\n",
      "http://camerag11.local/html/cam_pic.php?1654048954\n",
      "http://camerag11.local/html/cam_pic.php?1654048954\n",
      "http://camerag11.local/html/cam_pic.php?1654048954\n",
      "http://camerag11.local/html/cam_pic.php?1654048954\n",
      "http://camerag11.local/html/cam_pic.php?1654048954\n",
      "http://camerag11.local/html/cam_pic.php?1654048955\n",
      "http://camerag11.local/html/cam_pic.php?1654048955\n",
      "http://camerag11.local/html/cam_pic.php?1654048955\n",
      "http://camerag11.local/html/cam_pic.php?1654048955\n",
      "http://camerag11.local/html/cam_pic.php?1654048955\n",
      "http://camerag11.local/html/cam_pic.php?1654048955\n",
      "http://camerag11.local/html/cam_pic.php?1654048955\n",
      "http://camerag11.local/html/cam_pic.php?1654048955\n",
      "http://camerag11.local/html/cam_pic.php?1654048955\n",
      "http://camerag11.local/html/cam_pic.php?1654048955\n",
      "http://camerag11.local/html/cam_pic.php?1654048955\n",
      "http://camerag11.local/html/cam_pic.php?1654048955\n",
      "http://camerag11.local/html/cam_pic.php?1654048955\n",
      "http://camerag11.local/html/cam_pic.php?1654048955\n",
      "http://camerag11.local/html/cam_pic.php?1654048955\n",
      "http://camerag11.local/html/cam_pic.php?1654048955\n",
      "http://camerag11.local/html/cam_pic.php?1654048955\n",
      "http://camerag11.local/html/cam_pic.php?1654048955\n",
      "http://camerag11.local/html/cam_pic.php?1654048955\n",
      "http://camerag11.local/html/cam_pic.php?1654048955\n",
      "http://camerag11.local/html/cam_pic.php?1654048955\n",
      "http://camerag11.local/html/cam_pic.php?1654048955\n",
      "http://camerag11.local/html/cam_pic.php?1654048956\n",
      "http://camerag11.local/html/cam_pic.php?1654048956\n",
      "http://camerag11.local/html/cam_pic.php?1654048956\n",
      "http://camerag11.local/html/cam_pic.php?1654048956\n",
      "http://camerag11.local/html/cam_pic.php?1654048956\n",
      "http://camerag11.local/html/cam_pic.php?1654048956\n",
      "http://camerag11.local/html/cam_pic.php?1654048956\n",
      "http://camerag11.local/html/cam_pic.php?1654048956\n",
      "http://camerag11.local/html/cam_pic.php?1654048956\n",
      "http://camerag11.local/html/cam_pic.php?1654048956\n",
      "http://camerag11.local/html/cam_pic.php?1654048956\n",
      "http://camerag11.local/html/cam_pic.php?1654048956\n",
      "http://camerag11.local/html/cam_pic.php?1654048956\n",
      "http://camerag11.local/html/cam_pic.php?1654048956\n",
      "http://camerag11.local/html/cam_pic.php?1654048956\n",
      "http://camerag11.local/html/cam_pic.php?1654048956\n",
      "http://camerag11.local/html/cam_pic.php?1654048956\n",
      "http://camerag11.local/html/cam_pic.php?1654048956\n",
      "http://camerag11.local/html/cam_pic.php?1654048956\n",
      "http://camerag11.local/html/cam_pic.php?1654048956\n",
      "http://camerag11.local/html/cam_pic.php?1654048956\n",
      "http://camerag11.local/html/cam_pic.php?1654048956\n",
      "http://camerag11.local/html/cam_pic.php?1654048956\n",
      "http://camerag11.local/html/cam_pic.php?1654048956\n",
      "http://camerag11.local/html/cam_pic.php?1654048957\n",
      "http://camerag11.local/html/cam_pic.php?1654048957\n",
      "http://camerag11.local/html/cam_pic.php?1654048957\n",
      "http://camerag11.local/html/cam_pic.php?1654048957\n",
      "http://camerag11.local/html/cam_pic.php?1654048957\n",
      "http://camerag11.local/html/cam_pic.php?1654048957\n",
      "http://camerag11.local/html/cam_pic.php?1654048957\n",
      "http://camerag11.local/html/cam_pic.php?1654048957\n"
     ]
    }
   ],
   "source": [
    "import cv2\n",
    "import urllib.request\n",
    "import numpy as np\n",
    "from datetime import datetime\n",
    "\n",
    "stream = urllib.request.urlopen('http://camerag11.local/html/cam_pic.php')\n",
    "bytes = b''\n",
    "while True:\n",
    "    \n",
    "\n",
    "    curr_dt = datetime.now()\n",
    "    timestamp = int(round(curr_dt.timestamp()))\n",
    "\n",
    "#     print(\"Integer timestamp of current datetime: \",\n",
    "#       timestamp)\n",
    "    bytes += stream.read(1024)\n",
    "    a = bytes.find(b'\\xff\\xd8') #frame starting \n",
    "    b = bytes.find(b'\\xff\\xd9') #frame ending\n",
    "    if a != -1 and b != -1:\n",
    "        jpg = bytes[a:b+2]\n",
    "        bytes = bytes[b+2:]\n",
    "        img = cv2.imdecode(np.frombuffer(jpg, dtype=np.uint8), cv2.IMREAD_COLOR)\n",
    "        cv2.imshow('image', img)\n",
    "        bytes = b''\n",
    "        url = 'http://camerag11.local/html/cam_pic.php?' + str(timestamp)\n",
    "        print(url)\n",
    "        stream = urllib.request.urlopen(url)\n",
    "        \n",
    "        if cv2.waitKey(1) == 27:\n",
    "            cv2.destroyAllWindows()\n",
    "            break"
   ]
  },
  {
   "cell_type": "code",
   "execution_count": 8,
   "id": "568718dc-ae88-4478-9039-f2ccb27b432f",
   "metadata": {},
   "outputs": [
    {
     "data": {
      "application/vnd.jupyter.widget-view+json": {
       "model_id": "71b10f7d55494cdab68948638d6f6768",
       "version_major": 2,
       "version_minor": 0
      },
      "text/plain": [
       "ToggleButton(value=False)"
      ]
     },
     "metadata": {},
     "output_type": "display_data"
    },
    {
     "data": {
      "application/vnd.jupyter.widget-view+json": {
       "model_id": "f226ddcb3e444de38db190de308275ac",
       "version_major": 2,
       "version_minor": 0
      },
      "text/plain": [
       "Text(value='')"
      ]
     },
     "metadata": {},
     "output_type": "display_data"
    },
    {
     "data": {
      "application/vnd.jupyter.widget-view+json": {
       "model_id": "3c23a0d361a8405f877a07883c151dd1",
       "version_major": 2,
       "version_minor": 0
      },
      "text/plain": [
       "Text(value='')"
      ]
     },
     "metadata": {},
     "output_type": "display_data"
    },
    {
     "data": {
      "application/vnd.jupyter.widget-view+json": {
       "model_id": "0a4b7a9812b24edf8f0ff15cac8a6b2e",
       "version_major": 2,
       "version_minor": 0
      },
      "text/plain": [
       "ToggleButton(value=False, description='Stop')"
      ]
     },
     "metadata": {},
     "output_type": "display_data"
    }
   ],
   "source": [
    "%gui asyncio\n",
    "import asyncio\n",
    "import ipywidgets as widgets\n",
    "\n",
    "button = widgets.ToggleButton()\n",
    "display(button)\n",
    "text = widgets.Text()\n",
    "text_input = widgets.Text()\n",
    "display(text)\n",
    "display(text_input)\n",
    "text.value= str(button.value)\n",
    "\n",
    "stop_button = widgets.ToggleButton()\n",
    "stop_button.description = \"Stop\"\n",
    "display(stop_button)\n",
    "\n",
    "async def f():   \n",
    "    i=0\n",
    "    while True:\n",
    "        i += 1\n",
    "        #text.value = str(i) + \" \" + str(button.value)\n",
    "        if button.value == True:\n",
    "            i = 0\n",
    "            button.value = False\n",
    "            text.value = text_input.value\n",
    "        await asyncio.sleep(0.001)\n",
    "        if stop_button.value == True:\n",
    "            return\n",
    "\n",
    "asyncio.create_task(f());"
   ]
  },
  {
   "cell_type": "code",
   "execution_count": 47,
   "id": "070c500f-030d-4627-b4af-215708fe218e",
   "metadata": {},
   "outputs": [],
   "source": [
    "%gui asyncio"
   ]
  },
  {
   "cell_type": "code",
   "execution_count": 52,
   "id": "818106f2-7dea-4bdc-9ef9-6f8002d30415",
   "metadata": {},
   "outputs": [
    {
     "data": {
      "application/vnd.jupyter.widget-view+json": {
       "model_id": "86a175d33fe14ee2a581597f7a372bf7",
       "version_major": 2,
       "version_minor": 0
      },
      "text/plain": [
       "Output()"
      ]
     },
     "metadata": {},
     "output_type": "display_data"
    }
   ],
   "source": [
    "out"
   ]
  },
  {
   "cell_type": "code",
   "execution_count": 42,
   "id": "70657133-5699-4c44-90a9-8eee9d5fbe3c",
   "metadata": {},
   "outputs": [
    {
     "data": {
      "text/plain": [
       "0"
      ]
     },
     "execution_count": 42,
     "metadata": {},
     "output_type": "execute_result"
    }
   ],
   "source": [
    "take_pic"
   ]
  },
  {
   "cell_type": "code",
   "execution_count": 60,
   "id": "a7fad400-1512-4315-b1c6-31239c2f9240",
   "metadata": {},
   "outputs": [
    {
     "ename": "NameError",
     "evalue": "name 'x' is not defined",
     "output_type": "error",
     "traceback": [
      "\u001b[0;31m---------------------------------------------------------------------------\u001b[0m",
      "\u001b[0;31mNameError\u001b[0m                                 Traceback (most recent call last)",
      "Input \u001b[0;32mIn [60]\u001b[0m, in \u001b[0;36m<cell line: 1>\u001b[0;34m()\u001b[0m\n\u001b[0;32m----> 1\u001b[0m \u001b[43mx\u001b[49m\n",
      "\u001b[0;31mNameError\u001b[0m: name 'x' is not defined"
     ]
    }
   ],
   "source": [
    "x"
   ]
  },
  {
   "cell_type": "code",
   "execution_count": null,
   "id": "22ca9880-53fc-4e60-9ae6-efc23b167fac",
   "metadata": {},
   "outputs": [],
   "source": []
  }
 ],
 "metadata": {
  "kernelspec": {
   "display_name": "Python 3 (ipykernel)",
   "language": "python",
   "name": "python3"
  },
  "language_info": {
   "codemirror_mode": {
    "name": "ipython",
    "version": 3
   },
   "file_extension": ".py",
   "mimetype": "text/x-python",
   "name": "python",
   "nbconvert_exporter": "python",
   "pygments_lexer": "ipython3",
   "version": "3.9.7"
  }
 },
 "nbformat": 4,
 "nbformat_minor": 5
}
