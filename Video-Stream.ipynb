{
 "cells": [
  {
   "cell_type": "code",
   "execution_count": null,
   "id": "f13c298e",
   "metadata": {},
   "outputs": [],
   "source": [
    "# !pip install imutils"
   ]
  },
  {
   "cell_type": "code",
   "execution_count": null,
   "id": "9840f16c-ffdf-49da-b64b-f7b4990dcb38",
   "metadata": {},
   "outputs": [],
   "source": [
    "# !conda install -c conda-forge ipywidgets -y\n",
    "\n",
    "#notes get semi circle tracking\n",
    "\n",
    "#https://stackoverflow.com/questions/20698613/detect-semicircle-in-opencv"
   ]
  },
  {
   "cell_type": "code",
   "execution_count": 1,
   "id": "31d96db5",
   "metadata": {},
   "outputs": [],
   "source": [
    "#https://pyimagesearch.com/2015/09/14/ball-tracking-with-opencv/\n",
    "\n",
    "# import the necessary packages\n",
    "from collections import deque\n",
    "from imutils.video import VideoStream\n",
    "import numpy as np\n",
    "import argparse\n",
    "import cv2\n",
    "import imutils\n",
    "import time\n",
    "from matplotlib import pyplot as plt\n",
    "from math import sqrt\n",
    "import urllib.request\n",
    "from datetime import datetime\n",
    "import ipywidgets as widgets\n",
    "import pandas as pd\n",
    "from statistics import mean, variance, stdev\n",
    "# construct the argument parse and parse the arguments\n",
    "ap = argparse.ArgumentParser()\n",
    "ap.add_argument(\"-v\", \"--video\", help=\"path to the (optional) video file\");\n",
    "ap.add_argument(\"-b\", \"--buffer\", type=int, default=64, help=\"max buffer size\");\n",
    "#args = vars(ap.parse_args())\n",
    "buffer = 64\n",
    "# define the lower and upper boundaries of the \"green\"\n",
    "# ball in the HSV color space, then initialize the\n",
    "# list of tracked points\n",
    "greenLower = (29, 86, 6)\n",
    "greenUpper = (64, 255, 255)\n",
    "\n",
    "#pts = deque(maxlen=args[\"buffer\"])\n",
    "pts = deque(maxlen = buffer)\n",
    "\n",
    "# if a video path was not supplied, grab the reference\n",
    "# to the webcam\n",
    "# if not args.get(\"video\", False):\n",
    "#     vs = VideoStream(src=0).start()\n",
    "# # otherwise, grab a reference to the video file\n",
    "# else:\n",
    "#     vs = cv2.VideoCapture(args[\"video\"])\n",
    "\n",
    "#vs = VideoStream(src=\"rtsp://advancedcameranode.local:8554/cam\").start()\n",
    "\n",
    "#vs = VideoStream(src=\"http://camerag11.local/html/min.php\").start()\n",
    "# allow the camera or video file to warm up\n",
    "#time.sleep(2.0)\n",
    "# from IPython.display import display\n",
    "# take_pic = 0\n",
    "# button = widgets.Button(description=\"Click Me!\")\n",
    "# output = widgets.Output()\n",
    "\n",
    "# display(button, output)\n",
    "# def on_button_clicked(b):\n",
    "#     with output:\n",
    "#         take_pic += 1\n",
    "#         print(\"Button clicked.\")\n",
    "#         print(str(take_pic))\n",
    "\n",
    "# button.on_click(on_button_clicked)\n"
   ]
  },
  {
   "cell_type": "code",
   "execution_count": 31,
   "id": "9c812cbf",
   "metadata": {},
   "outputs": [
    {
     "data": {
      "application/vnd.jupyter.widget-view+json": {
       "model_id": "f362476022914aa696c18424bac51674",
       "version_major": 2,
       "version_minor": 0
      },
      "text/plain": [
       "ToggleButton(value=False, description='capture image')"
      ]
     },
     "metadata": {},
     "output_type": "display_data"
    },
    {
     "data": {
      "application/vnd.jupyter.widget-view+json": {
       "model_id": "92d9fc3feae84cbd8f04537598602add",
       "version_major": 2,
       "version_minor": 0
      },
      "text/plain": [
       "IntProgress(value=0, description='Buffer', max=75)"
      ]
     },
     "metadata": {},
     "output_type": "display_data"
    },
    {
     "data": {
      "application/vnd.jupyter.widget-view+json": {
       "model_id": "4509e336770a41e39c8f7ff23360d0a9",
       "version_major": 2,
       "version_minor": 0
      },
      "text/plain": [
       "IntProgress(value=0, description='Captures', max=2)"
      ]
     },
     "metadata": {},
     "output_type": "display_data"
    },
    {
     "data": {
      "application/vnd.jupyter.widget-view+json": {
       "model_id": "bf4cde5eef174c11b02ddf4c8bc99122",
       "version_major": 2,
       "version_minor": 0
      },
      "text/plain": [
       "Text(value='00', description='filename')"
      ]
     },
     "metadata": {},
     "output_type": "display_data"
    },
    {
     "data": {
      "application/vnd.jupyter.widget-view+json": {
       "model_id": "89baef0a95184a84a7e452ad44e83b9e",
       "version_major": 2,
       "version_minor": 0
      },
      "text/plain": [
       "IntSlider(value=1, description='Increment', max=30, min=1)"
      ]
     },
     "metadata": {},
     "output_type": "display_data"
    },
    {
     "data": {
      "application/vnd.jupyter.widget-view+json": {
       "model_id": "0c4e9e1b72374dad91b5d01869ccff6a",
       "version_major": 2,
       "version_minor": 0
      },
      "text/plain": [
       "ToggleButton(value=False, description='plot size')"
      ]
     },
     "metadata": {},
     "output_type": "display_data"
    },
    {
     "data": {
      "application/vnd.jupyter.widget-view+json": {
       "model_id": "cc6076c8e88e4c2caa0f305d412f9ca8",
       "version_major": 2,
       "version_minor": 0
      },
      "text/plain": [
       "Text(value='15-August-2022T12:20:07', description='folder')"
      ]
     },
     "metadata": {},
     "output_type": "display_data"
    },
    {
     "data": {
      "application/vnd.jupyter.widget-view+json": {
       "model_id": "2e59ddaae96848d794a5cfc4ea0aeb3a",
       "version_major": 2,
       "version_minor": 0
      },
      "text/plain": [
       "Button(description='Create Folder', style=ButtonStyle())"
      ]
     },
     "metadata": {},
     "output_type": "display_data"
    },
    {
     "data": {
      "application/vnd.jupyter.widget-view+json": {
       "model_id": "29a535666ae141279725079da90dd0fc",
       "version_major": 2,
       "version_minor": 0
      },
      "text/plain": [
       "FloatProgress(value=0.0, max=1.0)"
      ]
     },
     "metadata": {},
     "output_type": "display_data"
    },
    {
     "data": {
      "application/vnd.jupyter.widget-view+json": {
       "model_id": "ae706f28c1844276852003774d710047",
       "version_major": 2,
       "version_minor": 0
      },
      "text/plain": [
       "ToggleButton(value=False, description='get dataframe')"
      ]
     },
     "metadata": {},
     "output_type": "display_data"
    },
    {
     "data": {
      "application/vnd.jupyter.widget-view+json": {
       "model_id": "41ff2596559244028e5b70ebeb5f4b84",
       "version_major": 2,
       "version_minor": 0
      },
      "text/plain": [
       "ToggleButton(value=False, description='force capture')"
      ]
     },
     "metadata": {},
     "output_type": "display_data"
    },
    {
     "data": {
      "application/vnd.jupyter.widget-view+json": {
       "model_id": "cc64c10eb1514c2d8ac6758771c210a8",
       "version_major": 2,
       "version_minor": 0
      },
      "text/plain": [
       "ToggleButton(value=False, description='Stop')"
      ]
     },
     "metadata": {},
     "output_type": "display_data"
    },
    {
     "data": {
      "application/vnd.jupyter.widget-view+json": {
       "model_id": "b8c0e2792654488ea02e1cb59e41c4ba",
       "version_major": 2,
       "version_minor": 0
      },
      "text/plain": [
       "Output()"
      ]
     },
     "metadata": {},
     "output_type": "display_data"
    },
    {
     "data": {
      "text/plain": [
       "<Task pending name='Task-33' coro=<f() running at /var/folders/5z/d1d_q74d1hd653s14vwq9v800000gn/T/ipykernel_98589/1489927824.py:162>>"
      ]
     },
     "execution_count": 31,
     "metadata": {},
     "output_type": "execute_result"
    },
    {
     "name": "stdout",
     "output_type": "stream",
     "text": [
      "hello\n",
      "[[0.4, 0.6, 0.8, 1.0, 1.2], [51.0, 55.0, 52.0, 52.0, 56.0], [49.36, 51.14666666666667, 52.32666666666667, 52.79333333333334, 53.46666666666667], [0.018856180831644215, 0.3205550741379014, 0.0659966329107447, 0.028284271247461298, 0.01885618083163919], [0, 0, 0, 0, 0], [0, 0, 0, 0, 0], [0.0, 0.0, 0.0, 0.0, 0.0]]\n"
     ]
    },
    {
     "data": {
      "image/png": "[encoded data removed]",
      "text/plain": [
       "<Figure size 432x288 with 1 Axes>"
      ]
     },
     "metadata": {
      "needs_background": "light"
     },
     "output_type": "display_data"
    },
    {
     "data": {
      "image/png": "[encoded data removed]",
      "text/plain": [
       "<Figure size 432x288 with 1 Axes>"
      ]
     },
     "metadata": {
      "needs_background": "light"
     },
     "output_type": "display_data"
    },
    {
     "name": "stdout",
     "output_type": "stream",
     "text": [
      "[[0.4, 0.6, 0.8, 1.0, 1.2, 1.4, 1.6, 1.8, 2.0, 2.2, 2.4], [51.0, 55.0, 52.0, 52.0, 56.0, 55.0, 54.0, 55.0, 56.0, 56.0, 57.0], [49.36, 51.14666666666667, 52.32666666666667, 52.79333333333334, 53.46666666666667, 54.66666666666667, 54.81333333333333, 55.373333333333335, 56.54, 56.62, 56.766666666666666], [0.018856180831644215, 0.3205550741379014, 0.0659966329107447, 0.028284271247461298, 0.01885618083163919, 0.24513035081133963, 0.03771236166328341, 0.20741798914805623, 0.0659966329107447, 0.3299831645537235, 0.1602775370689507], [0, 0, 0, 0, 0, 0, 0, 0, 0, 0, 0], [0, 0, 0, 0, 0, 0, 0, 0, 0, 0, 0], [0.0, 0.0, 0.0, 0.0, 0.0, 0.0, 0.0, 0.0, 0.0, 0.0, 0.0]]\n"
     ]
    },
    {
     "data": {
      "image/png": "[encoded data removed]",
      "text/plain": [
       "<Figure size 432x288 with 1 Axes>"
      ]
     },
     "metadata": {
      "needs_background": "light"
     },
     "output_type": "display_data"
    },
    {
     "data": {
      "image/png": "[encoded data removed]",
      "text/plain": [
       "<Figure size 432x288 with 1 Axes>"
      ]
     },
     "metadata": {
      "needs_background": "light"
     },
     "output_type": "display_data"
    },
    {
     "name": "stdout",
     "output_type": "stream",
     "text": [
      "[[0.4, 0.6, 0.8, 1.0, 1.2, 1.4, 1.6, 1.8, 2.0, 2.2, 2.4, 2.6], [51.0, 55.0, 52.0, 52.0, 56.0, 55.0, 54.0, 55.0, 56.0, 56.0, 57.0, 58.0], [49.36, 51.14666666666667, 52.32666666666667, 52.79333333333334, 53.46666666666667, 54.66666666666667, 54.81333333333333, 55.373333333333335, 56.54, 56.62, 56.766666666666666, 58.00666666666667], [0.018856180831644215, 0.3205550741379014, 0.0659966329107447, 0.028284271247461298, 0.01885618083163919, 0.24513035081133963, 0.03771236166328341, 0.20741798914805623, 0.0659966329107447, 0.3299831645537235, 0.1602775370689507, 0.0659966329107447], [0, 0, 0, 0, 0, 0, 0, 0, 0, 0, 0, 0], [0, 0, 0, 0, 0, 0, 0, 0, 0, 0, 0, 0], [0.0, 0.0, 0.0, 0.0, 0.0, 0.0, 0.0, 0.0, 0.0, 0.0, 0.0, 0.0]]\n"
     ]
    },
    {
     "data": {
      "image/png": "[encoded data removed]",
      "text/plain": [
       "<Figure size 432x288 with 1 Axes>"
      ]
     },
     "metadata": {
      "needs_background": "light"
     },
     "output_type": "display_data"
    },
    {
     "data": {
      "image/png": "[encoded data removed]",
      "text/plain": [
       "<Figure size 432x288 with 1 Axes>"
      ]
     },
     "metadata": {
      "needs_background": "light"
     },
     "output_type": "display_data"
    },
    {
     "name": "stdout",
     "output_type": "stream",
     "text": [
      "[[0.4, 0.6, 0.8, 1.0, 1.2, 1.4, 1.6, 1.8, 2.0, 2.2, 2.4, 2.6, 2.8], [51.0, 55.0, 52.0, 52.0, 56.0, 55.0, 54.0, 55.0, 56.0, 56.0, 57.0, 58.0, 61.0], [49.36, 51.14666666666667, 52.32666666666667, 52.79333333333334, 53.46666666666667, 54.66666666666667, 54.81333333333333, 55.373333333333335, 56.54, 56.62, 56.766666666666666, 58.00666666666667, 58.79333333333334], [0.018856180831644215, 0.3205550741379014, 0.0659966329107447, 0.028284271247461298, 0.01885618083163919, 0.24513035081133963, 0.03771236166328341, 0.20741798914805623, 0.0659966329107447, 0.3299831645537235, 0.1602775370689507, 0.0659966329107447, 0.2545584412271567], [0, 0, 0, 0, 0, 0, 0, 0, 0, 0, 0, 0, 0], [0, 0, 0, 0, 0, 0, 0, 0, 0, 0, 0, 0, 0], [0.0, 0.0, 0.0, 0.0, 0.0, 0.0, 0.0, 0.0, 0.0, 0.0, 0.0, 0.0, 0.0]]\n"
     ]
    },
    {
     "data": {
      "image/png": "[encoded data removed]",
      "text/plain": [
       "<Figure size 432x288 with 1 Axes>"
      ]
     },
     "metadata": {
      "needs_background": "light"
     },
     "output_type": "display_data"
    },
    {
     "data": {
      "image/png": "[encoded data removed]",
      "text/plain": [
       "<Figure size 432x288 with 1 Axes>"
      ]
     },
     "metadata": {
      "needs_background": "light"
     },
     "output_type": "display_data"
    }
   ],
   "source": [
    "%gui asyncio\n",
    "import asyncio\n",
    "from cgi import MiniFieldStorage\n",
    "import ipywidgets as widgets\n",
    "import os\n",
    "import math\n",
    "import csv\n",
    "import numpy as np\n",
    "import sys\n",
    "\n",
    "from datetime import datetime\n",
    "\n",
    "# Getting the current date and time\n",
    "dt = datetime.now()\n",
    "## todo:\n",
    "# 1. save the contents of the precision buffers into a dataframe\n",
    "# 2. get the plots to come out separately\n",
    "# 3. Gather data \n",
    "image_dir = \"/Users/pierre/Pictures/biology/Blob-Measuring/Level-Measurement-Experiment/stream-captures/\"\n",
    "\n",
    "BUFFER_SIZE = 75\n",
    "PRECISION_BUFFER_SIZE = 2\n",
    "circle_mode = True\n",
    "hough_mode = True\n",
    "stdev_threshold = 0\n",
    "camera_name = \"camerafluidleveldetect\"\n",
    "progress = widgets.FloatProgress(value=0.0, min=0.0, max=1.0)\n",
    "buffer_progress = widgets.IntProgress(value=0, min=0, max=BUFFER_SIZE)\n",
    "buffer_progress.description = \"Buffer\"\n",
    "capture_progress = widgets.IntProgress(value=0, min=0, max=PRECISION_BUFFER_SIZE)\n",
    "capture_progress.description = \"Captures\"\n",
    "capture_dataframe = widgets.ToggleButton()\n",
    "capture_dataframe.description = \"get dataframe\"\n",
    "capture_datapoint = widgets.ToggleButton()\n",
    "capture_datapoint.description = \"capture image\"\n",
    "force_capture = widgets.ToggleButton()\n",
    "force_capture.description = \"force capture\"\n",
    "display(capture_datapoint)\n",
    "display(buffer_progress)\n",
    "display(capture_progress)\n",
    "fluid_volume = widgets.Text()\n",
    "fluid_volume.value = \"00\"\n",
    "fluid_volume.description = \"filename\"\n",
    "#an int slider widget that sets the value of fluid_volume.value\n",
    "fluid_value_slider = widgets.IntSlider(value=1, min=1, max=30, step=1)\n",
    "fluid_value_slider.description = \"Increment\"\n",
    "\n",
    "\n",
    "img_folder = widgets.Text()\n",
    "img_folder.description = \"folder\"\n",
    "img_folder.value = dt.strftime(\"%d-%B-%YT%H:%M:%S\")\n",
    "plot = widgets.ToggleButton()\n",
    "plot.description = \"plot size\"\n",
    "\n",
    "output = widgets.Output()\n",
    "#a button to create a new folder\n",
    "dir_button = widgets.Button(description=\"Create Folder\")\n",
    "#a button widget that creates a directory from the img_folder.value parameter\n",
    "def create_folder(b):\n",
    "    with output:\n",
    "        if img_folder.value is not None:\n",
    "            if not os.path.exists(image_dir+img_folder.value):\n",
    "                os.makedirs(image_dir+img_folder.value)\n",
    "                print(\"Folder Created\")\n",
    "            else:\n",
    "                print(\"Folder already exists\")\n",
    "        else:\n",
    "            print(\"Folder not created\")\n",
    "\n",
    "def trace_active_rectangle(image, width, height, offsetX, offsetY):\n",
    "    centerX = int(image.shape[1] / 2)\n",
    "    centerY = int(image.shape[0] / 2)\n",
    "    # color is magenta\n",
    "    color = (255, 0, 255)\n",
    "    cv2.rectangle(image, (centerX + offsetX - int(width/2), centerY+offsetY-int(width/2)), (centerX + offsetX + int(width/2), centerY+offsetY + int(height/2)), color, 2)\n",
    "\n",
    "    # w = 50\n",
    "    # h = 5\n",
    "    # xOffset = 50\n",
    "    # yOffset = 50\n",
    "\n",
    "    # cv2.circle(frame, (centerX + xOffset, centerY + yOffset), radius=0, color=(0, 0, 255), thickness=-1)\n",
    "\n",
    "def get_best_circle(image):\n",
    "    #compute distance transform of image\n",
    "    image = cv2.bitwise_not(cv2.Canny(image,100,200))\n",
    "    dist = cv2.distanceTransform(image, cv2.DIST_L2, 0)\n",
    "    rows = image.shape[0]\n",
    "    circles = cv2.HoughCircles(image, cv2.HOUGH_GRADIENT, 1, rows / 8, 50, param1=50, param2=10, minRadius=40, maxRadius=70)      \n",
    "    minInlierDist = 0\n",
    "\n",
    "    max_radius = 0\n",
    "    max_inlier_percent = 0\n",
    "    image = cv2.cvtColor(image, cv2.COLOR_GRAY2BGR)\n",
    "    for c in circles[0, :]:\n",
    "        counter = 0\n",
    "        inlier = 0\n",
    "\n",
    "        center = (c[0], c[1])\n",
    "        radius = c[2]\n",
    "\n",
    "        #maxInlierDist = radius/50.0\n",
    "        maxInlierDist = 2\n",
    "\n",
    "        if maxInlierDist < minInlierDist: maxInlierDist = minInlierDist\n",
    "\n",
    "        for i in np.arange(0, 2*np.pi, 0.1):\n",
    "            counter += 1\n",
    "            x = center[0] + radius * np.cos(i)\n",
    "            y = center[1] + radius * np.sin(i)\n",
    "            try:\n",
    "                if dist.item(int(y), int(x)) < maxInlierDist:\n",
    "                    inlier += 1\n",
    "                    cv2.circle(image, (int(x), int(y)), 1, (0, 255, 0), -1)\n",
    "                else:\n",
    "                    cv2.circle(image, (int(x), int(y)), 1, (255, 0, 0), -1)\n",
    "\n",
    "            except(IndexError):\n",
    "                cv2.circle(image, (int(x), int(y)), 1, (255, 0, 0), -1)\n",
    "\n",
    "            \n",
    "\n",
    "        if inlier/counter > max_inlier_percent:\n",
    "            max_inlier_percent = inlier/counter\n",
    "            max_radius = int(radius)\n",
    "            max_center = (int(center[0]), int(center[1]))\n",
    "\n",
    "            # with output:\n",
    "            #     # print(str(100.0*inlier/counter) + ' percent of a circle with radius ' + str(radius) + \" detected\")\n",
    "    cv2.circle(image, max_center, int(max_radius), (255, 0, 255), 2)\n",
    "    # (int(max_center[0]),int(max_center[1]))\n",
    "    cv2.imshow(\"window2\", image)\n",
    "    return max_radius, max_center\n",
    "\n",
    "\n",
    "\n",
    "dir_button.on_click(create_folder)\n",
    "\n",
    "display(fluid_volume)\n",
    "display(fluid_value_slider)\n",
    "display(plot)\n",
    "display(img_folder)\n",
    "display(dir_button)\n",
    "display(progress)\n",
    "display(capture_dataframe)\n",
    "#display(text_input)\n",
    "#text.value= str(button.value)\n",
    "display(force_capture)\n",
    "stop_button = widgets.ToggleButton()\n",
    "stop_button.description = \"Stop\"\n",
    "display(stop_button)\n",
    "\n",
    "display(output)\n",
    "\n",
    "# a method that returns the mean but rejects outliers from the calculation\n",
    "def mean_filter(data, threshold):\n",
    "    data_mean = mean(data)\n",
    "    data_std = stdev(data)\n",
    "    data_filtered = [x for x in data if abs(x - data_mean) < threshold * data_std]\n",
    "    return mean(data_filtered)\n",
    "\n",
    "async def f():   \n",
    "    i=0\n",
    "    size = [[],[],[],[],[],[],[]]\n",
    "    perimeter_buffer_list = []\n",
    "    area_buffer_list = []\n",
    "\n",
    "    perimeter_value_frame = []\n",
    "    area_value_frame = []\n",
    "    dataframe_count = 0\n",
    "    dataframe_total = 100\n",
    "\n",
    "    perimeter_frame_dict = {}\n",
    "    area_frame_dict = {}\n",
    "    area_buffer = []\n",
    "    area_precision_buff = []\n",
    "    perimeter_buffer = []\n",
    "    perimeter_precision_buff = []\n",
    "    buffer_size = BUFFER_SIZE\n",
    "    buffer_fill = 0\n",
    "    first = True\n",
    "\n",
    "    for i in range(buffer_size):\n",
    "        area_buffer.append(0)\n",
    "        perimeter_buffer.append(0)\n",
    "\n",
    "    stream = urllib.request.urlopen('http://' + camera_name +'.local/html/cam_pic.php')\n",
    "    bytes = b''\n",
    "    #os.chdir(image_dir)\n",
    "\n",
    "    WINDOW_NAME = \"Camera\"\n",
    "    cv2.namedWindow(WINDOW_NAME)\n",
    "    cv2.namedWindow(\"window2\")\n",
    "    cv2.startWindowThread()\n",
    "    print(\"hello\")\n",
    "\n",
    "    #transfer_function_coeffs = [-6.40190835e-05 , 1.00543104e-01 , -3.52312603e+01]\n",
    "    transfer_function_coeffs = [  0.02130269, -11.15089045]\n",
    "\n",
    "\n",
    "    while True:\n",
    "        # grab the frame from the threaded video stream, resize it, and convert it to grayscale\n",
    "        curr_dt = datetime.now()\n",
    "        timestamp = int(round(curr_dt.timestamp()))\n",
    "    #     print(\"Integer timestamp of current datetime: \",\n",
    "    #       timestamp)\n",
    "        bytes += stream.read(1024)\n",
    "        a = bytes.find(b'\\xff\\xd8') #frame starting \n",
    "        b = bytes.find(b'\\xff\\xd9') #frame ending\n",
    "        if a != -1 and b != -1:\n",
    "            jpg = bytes[a:b+2]\n",
    "            bytes = bytes[b+2:]\n",
    "            frame = cv2.imdecode(np.frombuffer(jpg, dtype=np.uint8), cv2.IMREAD_COLOR)\n",
    "\n",
    "\n",
    "            centerX = frame.shape[1]/2\n",
    "            centerY = frame.shape[0]/2\n",
    "            w = 300\n",
    "            h = 300\n",
    "            x = int(centerX - w/2)\n",
    "            y = int(centerY - h/2)\n",
    "\n",
    "            frame = frame[y:y+h, x:x+w]\n",
    "            start_image = frame.copy()\n",
    "\n",
    "            #crop frame to focus only on middle section\n",
    "            # frame = frame[0:int(frame.shape[0]/2), 0:int(frame.shape[1])]\n",
    "            #cv2.imshow('image', img\n",
    "            bytes = b''\n",
    "            url = 'http://' + camera_name +'.local/html/cam_pic.php?' + str(timestamp)\n",
    "            #print(url)\n",
    "            stream = urllib.request.urlopen(url)\n",
    "            #frame = imutils.resize(frame, width=600)\n",
    "            gray = cv2.cvtColor(frame, cv2.COLOR_BGR2GRAY)\n",
    "            gray_blurred = cv2.medianBlur(gray,91)\n",
    "\n",
    "\n",
    "            #get contours and fit ellipse\n",
    "            perimeter = \"boof\"\n",
    "\n",
    "            rows = frame.shape[0]\n",
    "            # minDist is parameter 5 in houghcircles() but does not work will minDist=val\n",
    "            # param1 is sensitivity to edge detection, param2 is num points to detect circles\n",
    "            xOffset = 15\n",
    "            yOffset = -10\n",
    "            centerX = int(frame.shape[1] / 2)\n",
    "            centerY = int(frame.shape[0] / 2)\n",
    "            w = 50\n",
    "            h = 50\n",
    "            trace_active_rectangle(frame, w, h, xOffset, yOffset)\n",
    "\n",
    "            if hough_mode:\n",
    "                #following 2 lines needed to avoid error when displaying\n",
    "\n",
    "                gray_blurred = cv2.cvtColor(gray_blurred, cv2.COLOR_GRAY2BGR)\n",
    "                mask = np.zeros(frame.shape[:2], dtype=\"uint8\") \n",
    "\n",
    "                ret, thresh = cv2.threshold(gray, 130, 255, cv2.THRESH_BINARY)\n",
    "                frame = thresh.copy()\n",
    "                frame = cv2.cvtColor(frame, cv2.COLOR_GRAY2BGR)\n",
    "                #trace_active_rectangle(frame, w, h, xOffset, yOffset)\n",
    "\n",
    "                # w=100\n",
    "                # h=100\n",
    "\n",
    "                try:\n",
    "                    radius, center = get_best_circle(thresh)\n",
    "                    # circles = cv2.HoughCircles(thresh, cv2.HOUGH_GRADIENT, 1, rows / 8, 50, param1=50, param2=10, minRadius=40, maxRadius=90)\n",
    "            \n",
    "                    # if circles is not None:\n",
    "                    #     circles = np.uint16(np.around(circles))\n",
    "                    #     radius = 0\n",
    "                    #     for i in circles[0, :]:\n",
    "                    #         center = (i[0], i[1])\n",
    "                    #         # w = 50\n",
    "                    #         # h = 5\n",
    "                    #         # xOffset = 50\n",
    "                    #         # yOffset = 50\n",
    "\n",
    "                    #         # cv2.circle(frame, (centerX + xOffset, centerY + yOffset), radius=0, color=(0, 0, 255), thickness=-1)\n",
    "                    #         if center[0] < centerX + xOffset - int(w/2) or center[0] > centerX + xOffset + int(w/2) or center[1] < centerY + yOffset - int(h/2) or center[1] > centerY + yOffset + int(h/2):\n",
    "                    #             continue\n",
    "                    #         # centerX = frame.shape[1]/2\n",
    "                    #         # centerY = frame.shape[0]/2\n",
    "\n",
    "                    #         # x = int(centerX - w/2)\n",
    "                    #         # y = int(centerY - h/2)\n",
    "                    #         # circle center\n",
    "                    #         cv2.circle(frame, center, 1, (0, 100, 100), 3)\n",
    "                    #         # circle outline\n",
    "                    #         radius = i[2]\n",
    "                    #         cv2.circle(frame, center, radius, (255, 0, 255), 3)\n",
    "\n",
    "                        #perimeter = 2 * np.pi * radius\n",
    "                    if radius != 0:\n",
    "                        cv2.circle(frame, center, radius, (255, 0, 255), 3)\n",
    "                        perimeter = float(radius)\n",
    "                        perimeter_buffer.pop(0)\n",
    "                        perimeter_buffer.append(perimeter)\n",
    "                        buffer_fill += 1\n",
    "                        area = 0 #placeholder\n",
    "                        area_buffer.pop(0)\n",
    "                        area_buffer.append(area)\n",
    "                            \n",
    "                except(Exception):\n",
    "                    # print info about the exception\n",
    "                    print(sys.exc_info())\n",
    "                    print(\"Error: \", Exception)\n",
    "                    #print the exception\n",
    "\n",
    "\n",
    "            else: #contour mode\n",
    "                gray_blurred = cv2.medianBlur(gray,21)\n",
    "                ret, thresh = cv2.threshold(gray_blurred, 150, 255, cv2.THRESH_BINARY_INV)\n",
    "\n",
    "                cnt = 0\n",
    "                frame = thresh\n",
    "                frame = cv2.cvtColor(frame, cv2.COLOR_GRAY2BGR)\n",
    "                trace_active_rectangle(frame, w, h, xOffset, yOffset)\n",
    "                gray_blurred = cv2.cvtColor(gray_blurred, cv2.COLOR_GRAY2BGR)\n",
    "                mask = np.zeros(frame.shape[:2], dtype=\"uint8\") #define mask out here to avoid crashing when exception is thrown\n",
    "                try:\n",
    "                    #my stuff\n",
    "\n",
    "                    contours,hierarchy = cv2.findContours(thresh, 1, cv2.CHAIN_APPROX_NONE)\n",
    "\n",
    "                    # cv2.drawContours(frame, contours, -1, (0,255,0), 3)\n",
    "                    threshold_area_min = 5000     #threshold area \n",
    "                    threshold_area_max = 15000\n",
    "                    # contours, hierarchy = cv2.findContours(thresh,1,2)  \n",
    "                    # cnt = contours[0]\n",
    "                    for cntr in contours:  \n",
    "                        area = cv2.contourArea(cntr) \n",
    "                        if circle_mode and area > threshold_area_min and area < threshold_area_max:\n",
    "                            #get minimum enclosing circle\n",
    "                            # (x,y),radius = cv2.minEnclosingCircle(cntr)\n",
    "\n",
    "                            #get maximum inscribed circle\n",
    "                            \n",
    "                            cv2.drawContours(mask, [cntr], -1, 255, -1)\n",
    "                            # cv2.distanceTransform(mask, dist, distanceType, maskSize)\n",
    "                            dist = cv2.distanceTransform(mask, cv2.DIST_L2, 0)\n",
    "                            NULL,max_val,NULL,max_indx=cv2.minMaxLoc(dist)\n",
    "\n",
    "                            (x,y),radius = max_indx, max_val\n",
    "                            # print(max_val,max_indx)\n",
    "\n",
    "\n",
    "                            # masked = cv2.bitwise_and(gray_blurred, image, mask=mask)\n",
    "                            # draw the circle and centroid on the frame\n",
    "                            center = (int(x),int(y))\n",
    "                            if center[0] < centerX + xOffset - int(w/2) or center[0] > centerX + xOffset + int(w/2) or center[1] < centerY + yOffset - int(h/2) or center[1] > centerY + yOffset + int(h/2):\n",
    "                                continue\n",
    "\n",
    "                            radius = int(radius)\n",
    "\n",
    "                            cv2.circle(frame,center,radius,(255,255,0),2)\n",
    "                            cv2.circle(start_image,center,radius,(255,255,0),2)\n",
    "                            #get perimeter of circle\n",
    "                            perimeter = 2*np.pi*radius\n",
    "\n",
    "            \n",
    "                                \n",
    "                        if area > threshold_area_min and area < threshold_area_max:\n",
    "                            #color = cyan\n",
    "                            cv2.circle(frame,center,radius,(0,255,0),2)\n",
    "                            cv2.circle(start_image,center,radius,(0,255,0),2)\n",
    "                            cnt = cntr\n",
    "                            area_buffer.pop(0)\n",
    "                            area_buffer.append(area)\n",
    "                            perimeter_buffer.pop(0)\n",
    "                            perimeter_buffer.append(perimeter)\n",
    "                            buffer_fill += 1\n",
    "                            break\n",
    "                        # cnt = contours[0]\n",
    "                        # M = cv2.moments(cnt)\n",
    "\n",
    "\n",
    "                    if not circle_mode:\n",
    "                        ellipse = cv2.fitEllipse(cnt)\n",
    "                        cv2.ellipse(frame,ellipse,(0,255,0),5)\n",
    "                        (a,b) = ellipse[1]\n",
    "                        perimeter = (2 * 3.14 * sqrt((a * a + b * b) / (2 * 1.0)))\n",
    "\n",
    "\n",
    "                        perimeter_buffer.pop(0)\n",
    "                        perimeter_buffer.append(perimeter)\n",
    "                        buffer_fill += 1\n",
    "                    \n",
    "                    # let circle = cv.minEnclosingCircle(cnt);\n",
    "                    # let contoursColor = new cv.Scalar(255, 255, 255);\n",
    "                    # let circleColor = new cv.Scalar(255, 0, 0);\n",
    "                    # cv.drawContours(dst, contours, 0, contoursColor, 1, 8, hierarchy, 100);\n",
    "                    # cv.circle(dst, circle.center, circle.radius, circleColor);\n",
    "\n",
    "\n",
    "\n",
    "\n",
    "                except Exception as e:\n",
    "                    print(e)\n",
    "                    pass\n",
    "\n",
    "                    \n",
    "            buffer_progress.value = min(buffer_fill, buffer_size)\n",
    "            # Display measured values on frame\n",
    "   \n",
    "            font = cv2.FONT_HERSHEY_SIMPLEX\n",
    "            #org = (50, 50)\n",
    "            fontScale = 0.5\n",
    "            color = (0, 136, 17)\n",
    "            thickness = 1\n",
    "            # Using cv2.putText() method\n",
    "#             try:\n",
    "#                 display_frame = cv2.putText(frame, str(cv2.contourArea(cnt)), (50,100), font, \n",
    "#                                     fontScale, color, thickness, cv2.LINE_AA)\n",
    "#                 display_frame = cv2.putText(display_frame, str(mean(area_buffer)), org, font, \n",
    "#                                     fontScale, color, thickness, cv2.LINE_AA)\n",
    "#                 display_frame = cv2.putText(display_frame, str(stdev(area_buffer)), (300,50), font, \n",
    "#                         fontScale, color, thickness, cv2.LINE_AA)\n",
    "#                 display_frame = cv2.putText(display_frame, str(variance(area_buffer)), (300,100), font, \n",
    "#                         fontScale, color, thickness, cv2.LINE_AA)\n",
    "#             except:\n",
    "#                 display_frame = cv2.putText(frame, \"boof\", (50,100), font, \n",
    "#                         fontScale, color, thickness, cv2.LINE_AA)\n",
    "#                 display_frame = cv2.putText(display_frame, \"boof\", org, font\n",
    "            \n",
    "            try:\n",
    "                display_frame = cv2.putText(frame, \"per: \" + str(round(perimeter,2)), (50,50), font, \n",
    "                                    fontScale, color, thickness, cv2.LINE_AA)\n",
    "                display_frame = cv2.putText(display_frame, \"mean: \" + str(round(mean(perimeter_buffer),2)), (50,75), font, \n",
    "                                    fontScale, color, thickness, cv2.LINE_AA)\n",
    "                # display_frame = cv2.putText(display_frame, \"stdev: \"+str(round(stdev(perimeter_buffer),2)), (300,50), font, \n",
    "                #         fontScale, color, thickness, cv2.LINE_AA)\n",
    "                display_frame = cv2.putText(display_frame, \"stdev: \"+str(round(stdev(perimeter_buffer),2)), (50,100), font, \n",
    "                         fontScale, color, thickness, cv2.LINE_AA)\n",
    "                display_frame = cv2.putText(display_frame, \"var: \"+ str(round(variance(perimeter_buffer),2)), (300,75), font, \n",
    "                        fontScale, color, thickness, cv2.LINE_AA)\n",
    "\n",
    "                # display_frame = cv2.putText(display_frame, \"volume estimate: \"+ str(round(np.polyval(transfer_function_coeffs, mean(perimeter_buffer)),2)).zfill(6) + \" ml\", (150,300), font, \n",
    "                #         fontScale, color, thickness, cv2.LINE_AA)\n",
    "                        \n",
    "            except Exception as e:\n",
    "                print(e)\n",
    "                display_frame = cv2.putText(frame, \"boof\", (50,100), font, \n",
    "                        fontScale, color, thickness, cv2.LINE_AA)\n",
    "            #display_frame = frame\n",
    "            display_frame = np.concatenate((display_frame, start_image), axis=1)\n",
    "            display_frame = np.concatenate((display_frame, gray_blurred), axis=1)\n",
    "            mask = cv2.cvtColor(mask, cv2.COLOR_GRAY2BGR)\n",
    "            display_frame = np.concatenate((display_frame, mask), axis=1)\n",
    "            # Display frame on screen\n",
    "            cv2.imshow(WINDOW_NAME, display_frame)\n",
    "            key = cv2.waitKey(1) & 0xFF\n",
    "            # if the 'q' key is pressed, stop the loop\n",
    "            if key == ord(\"q\"):\n",
    "                cv2.destroyAllWindows()\n",
    "                cv2.waitKey(1)\n",
    "                break\n",
    "            i += 1 \n",
    "        #text.value = str(i) + \" \" + str(button.value)\n",
    "\n",
    "            # After button is pressed, wait for stdev of perimeter to be below a certain threshold\n",
    "            # if stdev(perimeter_buffer) < 0.5 then capture a datapoint and reset buffer\n",
    "            if capture_datapoint.value == True:\n",
    "                #i = 0\n",
    "\n",
    "                #if first time, buffer_fill = 0\n",
    "                if first:\n",
    "                    buffer_fill = 0\n",
    "                    first = False\n",
    "\n",
    "                if(stdev(perimeter_buffer) <= stdev_threshold and buffer_fill >= buffer_size) or force_capture.value == True:\n",
    "\n",
    "                    force_capture.value = False\n",
    "                    perimeter_precision_buff.append(mean(perimeter_buffer))\n",
    "                    area_precision_buff.append(mean(area_buffer))\n",
    "\n",
    "                    # add area buffer and perimeter buffer to list of lists\n",
    "                    # buffer_lists[0].append(area_buffer)\n",
    "                    # buffer_lists[1].append(perimeter_buffer)\n",
    "                    # print(perimeter_buffer)\n",
    "                    # print(buffer_lists)\n",
    "                    # print(buffer_lists[0])\n",
    "                    # print(buffer_lists[1])\n",
    "                    perimeter_named_data = [int(fluid_volume.value)/10]\n",
    "                    perimeter_named_data = perimeter_named_data + perimeter_buffer.copy()\n",
    "                    perimeter_buffer_list.append(perimeter_named_data.copy())\n",
    "\n",
    "                    area_named_data = [int(fluid_volume.value)/10]\n",
    "                    area_named_data = area_named_data + area_buffer.copy()\n",
    "                    area_buffer_list.append(area_named_data.copy())\n",
    "\n",
    "                    # list to csv\n",
    "                    with open(image_dir+img_folder.value+\"/\"+'area_buffer.csv', 'w') as f:\n",
    "                        writer = csv.writer(f)\n",
    "                        writer.writerows(area_buffer_list)\n",
    "                    with open(image_dir+img_folder.value+\"/\"+'perimeter_buffer.csv', 'w') as f:\n",
    "                        writer = csv.writer(f)\n",
    "                        writer.writerows(perimeter_buffer_list)\n",
    "\n",
    "\n",
    "\n",
    "                    \n",
    "                    #reset buffer (effectively)\n",
    "                    buffer_fill = 0\n",
    "                    capture_progress.value += 1\n",
    "                    if capture_progress.value >= int(PRECISION_BUFFER_SIZE):\n",
    "                        cv2.imwrite(image_dir+img_folder.value + \"/\" + fluid_volume.value+\".jpg\",frame)\n",
    "                        capture_datapoint.value = False\n",
    "                        first = True\n",
    "                        capture_progress.value = 0\n",
    "\n",
    "                        \n",
    "                        \n",
    "\n",
    "                        size[0].append(int(fluid_volume.value)/10)\n",
    "                        size[1].append(perimeter)\n",
    "                        # size[2].append(mean(perimeter_buffer))\n",
    "                        # size[3].append(stdev(perimeter_buffer))\n",
    "                        size[2].append(mean(perimeter_precision_buff))\n",
    "                        size[3].append(stdev(perimeter_precision_buff))\n",
    "                        # size[4].append(cv2.contourArea(cnt))\n",
    "                        size[4].append(area)\n",
    "                        # size[5].append(mean(area_buffer))\n",
    "                        # size[6].append(stdev(area_buffer))\n",
    "                        size[5].append(mean(area_precision_buff))\n",
    "                        size[6].append(stdev(area_precision_buff))\n",
    "                        \n",
    "                        # size[7].append(perimeter_buffer)\n",
    "                        # size[8].append(area_buffer)\n",
    "\n",
    "                        perimeter_frame_dict[fluid_volume.value] = perimeter_precision_buff\n",
    "                        perimeter_precision_buff = []\n",
    "                        area_frame_dict[fluid_volume.value] = area_precision_buff\n",
    "                        area_precision_buff = []\n",
    "                        df = pd.DataFrame(perimeter_frame_dict)\n",
    "                        df.to_csv(image_dir+img_folder.value+\"/\"+'perimeter_dataframe.csv')\n",
    "                        df = pd.DataFrame(area_frame_dict)\n",
    "                        df.to_csv(image_dir+img_folder.value+\"/\"+'area_dataframe.csv')\n",
    "\n",
    "                        fluid_volume.value = str(int(fluid_volume.value)+fluid_value_slider.value).zfill(2)\n",
    "                # capture_dataframe.value = True\n",
    "            await asyncio.sleep(0.001)\n",
    "            \n",
    "            if capture_dataframe.value == True:\n",
    "                perimeter_value_frame.append(perimeter)\n",
    "                area_value_frame.append(cv2.contourArea(cnt))\n",
    "                dataframe_count += 1\n",
    "                progress.value = float(dataframe_count+1)/dataframe_total\n",
    "                if dataframe_count >= dataframe_total:\n",
    "                    capture_dataframe.value = False\n",
    "                    dataframe_count = 0\n",
    "\n",
    "                    #fill frames with data\n",
    "                    perimeter_frame_dict[fluid_volume.value] = perimeter_value_frame\n",
    "                    perimeter_value_frame = []\n",
    "                    area_frame_dict[fluid_volume.value] = area_value_frame\n",
    "                    area_value_frame = []\n",
    "                    df = pd.DataFrame(perimeter_frame_dict)\n",
    "                    df.to_csv(image_dir+img_folder.value+\"/\"+'perimeter_dataframe.csv')\n",
    "                    df = pd.DataFrame(area_frame_dict)\n",
    "                    df.to_csv(image_dir+img_folder.value+\"/\"+'area_dataframe.csv')\n",
    "                    \n",
    "                \n",
    "                \n",
    "            if plot.value == True:\n",
    "                print(size)\n",
    "                plot.value = False\n",
    "                dict = {\"volume\" : size[0] , \"perimeter\" : size[1], \"perimeter_pb_mean\" : size[2],\"perimeter_pb_stdev\" : size[3], \"contour_area\" : size[4], \"contour_area_pb_mean\":size[5], \"contour_area_pb_stdev\":size[6]}\n",
    "                df = pd.DataFrame(dict) \n",
    "                # saving the dataframe \n",
    "                df.to_csv(image_dir+img_folder.value+\"/\"+'all_values.csv') \n",
    "\n",
    "                \n",
    "                try:\n",
    "                    fig, ax = plt.subplots()\n",
    "                    ax.errorbar(size[0], size[2], yerr=size[3],fmt=\"o\", mfc='red',\n",
    "                            mec='green')#, ms=20, mew=4)\n",
    "                    # plt.title(\"Light Diffusion Average\")\n",
    "                    # plt.show\n",
    "                    # plt.plot(size[0],size[1], 'ro')\n",
    "                    # x= size[0]\n",
    "                    # y=size[1]\n",
    "                    # z = np.polyfit(x, y, 3)\n",
    "                    # p = np.poly1d(z)\n",
    "                    # plt.plot(x,p(x),'k--',linewidth=2)\n",
    "                    # color = 0.8\n",
    "                    # plt.ylabel('Size ($mm^2$)')\n",
    "                    # plt.xlabel('ml')\n",
    "                    # plt.title(\"Light Diffusion\")\n",
    "                    # plt.show()\n",
    "                    fig2, ax2 = plt.subplots()\n",
    "                    ax2.plot(size[0],size[2], 'ro')\n",
    "                    x=size[0]\n",
    "                    y=size[1]\n",
    "                    z = np.polyfit(x, y,1)\n",
    "                    p = np.poly1d(z)\n",
    "                    ax2.plot(x,p(x),'k--',linewidth=2)\n",
    "                    color = 0.8\n",
    "                    ax2.set_ylabel('Size ($mm^2$)')\n",
    "                    ax2.set_xlabel('ml')\n",
    "                    ax2.set_title(\"Light Diffusion Average\")\n",
    "                    plt.show()\n",
    "                    #print( \"y=%.6fx+(%.6f)\"%(z[0],z[1]))\n",
    "\n",
    "\n",
    "                    \n",
    "                except Exception as e:\n",
    "                    print(e)\n",
    "                    pass\n",
    "                \n",
    "            if stop_button.value == True:\n",
    "                cv2.destroyAllWindows()\n",
    "                cv2.waitKey(1)\n",
    "                return\n",
    "        \n",
    "asyncio.create_task(f())\n",
    "# if we are not using a video file, stop the camera video stream\n",
    "# if not args.get(\"video\", False):\n",
    "#     vs.stop()\n",
    "# # otherwise, release the camera\n",
    "# else:\n",
    "#     vs.release()\n",
    "# # close all windows\n",
    "# cv2.destroyAllWindows()\n"
   ]
  },
  {
   "cell_type": "code",
   "execution_count": null,
   "id": "3e61e275",
   "metadata": {},
   "outputs": [],
   "source": []
  },
  {
   "cell_type": "code",
   "execution_count": null,
   "id": "ad294d64",
   "metadata": {},
   "outputs": [],
   "source": [
    "import cv2\n",
    "import urllib.request\n",
    "import numpy as np\n",
    "from datetime import datetime\n",
    "\n",
    "stream = urllib.request.urlopen('http://camerag11.local/html/cam_pic.php')\n",
    "bytes = b''\n",
    "while True:\n",
    "    \n",
    "\n",
    "    curr_dt = datetime.now()\n",
    "    timestamp = int(round(curr_dt.timestamp()))\n",
    "\n",
    "#     print(\"Integer timestamp of current datetime: \",\n",
    "#       timestamp)\n",
    "    bytes += stream.read(1024)\n",
    "    a = bytes.find(b'\\xff\\xd8') #frame starting \n",
    "    b = bytes.find(b'\\xff\\xd9') #frame ending\n",
    "    if a != -1 and b != -1:\n",
    "        jpg = bytes[a:b+2]\n",
    "        bytes = bytes[b+2:]\n",
    "        img = cv2.imdecode(np.frombuffer(jpg, dtype=np.uint8), cv2.IMREAD_COLOR)\n",
    "        cv2.imshow('image', img)\n",
    "        bytes = b''\n",
    "        url = 'http://camerag11.local/html/cam_pic.php?' + str(timestamp)\n",
    "        print(url)\n",
    "        stream = urllib.request.urlopen(url)\n",
    "        \n",
    "        if cv2.waitKey(1) == 27:\n",
    "            cv2.destroyAllWindows()\n",
    "            break"
   ]
  },
  {
   "cell_type": "code",
   "execution_count": null,
   "id": "568718dc-ae88-4478-9039-f2ccb27b432f",
   "metadata": {},
   "outputs": [],
   "source": [
    "%gui asyncio\n",
    "import asyncio\n",
    "import ipywidgets as widgets\n",
    "\n",
    "button = widgets.ToggleButton()\n",
    "display(button)\n",
    "text = widgets.Text()\n",
    "text_input = widgets.Text()\n",
    "display(text)\n",
    "display(text_input)\n",
    "text.value= str(button.value)\n",
    "\n",
    "stop_button = widgets.ToggleButton()\n",
    "stop_button.description = \"Stop\"\n",
    "display(stop_button)\n",
    "\n",
    "async def f():   \n",
    "    i=0\n",
    "    while True:\n",
    "        i += 1\n",
    "        #text.value = str(i) + \" \" + str(button.value)\n",
    "        if button.value == True:\n",
    "            i = 0\n",
    "            button.value = False\n",
    "            text.value = text_input.value\n",
    "        await asyncio.sleep(0.001)\n",
    "        if stop_button.value == True:\n",
    "            return\n",
    "\n",
    "asyncio.create_task(f());"
   ]
  }
 ],
 "metadata": {
  "kernelspec": {
   "display_name": "Python 3.9.7 ('base')",
   "language": "python",
   "name": "python3"
  },
  "language_info": {
   "codemirror_mode": {
    "name": "ipython",
    "version": 3
   },
   "file_extension": ".py",
   "mimetype": "text/x-python",
   "name": "python",
   "nbconvert_exporter": "python",
   "pygments_lexer": "ipython3",
   "version": "3.9.7"
  },
  "vscode": {
   "interpreter": {
    "hash": "3ec8f1b2517460a7fea7378739fe7664b5a33dfb55335b66cc1a5af5ab6bd4af"
   }
  }
 },
 "nbformat": 4,
 "nbformat_minor": 5
}
