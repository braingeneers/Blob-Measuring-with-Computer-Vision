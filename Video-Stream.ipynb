{
 "cells": [
  {
   "cell_type": "code",
   "execution_count": 3,
   "id": "f13c298e",
   "metadata": {},
   "outputs": [
    {
     "name": "stdout",
     "output_type": "stream",
     "text": [
      "Collecting imutils\n",
      "  Using cached imutils-0.5.4-py3-none-any.whl\n",
      "Installing collected packages: imutils\n",
      "Successfully installed imutils-0.5.4\n"
     ]
    }
   ],
   "source": [
    "# !pip install imutils"
   ]
  },
  {
   "cell_type": "code",
   "execution_count": 20,
   "id": "9840f16c-ffdf-49da-b64b-f7b4990dcb38",
   "metadata": {},
   "outputs": [
    {
     "name": "stdout",
     "output_type": "stream",
     "text": [
      "Collecting package metadata (current_repodata.json): done\n",
      "Solving environment: done\n",
      "\n",
      "## Package Plan ##\n",
      "\n",
      "  environment location: /Users/pierre/miniforge3\n",
      "\n",
      "  added / updated specs:\n",
      "    - ipywidgets\n",
      "\n",
      "\n",
      "The following packages will be downloaded:\n",
      "\n",
      "    package                    |            build\n",
      "    ---------------------------|-----------------\n",
      "    conda-4.13.0               |   py39h2804cbe_1         992 KB  conda-forge\n",
      "    ------------------------------------------------------------\n",
      "                                           Total:         992 KB\n",
      "\n",
      "The following packages will be UPDATED:\n",
      "\n",
      "  conda                               4.12.0-py39h2804cbe_0 --> 4.13.0-py39h2804cbe_1\n",
      "\n",
      "\n",
      "\n",
      "Downloading and Extracting Packages\n",
      "conda-4.13.0         | 992 KB    | ##################################### | 100% \n",
      "Preparing transaction: done\n",
      "Verifying transaction: | WARNING conda.core.path_actions:verify(957): Unable to create environments file. Path not writable.\n",
      "  environment location: /Users/pierre/.conda/environments.txt\n",
      "\n",
      "done\n",
      "Executing transaction: \\ WARNING conda.core.envs_manager:register_env(50): Unable to register environment. Path not writable or missing.\n",
      "  environment location: /Users/pierre/miniforge3\n",
      "  registry file: /Users/pierre/.conda/environments.txt\n",
      "done\n"
     ]
    }
   ],
   "source": [
    "# !conda install -c conda-forge ipywidgets -y"
   ]
  },
  {
   "cell_type": "code",
   "execution_count": 1,
   "id": "31d96db5",
   "metadata": {},
   "outputs": [],
   "source": [
    "#https://pyimagesearch.com/2015/09/14/ball-tracking-with-opencv/\n",
    "\n",
    "# import the necessary packages\n",
    "from collections import deque\n",
    "from imutils.video import VideoStream\n",
    "import numpy as np\n",
    "import argparse\n",
    "import cv2\n",
    "import imutils\n",
    "import time\n",
    "from matplotlib import pyplot as plt\n",
    "from math import sqrt\n",
    "import urllib.request\n",
    "from datetime import datetime\n",
    "import ipywidgets as widgets\n",
    "import pandas as pd\n",
    "from statistics import mean, variance, stdev\n",
    "# construct the argument parse and parse the arguments\n",
    "ap = argparse.ArgumentParser()\n",
    "ap.add_argument(\"-v\", \"--video\", help=\"path to the (optional) video file\");\n",
    "ap.add_argument(\"-b\", \"--buffer\", type=int, default=64, help=\"max buffer size\");\n",
    "#args = vars(ap.parse_args())\n",
    "buffer = 64\n",
    "# define the lower and upper boundaries of the \"green\"\n",
    "# ball in the HSV color space, then initialize the\n",
    "# list of tracked points\n",
    "greenLower = (29, 86, 6)\n",
    "greenUpper = (64, 255, 255)\n",
    "\n",
    "#pts = deque(maxlen=args[\"buffer\"])\n",
    "pts = deque(maxlen = buffer)\n",
    "\n",
    "# if a video path was not supplied, grab the reference\n",
    "# to the webcam\n",
    "# if not args.get(\"video\", False):\n",
    "#     vs = VideoStream(src=0).start()\n",
    "# # otherwise, grab a reference to the video file\n",
    "# else:\n",
    "#     vs = cv2.VideoCapture(args[\"video\"])\n",
    "\n",
    "#vs = VideoStream(src=\"rtsp://advancedcameranode.local:8554/cam\").start()\n",
    "\n",
    "#vs = VideoStream(src=\"http://camerag11.local/html/min.php\").start()\n",
    "# allow the camera or video file to warm up\n",
    "#time.sleep(2.0)\n",
    "# from IPython.display import display\n",
    "# take_pic = 0\n",
    "# button = widgets.Button(description=\"Click Me!\")\n",
    "# output = widgets.Output()\n",
    "\n",
    "# display(button, output)\n",
    "# def on_button_clicked(b):\n",
    "#     with output:\n",
    "#         take_pic += 1\n",
    "#         print(\"Button clicked.\")\n",
    "#         print(str(take_pic))\n",
    "\n",
    "# button.on_click(on_button_clicked)\n"
   ]
  },
  {
   "cell_type": "code",
   "execution_count": 58,
   "id": "9c812cbf",
   "metadata": {},
   "outputs": [
    {
     "data": {
      "application/vnd.jupyter.widget-view+json": {
       "model_id": "6940c0b663474869994602d8c6cff809",
       "version_major": 2,
       "version_minor": 0
      },
      "text/plain": [
       "ToggleButton(value=False, description='capture image')"
      ]
     },
     "metadata": {},
     "output_type": "display_data"
    },
    {
     "data": {
      "application/vnd.jupyter.widget-view+json": {
       "model_id": "629865171eb24737b66a09c0359dd2dd",
       "version_major": 2,
       "version_minor": 0
      },
      "text/plain": [
       "IntProgress(value=0, description='Buffer', max=5)"
      ]
     },
     "metadata": {},
     "output_type": "display_data"
    },
    {
     "data": {
      "application/vnd.jupyter.widget-view+json": {
       "model_id": "87423ce91e0a4b98afd0703b3bc5cbb9",
       "version_major": 2,
       "version_minor": 0
      },
      "text/plain": [
       "IntProgress(value=0, description='Captures', max=5)"
      ]
     },
     "metadata": {},
     "output_type": "display_data"
    },
    {
     "data": {
      "application/vnd.jupyter.widget-view+json": {
       "model_id": "85cd955837a1484f99f72a0dd4ebb124",
       "version_major": 2,
       "version_minor": 0
      },
      "text/plain": [
       "Text(value='', description='filename')"
      ]
     },
     "metadata": {},
     "output_type": "display_data"
    },
    {
     "data": {
      "application/vnd.jupyter.widget-view+json": {
       "model_id": "844b60cf22b94477afaad222da3c3046",
       "version_major": 2,
       "version_minor": 0
      },
      "text/plain": [
       "ToggleButton(value=False, description='plot size')"
      ]
     },
     "metadata": {},
     "output_type": "display_data"
    },
    {
     "data": {
      "application/vnd.jupyter.widget-view+json": {
       "model_id": "8a29b3a85b9e48fbb54a82ae2bb126b8",
       "version_major": 2,
       "version_minor": 0
      },
      "text/plain": [
       "Text(value='july-15-2022', description='folder')"
      ]
     },
     "metadata": {},
     "output_type": "display_data"
    },
    {
     "data": {
      "application/vnd.jupyter.widget-view+json": {
       "model_id": "2ca67d934d874e63a5f90becfd3a3fd2",
       "version_major": 2,
       "version_minor": 0
      },
      "text/plain": [
       "FloatProgress(value=0.0, max=1.0)"
      ]
     },
     "metadata": {},
     "output_type": "display_data"
    },
    {
     "data": {
      "application/vnd.jupyter.widget-view+json": {
       "model_id": "d780fc4adbc54c41837f11134a1b5e3a",
       "version_major": 2,
       "version_minor": 0
      },
      "text/plain": [
       "ToggleButton(value=False, description='get dataframe')"
      ]
     },
     "metadata": {},
     "output_type": "display_data"
    },
    {
     "data": {
      "application/vnd.jupyter.widget-view+json": {
       "model_id": "8988a1de8fb8430da3b265229138f4b0",
       "version_major": 2,
       "version_minor": 0
      },
      "text/plain": [
       "ToggleButton(value=False, description='Stop')"
      ]
     },
     "metadata": {},
     "output_type": "display_data"
    },
    {
     "name": "stdout",
     "output_type": "stream",
     "text": [
      "[[0.3], [548.5057664906635], [548.6038033235295], [0.04196989845333837], [5897.0], [5898.96], [0.9736529155708993]]\n"
     ]
    },
    {
     "name": "stderr",
     "output_type": "stream",
     "text": [
      "/Users/pierre/miniforge3/lib/python3.9/asyncio/events.py:80: RankWarning: Polyfit may be poorly conditioned\n",
      "  self._context.run(self._callback, *self._args)\n"
     ]
    },
    {
     "data": {
      "image/png": "[encoded data removed]",
      "text/plain": [
       "<Figure size 432x288 with 1 Axes>"
      ]
     },
     "metadata": {
      "needs_background": "light"
     },
     "output_type": "display_data"
    }
   ],
   "source": [
    "%gui asyncio\n",
    "import asyncio\n",
    "import ipywidgets as widgets\n",
    "import os\n",
    "import math\n",
    "## todo:\n",
    "# 1. save the contents of the precision buffers into a dataframe\n",
    "# 2. get the plots to come out separately\n",
    "# 3. Gather data \n",
    "\n",
    "\n",
    "BUFFER_SIZE = 5\n",
    "camera_name = \"camerafluidleveldetect\"\n",
    "progress = widgets.FloatProgress(value=0.0, min=0.0, max=1.0)\n",
    "buffer_progress = widgets.IntProgress(value=0, min=0, max=BUFFER_SIZE)\n",
    "buffer_progress.description = \"Buffer\"\n",
    "capture_progress = widgets.IntProgress(value=0, min=0, max=5)\n",
    "capture_progress.description = \"Captures\"\n",
    "capture_dataframe = widgets.ToggleButton()\n",
    "capture_dataframe.description = \"get dataframe\"\n",
    "button = widgets.ToggleButton()\n",
    "button.description = \"capture image\"\n",
    "display(button)\n",
    "display(buffer_progress)\n",
    "display(capture_progress)\n",
    "text = widgets.Text()\n",
    "text.description = \"filename\"\n",
    "img_folder = widgets.Text()\n",
    "img_folder.description = \"folder\"\n",
    "img_folder.value = \"july-15-2022\"\n",
    "plot = widgets.ToggleButton()\n",
    "plot.description = \"plot size\"\n",
    "\n",
    "display(text)\n",
    "display(plot)\n",
    "display(img_folder)\n",
    "display(progress)\n",
    "display(capture_dataframe)\n",
    "#display(text_input)\n",
    "#text.value= str(button.value)\n",
    "\n",
    "stop_button = widgets.ToggleButton()\n",
    "stop_button.description = \"Stop\"\n",
    "display(stop_button)\n",
    "\n",
    "async def f():   \n",
    "    i=0\n",
    "    size = [[],[],[],[],[],[],[]]\n",
    "    perimeter_value_frame = []\n",
    "    area_value_frame = []\n",
    "    dataframe_count = 0\n",
    "    dataframe_total = 100\n",
    "    perimeter_frame_dict = {}\n",
    "    area_frame_dict = {}\n",
    "    area_buffer = []\n",
    "    area_precision_buff = []\n",
    "    perimeter_buffer = []\n",
    "    perimeter_precision_buff = []\n",
    "    buffer_size = BUFFER_SIZE\n",
    "    buffer_fill = 0\n",
    "    for i in range(buffer_size):\n",
    "        area_buffer.append(0)\n",
    "        perimeter_buffer.append(0)\n",
    "\n",
    "    stream = urllib.request.urlopen('http://' + camera_name +'.local/html/cam_pic.php')\n",
    "    image_dir = \"/Users/pierre/Pictures/biology/Blob-Measuring/Level-Measurement-Experiment/stream-captures/\"\n",
    "    bytes = b''\n",
    "    #os.chdir(image_dir)\n",
    "\n",
    "    WINDOW_NAME = \"Camera\"\n",
    "    cv2.namedWindow(WINDOW_NAME)\n",
    "    cv2.startWindowThread()\n",
    "\n",
    "    while True:\n",
    "        # grab the frame from the threaded video stream, resize it, and convert it to grayscale\n",
    "        curr_dt = datetime.now()\n",
    "        timestamp = int(round(curr_dt.timestamp()))\n",
    "    #     print(\"Integer timestamp of current datetime: \",\n",
    "    #       timestamp)\n",
    "        bytes += stream.read(1024)\n",
    "        a = bytes.find(b'\\xff\\xd8') #frame starting \n",
    "        b = bytes.find(b'\\xff\\xd9') #frame ending\n",
    "        if a != -1 and b != -1:\n",
    "            jpg = bytes[a:b+2]\n",
    "            bytes = bytes[b+2:]\n",
    "            frame = cv2.imdecode(np.frombuffer(jpg, dtype=np.uint8), cv2.IMREAD_COLOR)\n",
    "            #cv2.imshow('image', img)\n",
    "            bytes = b''\n",
    "            url = 'http://' + camera_name +'.local/html/cam_pic.php?' + str(timestamp)\n",
    "            #print(url)\n",
    "            stream = urllib.request.urlopen(url)\n",
    "            #frame = imutils.resize(frame, width=600)\n",
    "            gray = cv2.cvtColor(frame, cv2.COLOR_BGR2GRAY)\n",
    "            gray_blurred = cv2.medianBlur(gray,91)\n",
    "            ret, thresh = cv2.threshold(gray_blurred, 130, 255, cv2.THRESH_BINARY_INV)\n",
    "\n",
    "            #get contours and fit ellipse\n",
    "            perimeter = \"boof\"\n",
    "            try:\n",
    "                        #my stuff\n",
    "                contours,hierarchy = cv2.findContours(thresh, 1, 2)\n",
    "                threshold_area_min = 5000     #threshold area \n",
    "                threshold_area_max = 15000\n",
    "                contours, hierarchy = cv2.findContours(thresh,1,2)  \n",
    "                # cnt = contours[0]\n",
    "                for cntr in contours:        \n",
    "                    area = cv2.contourArea(cntr)         \n",
    "                    if area > threshold_area_min and area < threshold_area_max:\n",
    "                        cnt = cntr\n",
    "                        area_buffer.pop(0)\n",
    "                        area_buffer.append(area)\n",
    "                        break\n",
    "                # cnt = contours[0]\n",
    "                # M = cv2.moments(cnt)\n",
    "\n",
    "                ellipse = cv2.fitEllipse(cnt)\n",
    "                cv2.ellipse(frame,ellipse,(0,255,0),5)\n",
    "\n",
    "                (a,b) = ellipse[1]\n",
    "                perimeter = (2 * 3.14 *\n",
    "                    sqrt((a * a + b * b) /\n",
    "                               (2 * 1.0)))\n",
    "                perimeter_buffer.pop(0)\n",
    "                perimeter_buffer.append(perimeter)\n",
    "                buffer_fill += 1\n",
    "\n",
    "            except:\n",
    "                pass\n",
    "            buffer_progress.value = min(buffer_fill, buffer_size)\n",
    "            # Display measured values on frame\n",
    "   \n",
    "            font = cv2.FONT_HERSHEY_SIMPLEX\n",
    "            #org = (50, 50)\n",
    "            fontScale = 0.5\n",
    "            color = (0, 136, 17)\n",
    "            thickness = 1\n",
    "            # Using cv2.putText() method\n",
    "#             try:\n",
    "#                 display_frame = cv2.putText(frame, str(cv2.contourArea(cnt)), (50,100), font, \n",
    "#                                     fontScale, color, thickness, cv2.LINE_AA)\n",
    "#                 display_frame = cv2.putText(display_frame, str(mean(area_buffer)), org, font, \n",
    "#                                     fontScale, color, thickness, cv2.LINE_AA)\n",
    "#                 display_frame = cv2.putText(display_frame, str(stdev(area_buffer)), (300,50), font, \n",
    "#                         fontScale, color, thickness, cv2.LINE_AA)\n",
    "#                 display_frame = cv2.putText(display_frame, str(variance(area_buffer)), (300,100), font, \n",
    "#                         fontScale, color, thickness, cv2.LINE_AA)\n",
    "#             except:\n",
    "#                 display_frame = cv2.putText(frame, \"boof\", (50,100), font, \n",
    "#                         fontScale, color, thickness, cv2.LINE_AA)\n",
    "            \n",
    "            try:\n",
    "                display_frame = cv2.putText(frame, \"per: \" + str(round(perimeter,2)), (50,50), font, \n",
    "                                    fontScale, color, thickness, cv2.LINE_AA)\n",
    "                display_frame = cv2.putText(display_frame, \"mean: \" + str(round(mean(perimeter_buffer),2)), (50,75), font, \n",
    "                                    fontScale, color, thickness, cv2.LINE_AA)\n",
    "                display_frame = cv2.putText(display_frame, \"stdev: \"+str(round(stdev(perimeter_buffer),2)), (300,50), font, \n",
    "                        fontScale, color, thickness, cv2.LINE_AA)\n",
    "                display_frame = cv2.putText(display_frame, \"var: \"+ str(round(variance(perimeter_buffer),2)), (300,75), font, \n",
    "                        fontScale, color, thickness, cv2.LINE_AA)\n",
    "            except:\n",
    "                display_frame = cv2.putText(frame, \"boof\", (50,100), font, \n",
    "                        fontScale, color, thickness, cv2.LINE_AA)\n",
    "            #display_frame = frame\n",
    "\n",
    "            # Display frame on screen\n",
    "            cv2.imshow(WINDOW_NAME, display_frame)\n",
    "            key = cv2.waitKey(1) & 0xFF\n",
    "            # if the 'q' key is pressed, stop the loop\n",
    "            if key == ord(\"q\"):\n",
    "                cv2.destroyAllWindows()\n",
    "                cv2.waitKey(1)\n",
    "                break\n",
    "            i += 1\n",
    "        #text.value = str(i) + \" \" + str(button.value)\n",
    "\n",
    "            # After button is pressed, wait for stdev of perimeter to be below a certain threshold\n",
    "            # if stdev(perimeter_buffer) < 0.5 then capture a datapoint and reset buffer\n",
    "            if button.value == True:\n",
    "                #i = 0\n",
    "                if(stdev(perimeter_buffer) < 1 and buffer_fill >= buffer_size):\n",
    "\n",
    "                    \n",
    "                    perimeter_precision_buff.append(mean(perimeter_buffer))\n",
    "                    area_precision_buff.append(mean(area_buffer))\n",
    "                    \n",
    "                    #reset buffer (effectively)\n",
    "                    buffer_fill = 0\n",
    "                    capture_progress.value += 1\n",
    "                    if capture_progress.value >= 5:\n",
    "                        text.value = str(int(text.value)+2).zfill(2)\n",
    "                        button.value = False\n",
    "                        capture_progress.value = 0\n",
    "\n",
    "                        cv2.imwrite(image_dir+img_folder.value + \"/\" + text.value+\".jpg\",frame)\n",
    "                        size[0].append(int(text.value)/10)\n",
    "                        size[1].append(perimeter)\n",
    "                        # size[2].append(mean(perimeter_buffer))\n",
    "                        # size[3].append(stdev(perimeter_buffer))\n",
    "                        size[2].append(mean(perimeter_precision_buff))\n",
    "                        size[3].append(stdev(perimeter_precision_buff))\n",
    "                        size[4].append(cv2.contourArea(cnt))\n",
    "                        # size[5].append(mean(area_buffer))\n",
    "                        # size[6].append(stdev(area_buffer))\n",
    "                        size[5].append(mean(area_precision_buff))\n",
    "                        size[6].append(stdev(area_precision_buff))\n",
    "\n",
    "                        #fill frames with data and reset buffers\n",
    "                        perimeter_frame_dict[text.value] = perimeter_precision_buff\n",
    "                        perimeter_precision_buff = []\n",
    "                        area_frame_dict[text.value] = area_precision_buff\n",
    "                        area_precision_buff = []\n",
    "                        df = pd.DataFrame(perimeter_frame_dict)\n",
    "                        df.to_csv(image_dir+img_folder.value+\"/\"+'perimeter_dataframe.csv')\n",
    "                        df = pd.DataFrame(area_frame_dict)\n",
    "                        df.to_csv(image_dir+img_folder.value+\"/\"+'area_dataframe.csv')\n",
    "                # capture_dataframe.value = True\n",
    "            await asyncio.sleep(0.001)\n",
    "            \n",
    "            if capture_dataframe.value == True:\n",
    "                perimeter_value_frame.append(perimeter)\n",
    "                area_value_frame.append(cv2.contourArea(cnt))\n",
    "                dataframe_count += 1\n",
    "                progress.value = float(dataframe_count+1)/dataframe_total\n",
    "                if dataframe_count >= dataframe_total:\n",
    "                    capture_dataframe.value = False\n",
    "                    dataframe_count = 0\n",
    "\n",
    "                    #fill frames with data\n",
    "                    perimeter_frame_dict[text.value] = perimeter_value_frame\n",
    "                    perimeter_value_frame = []\n",
    "                    area_frame_dict[text.value] = area_value_frame\n",
    "                    area_value_frame = []\n",
    "                    df = pd.DataFrame(perimeter_frame_dict)\n",
    "                    df.to_csv(image_dir+img_folder.value+\"/\"+'perimeter_dataframe.csv')\n",
    "                    df = pd.DataFrame(area_frame_dict)\n",
    "                    df.to_csv(image_dir+img_folder.value+\"/\"+'area_dataframe.csv')\n",
    "                    \n",
    "                \n",
    "                \n",
    "            if plot.value == True:\n",
    "                print(size)\n",
    "                plot.value = False\n",
    "                dict = {\"volume\" : size[0] , \"perimeter\" : size[1], \"perimeter_mean\" : size[2],\"perimeter_stdev\":size[3], \"contour_area\" : size[4], \"contour_area_average\":size[5], \"contour_area_stdev\":size[6]}\n",
    "                df = pd.DataFrame(dict) \n",
    "                # saving the dataframe \n",
    "                df.to_csv(image_dir+img_folder.value+\"/\"+'boof4.csv') \n",
    "                fig, ax = plt.subplots()\n",
    "                ax.errorbar(size[0], size[2], yerr=size[3],fmt=\"o\", mfc='red',\n",
    "                        mec='green')#, ms=20, mew=4)\n",
    "                # plt.title(\"Light Diffusion Average\")\n",
    "                # plt.show\n",
    "                \n",
    "                try:\n",
    "                    # plt.plot(size[0],size[1], 'ro')\n",
    "                    # x= size[0]\n",
    "                    # y=size[1]\n",
    "                    # z = np.polyfit(x, y, 3)\n",
    "                    # p = np.poly1d(z)\n",
    "                    # plt.plot(x,p(x),'k--',linewidth=2)\n",
    "                    # color = 0.8\n",
    "                    # plt.ylabel('Size ($mm^2$)')\n",
    "                    # plt.xlabel('ml')\n",
    "                    # plt.title(\"Light Diffusion\")\n",
    "                    # plt.show()\n",
    "                    \n",
    "                    plt.plot(size[0],size[2], 'ro')\n",
    "                    x=size[0]\n",
    "                    y=size[1]\n",
    "                    z = np.polyfit(x, y, 3)\n",
    "                    p = np.poly1d(z)\n",
    "                    plt.plot(x,p(x),'k--',linewidth=2)\n",
    "                    color = 0.8\n",
    "                    plt.ylabel('Size ($mm^2$)')\n",
    "                    plt.xlabel('ml')\n",
    "                    plt.title(\"Light Diffusion Average\")\n",
    "                    plt.show()\n",
    "                    #print( \"y=%.6fx+(%.6f)\"%(z[0],z[1]))\n",
    "\n",
    "                    \n",
    "                except:\n",
    "                    pass\n",
    "                \n",
    "            if stop_button.value == True:\n",
    "                cv2.destroyAllWindows()\n",
    "                cv2.waitKey(1)\n",
    "                return\n",
    "        \n",
    "asyncio.create_task(f());\n",
    "# if we are not using a video file, stop the camera video stream\n",
    "# if not args.get(\"video\", False):\n",
    "#     vs.stop()\n",
    "# # otherwise, release the camera\n",
    "# else:\n",
    "#     vs.release()\n",
    "# # close all windows\n",
    "# cv2.destroyAllWindows()\n"
   ]
  },
  {
   "cell_type": "code",
   "execution_count": 37,
   "id": "1faaa6db-ae5c-4d15-8f4a-2d2c01d945de",
   "metadata": {},
   "outputs": [
    {
     "ename": "NameError",
     "evalue": "name 'size' is not defined",
     "output_type": "error",
     "traceback": [
      "\u001b[0;31m---------------------------------------------------------------------------\u001b[0m",
      "\u001b[0;31mNameError\u001b[0m                                 Traceback (most recent call last)",
      "\u001b[1;32m/Users/pierre/Pictures/biology/Blob-Measuring/Video-Stream.ipynb Cell 5\u001b[0m in \u001b[0;36m<cell line: 1>\u001b[0;34m()\u001b[0m\n\u001b[0;32m----> <a href='vscode-notebook-cell:/Users/pierre/Pictures/biology/Blob-Measuring/Video-Stream.ipynb#ch0000004?line=0'>1</a>\u001b[0m size\n",
      "\u001b[0;31mNameError\u001b[0m: name 'size' is not defined"
     ]
    }
   ],
   "source": [
    "size"
   ]
  },
  {
   "cell_type": "code",
   "execution_count": 33,
   "id": "ad294d64",
   "metadata": {},
   "outputs": [
    {
     "name": "stdout",
     "output_type": "stream",
     "text": [
      "http://camerag11.local/html/cam_pic.php?1654123996\n",
      "http://camerag11.local/html/cam_pic.php?1654123997\n",
      "http://camerag11.local/html/cam_pic.php?1654123997\n",
      "http://camerag11.local/html/cam_pic.php?1654123997\n",
      "http://camerag11.local/html/cam_pic.php?1654123997\n",
      "http://camerag11.local/html/cam_pic.php?1654123997\n",
      "http://camerag11.local/html/cam_pic.php?1654123997\n",
      "http://camerag11.local/html/cam_pic.php?1654123997\n",
      "http://camerag11.local/html/cam_pic.php?1654123997\n",
      "http://camerag11.local/html/cam_pic.php?1654123997\n",
      "http://camerag11.local/html/cam_pic.php?1654123997\n",
      "http://camerag11.local/html/cam_pic.php?1654123997\n",
      "http://camerag11.local/html/cam_pic.php?1654123997\n",
      "http://camerag11.local/html/cam_pic.php?1654123997\n",
      "http://camerag11.local/html/cam_pic.php?1654123997\n",
      "http://camerag11.local/html/cam_pic.php?1654123997\n",
      "http://camerag11.local/html/cam_pic.php?1654123997\n",
      "http://camerag11.local/html/cam_pic.php?1654123997\n",
      "http://camerag11.local/html/cam_pic.php?1654123998\n",
      "http://camerag11.local/html/cam_pic.php?1654123998\n",
      "http://camerag11.local/html/cam_pic.php?1654123998\n",
      "http://camerag11.local/html/cam_pic.php?1654123998\n",
      "http://camerag11.local/html/cam_pic.php?1654123998\n",
      "http://camerag11.local/html/cam_pic.php?1654123998\n",
      "http://camerag11.local/html/cam_pic.php?1654123998\n",
      "http://camerag11.local/html/cam_pic.php?1654123998\n",
      "http://camerag11.local/html/cam_pic.php?1654123998\n",
      "http://camerag11.local/html/cam_pic.php?1654123998\n",
      "http://camerag11.local/html/cam_pic.php?1654123998\n",
      "http://camerag11.local/html/cam_pic.php?1654123998\n",
      "http://camerag11.local/html/cam_pic.php?1654123998\n",
      "http://camerag11.local/html/cam_pic.php?1654123998\n",
      "http://camerag11.local/html/cam_pic.php?1654123998\n",
      "http://camerag11.local/html/cam_pic.php?1654123998\n",
      "http://camerag11.local/html/cam_pic.php?1654123998\n",
      "http://camerag11.local/html/cam_pic.php?1654123999\n",
      "http://camerag11.local/html/cam_pic.php?1654123999\n",
      "http://camerag11.local/html/cam_pic.php?1654123999\n",
      "http://camerag11.local/html/cam_pic.php?1654123999\n",
      "http://camerag11.local/html/cam_pic.php?1654123999\n",
      "http://camerag11.local/html/cam_pic.php?1654123999\n",
      "http://camerag11.local/html/cam_pic.php?1654123999\n",
      "http://camerag11.local/html/cam_pic.php?1654123999\n",
      "http://camerag11.local/html/cam_pic.php?1654123999\n"
     ]
    },
    {
     "ename": "KeyboardInterrupt",
     "evalue": "",
     "output_type": "error",
     "traceback": [
      "\u001b[0;31m---------------------------------------------------------------------------\u001b[0m",
      "\u001b[0;31mKeyboardInterrupt\u001b[0m                         Traceback (most recent call last)",
      "Input \u001b[0;32mIn [33]\u001b[0m, in \u001b[0;36m<cell line: 11>\u001b[0;34m()\u001b[0m\n\u001b[1;32m     25\u001b[0m url \u001b[38;5;241m=\u001b[39m \u001b[38;5;124m'\u001b[39m\u001b[38;5;124mhttp://camerag11.local/html/cam_pic.php?\u001b[39m\u001b[38;5;124m'\u001b[39m \u001b[38;5;241m+\u001b[39m \u001b[38;5;28mstr\u001b[39m(timestamp)\n\u001b[1;32m     26\u001b[0m \u001b[38;5;28mprint\u001b[39m(url)\n\u001b[0;32m---> 27\u001b[0m stream \u001b[38;5;241m=\u001b[39m \u001b[43murllib\u001b[49m\u001b[38;5;241;43m.\u001b[39;49m\u001b[43mrequest\u001b[49m\u001b[38;5;241;43m.\u001b[39;49m\u001b[43murlopen\u001b[49m\u001b[43m(\u001b[49m\u001b[43murl\u001b[49m\u001b[43m)\u001b[49m\n\u001b[1;32m     29\u001b[0m \u001b[38;5;28;01mif\u001b[39;00m cv2\u001b[38;5;241m.\u001b[39mwaitKey(\u001b[38;5;241m1\u001b[39m) \u001b[38;5;241m==\u001b[39m \u001b[38;5;241m27\u001b[39m:\n\u001b[1;32m     30\u001b[0m     cv2\u001b[38;5;241m.\u001b[39mdestroyAllWindows()\n",
      "File \u001b[0;32m~/miniforge3/lib/python3.9/urllib/request.py:214\u001b[0m, in \u001b[0;36murlopen\u001b[0;34m(url, data, timeout, cafile, capath, cadefault, context)\u001b[0m\n\u001b[1;32m    212\u001b[0m \u001b[38;5;28;01melse\u001b[39;00m:\n\u001b[1;32m    213\u001b[0m     opener \u001b[38;5;241m=\u001b[39m _opener\n\u001b[0;32m--> 214\u001b[0m \u001b[38;5;28;01mreturn\u001b[39;00m \u001b[43mopener\u001b[49m\u001b[38;5;241;43m.\u001b[39;49m\u001b[43mopen\u001b[49m\u001b[43m(\u001b[49m\u001b[43murl\u001b[49m\u001b[43m,\u001b[49m\u001b[43m \u001b[49m\u001b[43mdata\u001b[49m\u001b[43m,\u001b[49m\u001b[43m \u001b[49m\u001b[43mtimeout\u001b[49m\u001b[43m)\u001b[49m\n",
      "File \u001b[0;32m~/miniforge3/lib/python3.9/urllib/request.py:517\u001b[0m, in \u001b[0;36mOpenerDirector.open\u001b[0;34m(self, fullurl, data, timeout)\u001b[0m\n\u001b[1;32m    514\u001b[0m     req \u001b[38;5;241m=\u001b[39m meth(req)\n\u001b[1;32m    516\u001b[0m sys\u001b[38;5;241m.\u001b[39maudit(\u001b[38;5;124m'\u001b[39m\u001b[38;5;124murllib.Request\u001b[39m\u001b[38;5;124m'\u001b[39m, req\u001b[38;5;241m.\u001b[39mfull_url, req\u001b[38;5;241m.\u001b[39mdata, req\u001b[38;5;241m.\u001b[39mheaders, req\u001b[38;5;241m.\u001b[39mget_method())\n\u001b[0;32m--> 517\u001b[0m response \u001b[38;5;241m=\u001b[39m \u001b[38;5;28;43mself\u001b[39;49m\u001b[38;5;241;43m.\u001b[39;49m\u001b[43m_open\u001b[49m\u001b[43m(\u001b[49m\u001b[43mreq\u001b[49m\u001b[43m,\u001b[49m\u001b[43m \u001b[49m\u001b[43mdata\u001b[49m\u001b[43m)\u001b[49m\n\u001b[1;32m    519\u001b[0m \u001b[38;5;66;03m# post-process response\u001b[39;00m\n\u001b[1;32m    520\u001b[0m meth_name \u001b[38;5;241m=\u001b[39m protocol\u001b[38;5;241m+\u001b[39m\u001b[38;5;124m\"\u001b[39m\u001b[38;5;124m_response\u001b[39m\u001b[38;5;124m\"\u001b[39m\n",
      "File \u001b[0;32m~/miniforge3/lib/python3.9/urllib/request.py:534\u001b[0m, in \u001b[0;36mOpenerDirector._open\u001b[0;34m(self, req, data)\u001b[0m\n\u001b[1;32m    531\u001b[0m     \u001b[38;5;28;01mreturn\u001b[39;00m result\n\u001b[1;32m    533\u001b[0m protocol \u001b[38;5;241m=\u001b[39m req\u001b[38;5;241m.\u001b[39mtype\n\u001b[0;32m--> 534\u001b[0m result \u001b[38;5;241m=\u001b[39m \u001b[38;5;28;43mself\u001b[39;49m\u001b[38;5;241;43m.\u001b[39;49m\u001b[43m_call_chain\u001b[49m\u001b[43m(\u001b[49m\u001b[38;5;28;43mself\u001b[39;49m\u001b[38;5;241;43m.\u001b[39;49m\u001b[43mhandle_open\u001b[49m\u001b[43m,\u001b[49m\u001b[43m \u001b[49m\u001b[43mprotocol\u001b[49m\u001b[43m,\u001b[49m\u001b[43m \u001b[49m\u001b[43mprotocol\u001b[49m\u001b[43m \u001b[49m\u001b[38;5;241;43m+\u001b[39;49m\n\u001b[1;32m    535\u001b[0m \u001b[43m                          \u001b[49m\u001b[38;5;124;43m'\u001b[39;49m\u001b[38;5;124;43m_open\u001b[39;49m\u001b[38;5;124;43m'\u001b[39;49m\u001b[43m,\u001b[49m\u001b[43m \u001b[49m\u001b[43mreq\u001b[49m\u001b[43m)\u001b[49m\n\u001b[1;32m    536\u001b[0m \u001b[38;5;28;01mif\u001b[39;00m result:\n\u001b[1;32m    537\u001b[0m     \u001b[38;5;28;01mreturn\u001b[39;00m result\n",
      "File \u001b[0;32m~/miniforge3/lib/python3.9/urllib/request.py:494\u001b[0m, in \u001b[0;36mOpenerDirector._call_chain\u001b[0;34m(self, chain, kind, meth_name, *args)\u001b[0m\n\u001b[1;32m    492\u001b[0m \u001b[38;5;28;01mfor\u001b[39;00m handler \u001b[38;5;129;01min\u001b[39;00m handlers:\n\u001b[1;32m    493\u001b[0m     func \u001b[38;5;241m=\u001b[39m \u001b[38;5;28mgetattr\u001b[39m(handler, meth_name)\n\u001b[0;32m--> 494\u001b[0m     result \u001b[38;5;241m=\u001b[39m \u001b[43mfunc\u001b[49m\u001b[43m(\u001b[49m\u001b[38;5;241;43m*\u001b[39;49m\u001b[43margs\u001b[49m\u001b[43m)\u001b[49m\n\u001b[1;32m    495\u001b[0m     \u001b[38;5;28;01mif\u001b[39;00m result \u001b[38;5;129;01mis\u001b[39;00m \u001b[38;5;129;01mnot\u001b[39;00m \u001b[38;5;28;01mNone\u001b[39;00m:\n\u001b[1;32m    496\u001b[0m         \u001b[38;5;28;01mreturn\u001b[39;00m result\n",
      "File \u001b[0;32m~/miniforge3/lib/python3.9/urllib/request.py:1375\u001b[0m, in \u001b[0;36mHTTPHandler.http_open\u001b[0;34m(self, req)\u001b[0m\n\u001b[1;32m   1374\u001b[0m \u001b[38;5;28;01mdef\u001b[39;00m \u001b[38;5;21mhttp_open\u001b[39m(\u001b[38;5;28mself\u001b[39m, req):\n\u001b[0;32m-> 1375\u001b[0m     \u001b[38;5;28;01mreturn\u001b[39;00m \u001b[38;5;28;43mself\u001b[39;49m\u001b[38;5;241;43m.\u001b[39;49m\u001b[43mdo_open\u001b[49m\u001b[43m(\u001b[49m\u001b[43mhttp\u001b[49m\u001b[38;5;241;43m.\u001b[39;49m\u001b[43mclient\u001b[49m\u001b[38;5;241;43m.\u001b[39;49m\u001b[43mHTTPConnection\u001b[49m\u001b[43m,\u001b[49m\u001b[43m \u001b[49m\u001b[43mreq\u001b[49m\u001b[43m)\u001b[49m\n",
      "File \u001b[0;32m~/miniforge3/lib/python3.9/urllib/request.py:1346\u001b[0m, in \u001b[0;36mAbstractHTTPHandler.do_open\u001b[0;34m(self, http_class, req, **http_conn_args)\u001b[0m\n\u001b[1;32m   1344\u001b[0m \u001b[38;5;28;01mtry\u001b[39;00m:\n\u001b[1;32m   1345\u001b[0m     \u001b[38;5;28;01mtry\u001b[39;00m:\n\u001b[0;32m-> 1346\u001b[0m         \u001b[43mh\u001b[49m\u001b[38;5;241;43m.\u001b[39;49m\u001b[43mrequest\u001b[49m\u001b[43m(\u001b[49m\u001b[43mreq\u001b[49m\u001b[38;5;241;43m.\u001b[39;49m\u001b[43mget_method\u001b[49m\u001b[43m(\u001b[49m\u001b[43m)\u001b[49m\u001b[43m,\u001b[49m\u001b[43m \u001b[49m\u001b[43mreq\u001b[49m\u001b[38;5;241;43m.\u001b[39;49m\u001b[43mselector\u001b[49m\u001b[43m,\u001b[49m\u001b[43m \u001b[49m\u001b[43mreq\u001b[49m\u001b[38;5;241;43m.\u001b[39;49m\u001b[43mdata\u001b[49m\u001b[43m,\u001b[49m\u001b[43m \u001b[49m\u001b[43mheaders\u001b[49m\u001b[43m,\u001b[49m\n\u001b[1;32m   1347\u001b[0m \u001b[43m                  \u001b[49m\u001b[43mencode_chunked\u001b[49m\u001b[38;5;241;43m=\u001b[39;49m\u001b[43mreq\u001b[49m\u001b[38;5;241;43m.\u001b[39;49m\u001b[43mhas_header\u001b[49m\u001b[43m(\u001b[49m\u001b[38;5;124;43m'\u001b[39;49m\u001b[38;5;124;43mTransfer-encoding\u001b[39;49m\u001b[38;5;124;43m'\u001b[39;49m\u001b[43m)\u001b[49m\u001b[43m)\u001b[49m\n\u001b[1;32m   1348\u001b[0m     \u001b[38;5;28;01mexcept\u001b[39;00m \u001b[38;5;167;01mOSError\u001b[39;00m \u001b[38;5;28;01mas\u001b[39;00m err: \u001b[38;5;66;03m# timeout error\u001b[39;00m\n\u001b[1;32m   1349\u001b[0m         \u001b[38;5;28;01mraise\u001b[39;00m URLError(err)\n",
      "File \u001b[0;32m~/miniforge3/lib/python3.9/http/client.py:1279\u001b[0m, in \u001b[0;36mHTTPConnection.request\u001b[0;34m(self, method, url, body, headers, encode_chunked)\u001b[0m\n\u001b[1;32m   1276\u001b[0m \u001b[38;5;28;01mdef\u001b[39;00m \u001b[38;5;21mrequest\u001b[39m(\u001b[38;5;28mself\u001b[39m, method, url, body\u001b[38;5;241m=\u001b[39m\u001b[38;5;28;01mNone\u001b[39;00m, headers\u001b[38;5;241m=\u001b[39m{}, \u001b[38;5;241m*\u001b[39m,\n\u001b[1;32m   1277\u001b[0m             encode_chunked\u001b[38;5;241m=\u001b[39m\u001b[38;5;28;01mFalse\u001b[39;00m):\n\u001b[1;32m   1278\u001b[0m     \u001b[38;5;124;03m\"\"\"Send a complete request to the server.\"\"\"\u001b[39;00m\n\u001b[0;32m-> 1279\u001b[0m     \u001b[38;5;28;43mself\u001b[39;49m\u001b[38;5;241;43m.\u001b[39;49m\u001b[43m_send_request\u001b[49m\u001b[43m(\u001b[49m\u001b[43mmethod\u001b[49m\u001b[43m,\u001b[49m\u001b[43m \u001b[49m\u001b[43murl\u001b[49m\u001b[43m,\u001b[49m\u001b[43m \u001b[49m\u001b[43mbody\u001b[49m\u001b[43m,\u001b[49m\u001b[43m \u001b[49m\u001b[43mheaders\u001b[49m\u001b[43m,\u001b[49m\u001b[43m \u001b[49m\u001b[43mencode_chunked\u001b[49m\u001b[43m)\u001b[49m\n",
      "File \u001b[0;32m~/miniforge3/lib/python3.9/http/client.py:1325\u001b[0m, in \u001b[0;36mHTTPConnection._send_request\u001b[0;34m(self, method, url, body, headers, encode_chunked)\u001b[0m\n\u001b[1;32m   1321\u001b[0m \u001b[38;5;28;01mif\u001b[39;00m \u001b[38;5;28misinstance\u001b[39m(body, \u001b[38;5;28mstr\u001b[39m):\n\u001b[1;32m   1322\u001b[0m     \u001b[38;5;66;03m# RFC 2616 Section 3.7.1 says that text default has a\u001b[39;00m\n\u001b[1;32m   1323\u001b[0m     \u001b[38;5;66;03m# default charset of iso-8859-1.\u001b[39;00m\n\u001b[1;32m   1324\u001b[0m     body \u001b[38;5;241m=\u001b[39m _encode(body, \u001b[38;5;124m'\u001b[39m\u001b[38;5;124mbody\u001b[39m\u001b[38;5;124m'\u001b[39m)\n\u001b[0;32m-> 1325\u001b[0m \u001b[38;5;28;43mself\u001b[39;49m\u001b[38;5;241;43m.\u001b[39;49m\u001b[43mendheaders\u001b[49m\u001b[43m(\u001b[49m\u001b[43mbody\u001b[49m\u001b[43m,\u001b[49m\u001b[43m \u001b[49m\u001b[43mencode_chunked\u001b[49m\u001b[38;5;241;43m=\u001b[39;49m\u001b[43mencode_chunked\u001b[49m\u001b[43m)\u001b[49m\n",
      "File \u001b[0;32m~/miniforge3/lib/python3.9/http/client.py:1274\u001b[0m, in \u001b[0;36mHTTPConnection.endheaders\u001b[0;34m(self, message_body, encode_chunked)\u001b[0m\n\u001b[1;32m   1272\u001b[0m \u001b[38;5;28;01melse\u001b[39;00m:\n\u001b[1;32m   1273\u001b[0m     \u001b[38;5;28;01mraise\u001b[39;00m CannotSendHeader()\n\u001b[0;32m-> 1274\u001b[0m \u001b[38;5;28;43mself\u001b[39;49m\u001b[38;5;241;43m.\u001b[39;49m\u001b[43m_send_output\u001b[49m\u001b[43m(\u001b[49m\u001b[43mmessage_body\u001b[49m\u001b[43m,\u001b[49m\u001b[43m \u001b[49m\u001b[43mencode_chunked\u001b[49m\u001b[38;5;241;43m=\u001b[39;49m\u001b[43mencode_chunked\u001b[49m\u001b[43m)\u001b[49m\n",
      "File \u001b[0;32m~/miniforge3/lib/python3.9/http/client.py:1034\u001b[0m, in \u001b[0;36mHTTPConnection._send_output\u001b[0;34m(self, message_body, encode_chunked)\u001b[0m\n\u001b[1;32m   1032\u001b[0m msg \u001b[38;5;241m=\u001b[39m \u001b[38;5;124mb\u001b[39m\u001b[38;5;124m\"\u001b[39m\u001b[38;5;130;01m\\r\u001b[39;00m\u001b[38;5;130;01m\\n\u001b[39;00m\u001b[38;5;124m\"\u001b[39m\u001b[38;5;241m.\u001b[39mjoin(\u001b[38;5;28mself\u001b[39m\u001b[38;5;241m.\u001b[39m_buffer)\n\u001b[1;32m   1033\u001b[0m \u001b[38;5;28;01mdel\u001b[39;00m \u001b[38;5;28mself\u001b[39m\u001b[38;5;241m.\u001b[39m_buffer[:]\n\u001b[0;32m-> 1034\u001b[0m \u001b[38;5;28;43mself\u001b[39;49m\u001b[38;5;241;43m.\u001b[39;49m\u001b[43msend\u001b[49m\u001b[43m(\u001b[49m\u001b[43mmsg\u001b[49m\u001b[43m)\u001b[49m\n\u001b[1;32m   1036\u001b[0m \u001b[38;5;28;01mif\u001b[39;00m message_body \u001b[38;5;129;01mis\u001b[39;00m \u001b[38;5;129;01mnot\u001b[39;00m \u001b[38;5;28;01mNone\u001b[39;00m:\n\u001b[1;32m   1037\u001b[0m \n\u001b[1;32m   1038\u001b[0m     \u001b[38;5;66;03m# create a consistent interface to message_body\u001b[39;00m\n\u001b[1;32m   1039\u001b[0m     \u001b[38;5;28;01mif\u001b[39;00m \u001b[38;5;28mhasattr\u001b[39m(message_body, \u001b[38;5;124m'\u001b[39m\u001b[38;5;124mread\u001b[39m\u001b[38;5;124m'\u001b[39m):\n\u001b[1;32m   1040\u001b[0m         \u001b[38;5;66;03m# Let file-like take precedence over byte-like.  This\u001b[39;00m\n\u001b[1;32m   1041\u001b[0m         \u001b[38;5;66;03m# is needed to allow the current position of mmap'ed\u001b[39;00m\n\u001b[1;32m   1042\u001b[0m         \u001b[38;5;66;03m# files to be taken into account.\u001b[39;00m\n",
      "File \u001b[0;32m~/miniforge3/lib/python3.9/http/client.py:974\u001b[0m, in \u001b[0;36mHTTPConnection.send\u001b[0;34m(self, data)\u001b[0m\n\u001b[1;32m    972\u001b[0m \u001b[38;5;28;01mif\u001b[39;00m \u001b[38;5;28mself\u001b[39m\u001b[38;5;241m.\u001b[39msock \u001b[38;5;129;01mis\u001b[39;00m \u001b[38;5;28;01mNone\u001b[39;00m:\n\u001b[1;32m    973\u001b[0m     \u001b[38;5;28;01mif\u001b[39;00m \u001b[38;5;28mself\u001b[39m\u001b[38;5;241m.\u001b[39mauto_open:\n\u001b[0;32m--> 974\u001b[0m         \u001b[38;5;28;43mself\u001b[39;49m\u001b[38;5;241;43m.\u001b[39;49m\u001b[43mconnect\u001b[49m\u001b[43m(\u001b[49m\u001b[43m)\u001b[49m\n\u001b[1;32m    975\u001b[0m     \u001b[38;5;28;01melse\u001b[39;00m:\n\u001b[1;32m    976\u001b[0m         \u001b[38;5;28;01mraise\u001b[39;00m NotConnected()\n",
      "File \u001b[0;32m~/miniforge3/lib/python3.9/http/client.py:945\u001b[0m, in \u001b[0;36mHTTPConnection.connect\u001b[0;34m(self)\u001b[0m\n\u001b[1;32m    943\u001b[0m \u001b[38;5;28;01mdef\u001b[39;00m \u001b[38;5;21mconnect\u001b[39m(\u001b[38;5;28mself\u001b[39m):\n\u001b[1;32m    944\u001b[0m     \u001b[38;5;124;03m\"\"\"Connect to the host and port specified in __init__.\"\"\"\u001b[39;00m\n\u001b[0;32m--> 945\u001b[0m     \u001b[38;5;28mself\u001b[39m\u001b[38;5;241m.\u001b[39msock \u001b[38;5;241m=\u001b[39m \u001b[38;5;28;43mself\u001b[39;49m\u001b[38;5;241;43m.\u001b[39;49m\u001b[43m_create_connection\u001b[49m\u001b[43m(\u001b[49m\n\u001b[1;32m    946\u001b[0m \u001b[43m        \u001b[49m\u001b[43m(\u001b[49m\u001b[38;5;28;43mself\u001b[39;49m\u001b[38;5;241;43m.\u001b[39;49m\u001b[43mhost\u001b[49m\u001b[43m,\u001b[49m\u001b[38;5;28;43mself\u001b[39;49m\u001b[38;5;241;43m.\u001b[39;49m\u001b[43mport\u001b[49m\u001b[43m)\u001b[49m\u001b[43m,\u001b[49m\u001b[43m \u001b[49m\u001b[38;5;28;43mself\u001b[39;49m\u001b[38;5;241;43m.\u001b[39;49m\u001b[43mtimeout\u001b[49m\u001b[43m,\u001b[49m\u001b[43m \u001b[49m\u001b[38;5;28;43mself\u001b[39;49m\u001b[38;5;241;43m.\u001b[39;49m\u001b[43msource_address\u001b[49m\u001b[43m)\u001b[49m\n\u001b[1;32m    947\u001b[0m     \u001b[38;5;28mself\u001b[39m\u001b[38;5;241m.\u001b[39msock\u001b[38;5;241m.\u001b[39msetsockopt(socket\u001b[38;5;241m.\u001b[39mIPPROTO_TCP, socket\u001b[38;5;241m.\u001b[39mTCP_NODELAY, \u001b[38;5;241m1\u001b[39m)\n\u001b[1;32m    949\u001b[0m     \u001b[38;5;28;01mif\u001b[39;00m \u001b[38;5;28mself\u001b[39m\u001b[38;5;241m.\u001b[39m_tunnel_host:\n",
      "File \u001b[0;32m~/miniforge3/lib/python3.9/socket.py:832\u001b[0m, in \u001b[0;36mcreate_connection\u001b[0;34m(address, timeout, source_address)\u001b[0m\n\u001b[1;32m    830\u001b[0m \u001b[38;5;28;01mif\u001b[39;00m source_address:\n\u001b[1;32m    831\u001b[0m     sock\u001b[38;5;241m.\u001b[39mbind(source_address)\n\u001b[0;32m--> 832\u001b[0m \u001b[43msock\u001b[49m\u001b[38;5;241;43m.\u001b[39;49m\u001b[43mconnect\u001b[49m\u001b[43m(\u001b[49m\u001b[43msa\u001b[49m\u001b[43m)\u001b[49m\n\u001b[1;32m    833\u001b[0m \u001b[38;5;66;03m# Break explicitly a reference cycle\u001b[39;00m\n\u001b[1;32m    834\u001b[0m err \u001b[38;5;241m=\u001b[39m \u001b[38;5;28;01mNone\u001b[39;00m\n",
      "\u001b[0;31mKeyboardInterrupt\u001b[0m: "
     ]
    }
   ],
   "source": [
    "import cv2\n",
    "import urllib.request\n",
    "import numpy as np\n",
    "from datetime import datetime\n",
    "\n",
    "stream = urllib.request.urlopen('http://camerag11.local/html/cam_pic.php')\n",
    "bytes = b''\n",
    "while True:\n",
    "    \n",
    "\n",
    "    curr_dt = datetime.now()\n",
    "    timestamp = int(round(curr_dt.timestamp()))\n",
    "\n",
    "#     print(\"Integer timestamp of current datetime: \",\n",
    "#       timestamp)\n",
    "    bytes += stream.read(1024)\n",
    "    a = bytes.find(b'\\xff\\xd8') #frame starting \n",
    "    b = bytes.find(b'\\xff\\xd9') #frame ending\n",
    "    if a != -1 and b != -1:\n",
    "        jpg = bytes[a:b+2]\n",
    "        bytes = bytes[b+2:]\n",
    "        img = cv2.imdecode(np.frombuffer(jpg, dtype=np.uint8), cv2.IMREAD_COLOR)\n",
    "        cv2.imshow('image', img)\n",
    "        bytes = b''\n",
    "        url = 'http://camerag11.local/html/cam_pic.php?' + str(timestamp)\n",
    "        print(url)\n",
    "        stream = urllib.request.urlopen(url)\n",
    "        \n",
    "        if cv2.waitKey(1) == 27:\n",
    "            cv2.destroyAllWindows()\n",
    "            break"
   ]
  },
  {
   "cell_type": "code",
   "execution_count": 8,
   "id": "568718dc-ae88-4478-9039-f2ccb27b432f",
   "metadata": {},
   "outputs": [
    {
     "data": {
      "application/vnd.jupyter.widget-view+json": {
       "model_id": "71b10f7d55494cdab68948638d6f6768",
       "version_major": 2,
       "version_minor": 0
      },
      "text/plain": [
       "ToggleButton(value=False)"
      ]
     },
     "metadata": {},
     "output_type": "display_data"
    },
    {
     "data": {
      "application/vnd.jupyter.widget-view+json": {
       "model_id": "f226ddcb3e444de38db190de308275ac",
       "version_major": 2,
       "version_minor": 0
      },
      "text/plain": [
       "Text(value='')"
      ]
     },
     "metadata": {},
     "output_type": "display_data"
    },
    {
     "data": {
      "application/vnd.jupyter.widget-view+json": {
       "model_id": "3c23a0d361a8405f877a07883c151dd1",
       "version_major": 2,
       "version_minor": 0
      },
      "text/plain": [
       "Text(value='')"
      ]
     },
     "metadata": {},
     "output_type": "display_data"
    },
    {
     "data": {
      "application/vnd.jupyter.widget-view+json": {
       "model_id": "0a4b7a9812b24edf8f0ff15cac8a6b2e",
       "version_major": 2,
       "version_minor": 0
      },
      "text/plain": [
       "ToggleButton(value=False, description='Stop')"
      ]
     },
     "metadata": {},
     "output_type": "display_data"
    }
   ],
   "source": [
    "%gui asyncio\n",
    "import asyncio\n",
    "import ipywidgets as widgets\n",
    "\n",
    "button = widgets.ToggleButton()\n",
    "display(button)\n",
    "text = widgets.Text()\n",
    "text_input = widgets.Text()\n",
    "display(text)\n",
    "display(text_input)\n",
    "text.value= str(button.value)\n",
    "\n",
    "stop_button = widgets.ToggleButton()\n",
    "stop_button.description = \"Stop\"\n",
    "display(stop_button)\n",
    "\n",
    "async def f():   \n",
    "    i=0\n",
    "    while True:\n",
    "        i += 1\n",
    "        #text.value = str(i) + \" \" + str(button.value)\n",
    "        if button.value == True:\n",
    "            i = 0\n",
    "            button.value = False\n",
    "            text.value = text_input.value\n",
    "        await asyncio.sleep(0.001)\n",
    "        if stop_button.value == True:\n",
    "            return\n",
    "\n",
    "asyncio.create_task(f());"
   ]
  }
 ],
 "metadata": {
  "kernelspec": {
   "display_name": "Python 3.9.7 ('base')",
   "language": "python",
   "name": "python3"
  },
  "language_info": {
   "codemirror_mode": {
    "name": "ipython",
    "version": 3
   },
   "file_extension": ".py",
   "mimetype": "text/x-python",
   "name": "python",
   "nbconvert_exporter": "python",
   "pygments_lexer": "ipython3",
   "version": "3.9.7"
  },
  "vscode": {
   "interpreter": {
    "hash": "3ec8f1b2517460a7fea7378739fe7664b5a33dfb55335b66cc1a5af5ab6bd4af"
   }
  }
 },
 "nbformat": 4,
 "nbformat_minor": 5
}
