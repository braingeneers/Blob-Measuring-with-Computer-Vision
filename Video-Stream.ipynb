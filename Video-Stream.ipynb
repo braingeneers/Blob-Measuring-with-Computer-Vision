{
 "cells": [
  {
   "cell_type": "code",
   "execution_count": null,
   "id": "f13c298e",
   "metadata": {},
   "outputs": [],
   "source": [
    "# !pip install imutils"
   ]
  },
  {
   "cell_type": "code",
   "execution_count": null,
   "id": "9840f16c-ffdf-49da-b64b-f7b4990dcb38",
   "metadata": {},
   "outputs": [],
   "source": [
    "# !conda install -c conda-forge ipywidgets -y"
   ]
  },
  {
   "cell_type": "code",
   "execution_count": 27,
   "id": "31d96db5",
   "metadata": {},
   "outputs": [],
   "source": [
    "#https://pyimagesearch.com/2015/09/14/ball-tracking-with-opencv/\n",
    "\n",
    "# import the necessary packages\n",
    "from collections import deque\n",
    "from imutils.video import VideoStream\n",
    "import numpy as np\n",
    "import argparse\n",
    "import cv2\n",
    "import imutils\n",
    "import time\n",
    "from matplotlib import pyplot as plt\n",
    "from math import sqrt\n",
    "import urllib.request\n",
    "from datetime import datetime\n",
    "import ipywidgets as widgets\n",
    "import pandas as pd\n",
    "from statistics import mean, variance, stdev\n",
    "# construct the argument parse and parse the arguments\n",
    "ap = argparse.ArgumentParser()\n",
    "ap.add_argument(\"-v\", \"--video\", help=\"path to the (optional) video file\");\n",
    "ap.add_argument(\"-b\", \"--buffer\", type=int, default=64, help=\"max buffer size\");\n",
    "#args = vars(ap.parse_args())\n",
    "buffer = 64\n",
    "# define the lower and upper boundaries of the \"green\"\n",
    "# ball in the HSV color space, then initialize the\n",
    "# list of tracked points\n",
    "greenLower = (29, 86, 6)\n",
    "greenUpper = (64, 255, 255)\n",
    "\n",
    "#pts = deque(maxlen=args[\"buffer\"])\n",
    "pts = deque(maxlen = buffer)\n",
    "\n",
    "# if a video path was not supplied, grab the reference\n",
    "# to the webcam\n",
    "# if not args.get(\"video\", False):\n",
    "#     vs = VideoStream(src=0).start()\n",
    "# # otherwise, grab a reference to the video file\n",
    "# else:\n",
    "#     vs = cv2.VideoCapture(args[\"video\"])\n",
    "\n",
    "#vs = VideoStream(src=\"rtsp://advancedcameranode.local:8554/cam\").start()\n",
    "\n",
    "#vs = VideoStream(src=\"http://camerag11.local/html/min.php\").start()\n",
    "# allow the camera or video file to warm up\n",
    "#time.sleep(2.0)\n",
    "# from IPython.display import display\n",
    "# take_pic = 0\n",
    "# button = widgets.Button(description=\"Click Me!\")\n",
    "# output = widgets.Output()\n",
    "\n",
    "# display(button, output)\n",
    "# def on_button_clicked(b):\n",
    "#     with output:\n",
    "#         take_pic += 1\n",
    "#         print(\"Button clicked.\")\n",
    "#         print(str(take_pic))\n",
    "\n",
    "# button.on_click(on_button_clicked)\n"
   ]
  },
  {
   "cell_type": "code",
   "execution_count": 53,
   "id": "9c812cbf",
   "metadata": {},
   "outputs": [
    {
     "data": {
      "application/vnd.jupyter.widget-view+json": {
       "model_id": "fcddb7b2857142198aa5dc2832294643",
       "version_major": 2,
       "version_minor": 0
      },
      "text/plain": [
       "ToggleButton(value=False, description='capture image')"
      ]
     },
     "metadata": {},
     "output_type": "display_data"
    },
    {
     "data": {
      "application/vnd.jupyter.widget-view+json": {
       "model_id": "072e05ca86b2457cba5fa0dbd79296c6",
       "version_major": 2,
       "version_minor": 0
      },
      "text/plain": [
       "IntProgress(value=0, description='Buffer', max=50)"
      ]
     },
     "metadata": {},
     "output_type": "display_data"
    },
    {
     "data": {
      "application/vnd.jupyter.widget-view+json": {
       "model_id": "6ea53c64355f4e75997862a7562242cb",
       "version_major": 2,
       "version_minor": 0
      },
      "text/plain": [
       "IntProgress(value=0, description='Captures', max=5)"
      ]
     },
     "metadata": {},
     "output_type": "display_data"
    },
    {
     "data": {
      "application/vnd.jupyter.widget-view+json": {
       "model_id": "929d71b7e8b246119a12cb13feaf66da",
       "version_major": 2,
       "version_minor": 0
      },
      "text/plain": [
       "Text(value='00', description='filename')"
      ]
     },
     "metadata": {},
     "output_type": "display_data"
    },
    {
     "data": {
      "application/vnd.jupyter.widget-view+json": {
       "model_id": "860c6dccf1f84834b41d16f47cf6f826",
       "version_major": 2,
       "version_minor": 0
      },
      "text/plain": [
       "IntSlider(value=1, description='Increment', max=30, min=1)"
      ]
     },
     "metadata": {},
     "output_type": "display_data"
    },
    {
     "data": {
      "application/vnd.jupyter.widget-view+json": {
       "model_id": "7892ae0aa439474f9b0c781f775f1a67",
       "version_major": 2,
       "version_minor": 0
      },
      "text/plain": [
       "ToggleButton(value=False, description='plot size')"
      ]
     },
     "metadata": {},
     "output_type": "display_data"
    },
    {
     "data": {
      "application/vnd.jupyter.widget-view+json": {
       "model_id": "30f4f380640f49e4afc6325788a62551",
       "version_major": 2,
       "version_minor": 0
      },
      "text/plain": [
       "Text(value='25-July-2022T13:23:41', description='folder')"
      ]
     },
     "metadata": {},
     "output_type": "display_data"
    },
    {
     "data": {
      "application/vnd.jupyter.widget-view+json": {
       "model_id": "c865bf2a67fb4abdbb779cb5b2c955df",
       "version_major": 2,
       "version_minor": 0
      },
      "text/plain": [
       "Button(description='Create Folder', style=ButtonStyle())"
      ]
     },
     "metadata": {},
     "output_type": "display_data"
    },
    {
     "data": {
      "application/vnd.jupyter.widget-view+json": {
       "model_id": "7313d816df894e129d78f6324d0c408b",
       "version_major": 2,
       "version_minor": 0
      },
      "text/plain": [
       "FloatProgress(value=0.0, max=1.0)"
      ]
     },
     "metadata": {},
     "output_type": "display_data"
    },
    {
     "data": {
      "application/vnd.jupyter.widget-view+json": {
       "model_id": "9717b69522964850b445b5a516b40676",
       "version_major": 2,
       "version_minor": 0
      },
      "text/plain": [
       "ToggleButton(value=False, description='get dataframe')"
      ]
     },
     "metadata": {},
     "output_type": "display_data"
    },
    {
     "data": {
      "application/vnd.jupyter.widget-view+json": {
       "model_id": "27c36dc85d884cbeb0aaddd08f14fd4f",
       "version_major": 2,
       "version_minor": 0
      },
      "text/plain": [
       "ToggleButton(value=False, description='Stop')"
      ]
     },
     "metadata": {},
     "output_type": "display_data"
    },
    {
     "data": {
      "application/vnd.jupyter.widget-view+json": {
       "model_id": "917de2b6815e4512bdf1894f978eed39",
       "version_major": 2,
       "version_minor": 0
      },
      "text/plain": [
       "Output()"
      ]
     },
     "metadata": {},
     "output_type": "display_data"
    },
    {
     "data": {
      "text/plain": [
       "<Task pending name='Task-52' coro=<f() running at /var/folders/5z/d1d_q74d1hd653s14vwq9v800000gn/T/ipykernel_72397/2428238622.py:88>>"
      ]
     },
     "execution_count": 53,
     "metadata": {},
     "output_type": "execute_result"
    },
    {
     "name": "stdout",
     "output_type": "stream",
     "text": [
      "hello\n",
      "[[0.4, 0.5, 0.6, 0.7, 0.8, 0.9, 1.0, 1.1, 1.2, 1.3, 1.4, 1.5, 1.6, 1.7, 1.8, 1.9, 2.0, 2.1, 2.2, 2.3, 2.4, 2.5, 2.6, 2.7, 2.8, 2.9, 3.0, 3.1, 3.2, 3.3, 3.4, 3.5, 3.6], [547.6814163343391, 557.9681617573273, 570.0587442179261, 574.9354075711283, 575.3858853687365, 577.4676608776795, 582.8855121314914, 588.3626284330444, 593.6812914924797, 597.8717313414453, 601.4479321735969, 603.7491884594394, 608.704627718437, 614.8816860086863, 619.5183487598827, 623.5550304200303, 625.1111996414428, 633.5033549824894, 637.3579010016628, 645.1224558644368, 649.2751934905274, 655.3185959285535, 657.6496242169732, 665.9449532796591, 668.0643063355506, 673.6614387685428, 679.2115712624135, 682.9844274439232, 692.2006807171678, 700.0473193163925, 711.5581225477672, 689.688508987144, 689.688508987144], [547.1476816146649, 558.2663642610024, 570.9219572847496, 575.0733634903271, 575.6983206289725, 579.4978723824653, 583.6951415945639, 589.2149333840765, 593.9901524795617, 598.2147965550424, 602.0548498287773, 604.0934675173456, 610.0907293805216, 615.9140796557823, 620.8165567571268, 623.1849232838701, 625.3353987661185, 634.2540851767487, 637.7211668658975, 645.4087634123746, 649.6788682183181, 655.615692272583, 658.1174674312681, 666.2733638678073, 668.7259170375007, 674.802392669765, 679.0428968552523, 683.6529135757855, 693.9093328163913, 700.2018093471324, 711.5581225477672, 689.688508987144, 689.688508987144], [0.22133454126644805, 0.503143247358962, 0.7534121960137746, 0.4652142434858565, 0.4453519240586591, 0.6668954917466302, 0.36898723904485425, 0.4141194771119794, 0.45445608819558947, 0.5635730876797457, 0.576807728806821, 0.2579392559482232, 0.6620790041777092, 0.6934271753001783, 0.6007577183575351, 0.07093180365203373, 0.49254996897688363, 0.249421021802369, 0.4816769737887693, 0.23546268963190975, 1.1209164433873262, 0.24470903976507993, 0.2173827067636537, 0.4782897948782878, 0.5883971640221024, 0.7119389364761864, 0.14273810622489977, 0.7592717650971796, 1.3270330486768485, 0.5150850767245109, 0.0, 0.0, 0.0], [5894.0, 6125.5, 6378.0, 6491.0, 6518.5, 6571.0, 6691.5, 6823.5, 6941.5, 7035.0, 7111.0, 7169.5, 7306.0, 7457.5, 7571.5, 7637.5, 7720.0, 7902.5, 8016.5, 8180.5, 8317.0, 8457.0, 8541.0, 8728.5, 8815.5, 8937.0, 9049.5, 9208.5, 9443.5, 9679.5, 9982.5, 9375.5, 9375.5], [5895.044, 6125.842, 6387.697999999999, 6499.09, 6525.552, 6598.218, 6708.632, 6838.46, 6945.794, 7039.916, 7125.042, 7176.13, 7324.336, 7478.112, 7598.054, 7656.018, 7724.792, 7921.756, 8010.168000000001, 8201.014, 8321.602, 8480.264000000001, 8559.566, 8737.056, 8839.6, 8972.784, 9069.856, 9223.616, 9486.746, 9679.606, 9708.04, 9722.36, 9722.36], [4.75871095991356, 4.294190261271861, 9.628074573869814, 9.329099635012994, 8.967012880552943, 14.021494927431783, 8.90149257147364, 7.915083701389289, 9.437832378252912, 8.495947857655487, 11.151471651759502, 6.152202857513684, 10.254273743176498, 12.715115807573541, 12.274142739923104, 8.792682753289919, 8.609420421840147, 10.927681821868616, 9.731514270657142, 13.4350094901342, 20.43681775619699, 17.862926132075735, 10.793277074179437, 18.194267778616233, 19.571269759522707, 19.799835352850987, 23.349615200254906, 17.045710017479724, 32.514046656791265, 12.14423855167529, 0.0, 0.0, 0.0]]\n"
     ]
    },
    {
     "data": {
      "image/png": "[encoded data removed]",
      "text/plain": [
       "<Figure size 432x288 with 1 Axes>"
      ]
     },
     "metadata": {
      "needs_background": "light"
     },
     "output_type": "display_data"
    },
    {
     "data": {
      "image/png": "[encoded data removed]",
      "text/plain": [
       "<Figure size 432x288 with 1 Axes>"
      ]
     },
     "metadata": {
      "needs_background": "light"
     },
     "output_type": "display_data"
    }
   ],
   "source": [
    "%gui asyncio\n",
    "import asyncio\n",
    "import ipywidgets as widgets\n",
    "import os\n",
    "import math\n",
    "import csv\n",
    "import numpy as np\n",
    "\n",
    "from datetime import datetime\n",
    "\n",
    "# Getting the current date and time\n",
    "dt = datetime.now()\n",
    "## todo:\n",
    "# 1. save the contents of the precision buffers into a dataframe\n",
    "# 2. get the plots to come out separately\n",
    "# 3. Gather data \n",
    "image_dir = \"/Users/pierre/Pictures/biology/Blob-Measuring/Level-Measurement-Experiment/stream-captures/\"\n",
    "\n",
    "BUFFER_SIZE = 50\n",
    "PRECISION_BUFFER_SIZE = 5\n",
    "camera_name = \"camerafluidleveldetect\"\n",
    "progress = widgets.FloatProgress(value=0.0, min=0.0, max=1.0)\n",
    "buffer_progress = widgets.IntProgress(value=0, min=0, max=BUFFER_SIZE)\n",
    "buffer_progress.description = \"Buffer\"\n",
    "capture_progress = widgets.IntProgress(value=0, min=0, max=PRECISION_BUFFER_SIZE)\n",
    "capture_progress.description = \"Captures\"\n",
    "capture_dataframe = widgets.ToggleButton()\n",
    "capture_dataframe.description = \"get dataframe\"\n",
    "capture_datapoint = widgets.ToggleButton()\n",
    "capture_datapoint.description = \"capture image\"\n",
    "display(capture_datapoint)\n",
    "display(buffer_progress)\n",
    "display(capture_progress)\n",
    "fluid_volume = widgets.Text()\n",
    "fluid_volume.value = \"00\"\n",
    "fluid_volume.description = \"filename\"\n",
    "#an int slider widget that sets the value of fluid_volume.value\n",
    "fluid_value_slider = widgets.IntSlider(value=1, min=1, max=30, step=1)\n",
    "fluid_value_slider.description = \"Increment\"\n",
    "\n",
    "\n",
    "img_folder = widgets.Text()\n",
    "img_folder.description = \"folder\"\n",
    "img_folder.value = dt.strftime(\"%d-%B-%YT%H:%M:%S\")\n",
    "plot = widgets.ToggleButton()\n",
    "plot.description = \"plot size\"\n",
    "\n",
    "output = widgets.Output()\n",
    "#a button to create a new folder\n",
    "dir_button = widgets.Button(description=\"Create Folder\")\n",
    "#a button widget that creates a directory from the img_folder.value parameter\n",
    "def create_folder(b):\n",
    "    with output:\n",
    "        if img_folder.value is not None:\n",
    "            if not os.path.exists(image_dir+img_folder.value):\n",
    "                os.makedirs(image_dir+img_folder.value)\n",
    "                print(\"Folder Created\")\n",
    "            else:\n",
    "                print(\"Folder already exists\")\n",
    "        else:\n",
    "            print(\"Folder not created\")\n",
    "\n",
    "dir_button.on_click(create_folder)\n",
    "\n",
    "display(fluid_volume)\n",
    "display(fluid_value_slider)\n",
    "display(plot)\n",
    "display(img_folder)\n",
    "display(dir_button)\n",
    "display(progress)\n",
    "display(capture_dataframe)\n",
    "#display(text_input)\n",
    "#text.value= str(button.value)\n",
    "\n",
    "stop_button = widgets.ToggleButton()\n",
    "stop_button.description = \"Stop\"\n",
    "display(stop_button)\n",
    "\n",
    "display(output)\n",
    "\n",
    "# a method that returns the mean but rejects outliers from the calculation\n",
    "def mean_filter(data, threshold):\n",
    "    data_mean = mean(data)\n",
    "    data_std = stdev(data)\n",
    "    data_filtered = [x for x in data if abs(x - data_mean) < threshold * data_std]\n",
    "    return mean(data_filtered)\n",
    "\n",
    "async def f():   \n",
    "    i=0\n",
    "    size = [[],[],[],[],[],[],[]]\n",
    "    perimeter_buffer_list = []\n",
    "    area_buffer_list = []\n",
    "\n",
    "    perimeter_value_frame = []\n",
    "    area_value_frame = []\n",
    "    dataframe_count = 0\n",
    "    dataframe_total = 100\n",
    "\n",
    "    perimeter_frame_dict = {}\n",
    "    area_frame_dict = {}\n",
    "    area_buffer = []\n",
    "    area_precision_buff = []\n",
    "    perimeter_buffer = []\n",
    "    perimeter_precision_buff = []\n",
    "    buffer_size = BUFFER_SIZE\n",
    "    buffer_fill = 0\n",
    "    first = True\n",
    "\n",
    "    for i in range(buffer_size):\n",
    "        area_buffer.append(0)\n",
    "        perimeter_buffer.append(0)\n",
    "\n",
    "    stream = urllib.request.urlopen('http://' + camera_name +'.local/html/cam_pic.php')\n",
    "    bytes = b''\n",
    "    #os.chdir(image_dir)\n",
    "\n",
    "    WINDOW_NAME = \"Camera\"\n",
    "    cv2.namedWindow(WINDOW_NAME)\n",
    "    cv2.startWindowThread()\n",
    "    print(\"hello\")\n",
    "\n",
    "    #transfer_function_coeffs = [-6.40190835e-05 , 1.00543104e-01 , -3.52312603e+01]\n",
    "    transfer_function_coeffs = [  0.02130269, -11.15089045]\n",
    "\n",
    "\n",
    "    while True:\n",
    "        # grab the frame from the threaded video stream, resize it, and convert it to grayscale\n",
    "        curr_dt = datetime.now()\n",
    "        timestamp = int(round(curr_dt.timestamp()))\n",
    "    #     print(\"Integer timestamp of current datetime: \",\n",
    "    #       timestamp)\n",
    "        bytes += stream.read(1024)\n",
    "        a = bytes.find(b'\\xff\\xd8') #frame starting \n",
    "        b = bytes.find(b'\\xff\\xd9') #frame ending\n",
    "        if a != -1 and b != -1:\n",
    "            jpg = bytes[a:b+2]\n",
    "            bytes = bytes[b+2:]\n",
    "            frame = cv2.imdecode(np.frombuffer(jpg, dtype=np.uint8), cv2.IMREAD_COLOR)\n",
    "            #cv2.imshow('image', img)\n",
    "            bytes = b''\n",
    "            url = 'http://' + camera_name +'.local/html/cam_pic.php?' + str(timestamp)\n",
    "            #print(url)\n",
    "            stream = urllib.request.urlopen(url)\n",
    "            #frame = imutils.resize(frame, width=600)\n",
    "            gray = cv2.cvtColor(frame, cv2.COLOR_BGR2GRAY)\n",
    "            gray_blurred = cv2.medianBlur(gray,91)\n",
    "            ret, thresh = cv2.threshold(gray_blurred, 130, 255, cv2.THRESH_BINARY_INV)\n",
    "\n",
    "            #get contours and fit ellipse\n",
    "            perimeter = \"boof\"\n",
    "            try:\n",
    "                        #my stuff\n",
    "                contours,hierarchy = cv2.findContours(thresh, 1, 2)\n",
    "                threshold_area_min = 5000     #threshold area \n",
    "                threshold_area_max = 10000\n",
    "                contours, hierarchy = cv2.findContours(thresh,1,2)  \n",
    "                # cnt = contours[0]\n",
    "                for cntr in contours:        \n",
    "                    area = cv2.contourArea(cntr)         \n",
    "                    if area > threshold_area_min and area < threshold_area_max:\n",
    "                        cnt = cntr\n",
    "                        area_buffer.pop(0)\n",
    "                        area_buffer.append(area)\n",
    "                        break\n",
    "                # cnt = contours[0]\n",
    "                # M = cv2.moments(cnt)\n",
    "\n",
    "                ellipse = cv2.fitEllipse(cnt)\n",
    "                cv2.ellipse(frame,ellipse,(0,255,0),5)\n",
    "\n",
    "                (a,b) = ellipse[1]\n",
    "                perimeter = (2 * 3.14 *\n",
    "                    sqrt((a * a + b * b) /\n",
    "                               (2 * 1.0)))\n",
    "                perimeter_buffer.pop(0)\n",
    "                perimeter_buffer.append(perimeter)\n",
    "                buffer_fill += 1\n",
    "\n",
    "            except Exception as e:\n",
    "                print(e)\n",
    "                pass\n",
    "            buffer_progress.value = min(buffer_fill, buffer_size)\n",
    "            # Display measured values on frame\n",
    "   \n",
    "            font = cv2.FONT_HERSHEY_SIMPLEX\n",
    "            #org = (50, 50)\n",
    "            fontScale = 0.5\n",
    "            color = (0, 136, 17)\n",
    "            thickness = 1\n",
    "            # Using cv2.putText() method\n",
    "#             try:\n",
    "#                 display_frame = cv2.putText(frame, str(cv2.contourArea(cnt)), (50,100), font, \n",
    "#                                     fontScale, color, thickness, cv2.LINE_AA)\n",
    "#                 display_frame = cv2.putText(display_frame, str(mean(area_buffer)), org, font, \n",
    "#                                     fontScale, color, thickness, cv2.LINE_AA)\n",
    "#                 display_frame = cv2.putText(display_frame, str(stdev(area_buffer)), (300,50), font, \n",
    "#                         fontScale, color, thickness, cv2.LINE_AA)\n",
    "#                 display_frame = cv2.putText(display_frame, str(variance(area_buffer)), (300,100), font, \n",
    "#                         fontScale, color, thickness, cv2.LINE_AA)\n",
    "#             except:\n",
    "#                 display_frame = cv2.putText(frame, \"boof\", (50,100), font, \n",
    "#                         fontScale, color, thickness, cv2.LINE_AA)\n",
    "            \n",
    "            try:\n",
    "                display_frame = cv2.putText(frame, \"per: \" + str(round(perimeter,2)), (50,50), font, \n",
    "                                    fontScale, color, thickness, cv2.LINE_AA)\n",
    "                display_frame = cv2.putText(display_frame, \"mean: \" + str(round(mean(perimeter_buffer),2)), (50,75), font, \n",
    "                                    fontScale, color, thickness, cv2.LINE_AA)\n",
    "                display_frame = cv2.putText(display_frame, \"stdev: \"+str(round(stdev(perimeter_buffer),2)), (300,50), font, \n",
    "                        fontScale, color, thickness, cv2.LINE_AA)\n",
    "                display_frame = cv2.putText(display_frame, \"var: \"+ str(round(variance(perimeter_buffer),2)), (300,75), font, \n",
    "                        fontScale, color, thickness, cv2.LINE_AA)\n",
    "\n",
    "                display_frame = cv2.putText(display_frame, \"volume estimate: \"+ str(round(np.polyval(transfer_function_coeffs, mean(perimeter_buffer)),2)).zfill(6) + \" ml\", (150,300), font, \n",
    "                        fontScale, color, thickness, cv2.LINE_AA)\n",
    "                        \n",
    "            except Exception as e:\n",
    "                print(e)\n",
    "                display_frame = cv2.putText(frame, \"boof\", (50,100), font, \n",
    "                        fontScale, color, thickness, cv2.LINE_AA)\n",
    "            #display_frame = frame\n",
    "\n",
    "            # Display frame on screen\n",
    "            cv2.imshow(WINDOW_NAME, display_frame)\n",
    "            key = cv2.waitKey(1) & 0xFF\n",
    "            # if the 'q' key is pressed, stop the loop\n",
    "            if key == ord(\"q\"):\n",
    "                cv2.destroyAllWindows()\n",
    "                cv2.waitKey(1)\n",
    "                break\n",
    "            i += 1\n",
    "        #text.value = str(i) + \" \" + str(button.value)\n",
    "\n",
    "            # After button is pressed, wait for stdev of perimeter to be below a certain threshold\n",
    "            # if stdev(perimeter_buffer) < 0.5 then capture a datapoint and reset buffer\n",
    "            if capture_datapoint.value == True:\n",
    "                #i = 0\n",
    "\n",
    "                #if first time, buffer_fill = 0\n",
    "                if first:\n",
    "                    buffer_fill = 0\n",
    "                    first = False\n",
    "\n",
    "                if(stdev(perimeter_buffer) < 1 and buffer_fill >= buffer_size):\n",
    "\n",
    "                    perimeter_precision_buff.append(mean(perimeter_buffer))\n",
    "                    area_precision_buff.append(mean(area_buffer))\n",
    "\n",
    "                    # add area buffer and perimeter buffer to list of lists\n",
    "                    # buffer_lists[0].append(area_buffer)\n",
    "                    # buffer_lists[1].append(perimeter_buffer)\n",
    "                    # print(perimeter_buffer)\n",
    "                    # print(buffer_lists)\n",
    "                    # print(buffer_lists[0])\n",
    "                    # print(buffer_lists[1])\n",
    "                    perimeter_named_data = [int(fluid_volume.value)/10]\n",
    "                    perimeter_named_data = perimeter_named_data + perimeter_buffer.copy()\n",
    "                    perimeter_buffer_list.append(perimeter_named_data.copy())\n",
    "\n",
    "                    area_named_data = [int(fluid_volume.value)/10]\n",
    "                    area_named_data = area_named_data + area_buffer.copy()\n",
    "                    area_buffer_list.append(area_named_data.copy())\n",
    "\n",
    "                    # list to csv\n",
    "                    with open(image_dir+img_folder.value+\"/\"+'area_buffer.csv', 'w') as f:\n",
    "                        writer = csv.writer(f)\n",
    "                        writer.writerows(area_buffer_list)\n",
    "                    with open(image_dir+img_folder.value+\"/\"+'perimeter_buffer.csv', 'w') as f:\n",
    "                        writer = csv.writer(f)\n",
    "                        writer.writerows(perimeter_buffer_list)\n",
    "\n",
    "\n",
    "\n",
    "                    \n",
    "                    #reset buffer (effectively)\n",
    "                    buffer_fill = 0\n",
    "                    capture_progress.value += 1\n",
    "                    if capture_progress.value >= int(PRECISION_BUFFER_SIZE):\n",
    "                        cv2.imwrite(image_dir+img_folder.value + \"/\" + fluid_volume.value+\".jpg\",frame)\n",
    "                        capture_datapoint.value = False\n",
    "                        first = True\n",
    "                        capture_progress.value = 0\n",
    "\n",
    "                        \n",
    "                        \n",
    "\n",
    "                        size[0].append(int(fluid_volume.value)/10)\n",
    "                        size[1].append(perimeter)\n",
    "                        # size[2].append(mean(perimeter_buffer))\n",
    "                        # size[3].append(stdev(perimeter_buffer))\n",
    "                        size[2].append(mean(perimeter_precision_buff))\n",
    "                        size[3].append(stdev(perimeter_precision_buff))\n",
    "                        size[4].append(cv2.contourArea(cnt))\n",
    "                        # size[5].append(mean(area_buffer))\n",
    "                        # size[6].append(stdev(area_buffer))\n",
    "                        size[5].append(mean(area_precision_buff))\n",
    "                        size[6].append(stdev(area_precision_buff))\n",
    "                        \n",
    "                        # size[7].append(perimeter_buffer)\n",
    "                        # size[8].append(area_buffer)\n",
    "\n",
    "                        perimeter_frame_dict[fluid_volume.value] = perimeter_precision_buff\n",
    "                        perimeter_precision_buff = []\n",
    "                        area_frame_dict[fluid_volume.value] = area_precision_buff\n",
    "                        area_precision_buff = []\n",
    "                        df = pd.DataFrame(perimeter_frame_dict)\n",
    "                        df.to_csv(image_dir+img_folder.value+\"/\"+'perimeter_dataframe.csv')\n",
    "                        df = pd.DataFrame(area_frame_dict)\n",
    "                        df.to_csv(image_dir+img_folder.value+\"/\"+'area_dataframe.csv')\n",
    "\n",
    "                        fluid_volume.value = str(int(fluid_volume.value)+fluid_value_slider.value).zfill(2)\n",
    "                # capture_dataframe.value = True\n",
    "            await asyncio.sleep(0.001)\n",
    "            \n",
    "            if capture_dataframe.value == True:\n",
    "                perimeter_value_frame.append(perimeter)\n",
    "                area_value_frame.append(cv2.contourArea(cnt))\n",
    "                dataframe_count += 1\n",
    "                progress.value = float(dataframe_count+1)/dataframe_total\n",
    "                if dataframe_count >= dataframe_total:\n",
    "                    capture_dataframe.value = False\n",
    "                    dataframe_count = 0\n",
    "\n",
    "                    #fill frames with data\n",
    "                    perimeter_frame_dict[fluid_volume.value] = perimeter_value_frame\n",
    "                    perimeter_value_frame = []\n",
    "                    area_frame_dict[fluid_volume.value] = area_value_frame\n",
    "                    area_value_frame = []\n",
    "                    df = pd.DataFrame(perimeter_frame_dict)\n",
    "                    df.to_csv(image_dir+img_folder.value+\"/\"+'perimeter_dataframe.csv')\n",
    "                    df = pd.DataFrame(area_frame_dict)\n",
    "                    df.to_csv(image_dir+img_folder.value+\"/\"+'area_dataframe.csv')\n",
    "                    \n",
    "                \n",
    "                \n",
    "            if plot.value == True:\n",
    "                print(size)\n",
    "                plot.value = False\n",
    "                dict = {\"volume\" : size[0] , \"perimeter\" : size[1], \"perimeter_pb_mean\" : size[2],\"perimeter_pb_stdev\" : size[3], \"contour_area\" : size[4], \"contour_area_pb_mean\":size[5], \"contour_area_pb_stdev\":size[6]}\n",
    "                df = pd.DataFrame(dict) \n",
    "                # saving the dataframe \n",
    "                df.to_csv(image_dir+img_folder.value+\"/\"+'all_values.csv') \n",
    "\n",
    "                \n",
    "                try:\n",
    "                    fig, ax = plt.subplots()\n",
    "                    ax.errorbar(size[0], size[2], yerr=size[3],fmt=\"o\", mfc='red',\n",
    "                            mec='green')#, ms=20, mew=4)\n",
    "                    # plt.title(\"Light Diffusion Average\")\n",
    "                    # plt.show\n",
    "                    # plt.plot(size[0],size[1], 'ro')\n",
    "                    # x= size[0]\n",
    "                    # y=size[1]\n",
    "                    # z = np.polyfit(x, y, 3)\n",
    "                    # p = np.poly1d(z)\n",
    "                    # plt.plot(x,p(x),'k--',linewidth=2)\n",
    "                    # color = 0.8\n",
    "                    # plt.ylabel('Size ($mm^2$)')\n",
    "                    # plt.xlabel('ml')\n",
    "                    # plt.title(\"Light Diffusion\")\n",
    "                    # plt.show()\n",
    "                    fig2, ax2 = plt.subplots()\n",
    "                    ax2.plot(size[0],size[2], 'ro')\n",
    "                    x=size[0]\n",
    "                    y=size[1]\n",
    "                    z = np.polyfit(x, y,1)\n",
    "                    p = np.poly1d(z)\n",
    "                    ax2.plot(x,p(x),'k--',linewidth=2)\n",
    "                    color = 0.8\n",
    "                    ax2.set_ylabel('Size ($mm^2$)')\n",
    "                    ax2.set_xlabel('ml')\n",
    "                    ax2.set_title(\"Light Diffusion Average\")\n",
    "                    plt.show()\n",
    "                    #print( \"y=%.6fx+(%.6f)\"%(z[0],z[1]))\n",
    "\n",
    "                    \n",
    "                except Exception as e:\n",
    "                    print(e)\n",
    "                    pass\n",
    "                \n",
    "            if stop_button.value == True:\n",
    "                cv2.destroyAllWindows()\n",
    "                cv2.waitKey(1)\n",
    "                return\n",
    "        \n",
    "asyncio.create_task(f())\n",
    "# if we are not using a video file, stop the camera video stream\n",
    "# if not args.get(\"video\", False):\n",
    "#     vs.stop()\n",
    "# # otherwise, release the camera\n",
    "# else:\n",
    "#     vs.release()\n",
    "# # close all windows\n",
    "# cv2.destroyAllWindows()\n"
   ]
  },
  {
   "cell_type": "code",
   "execution_count": null,
   "id": "ad294d64",
   "metadata": {},
   "outputs": [],
   "source": [
    "import cv2\n",
    "import urllib.request\n",
    "import numpy as np\n",
    "from datetime import datetime\n",
    "\n",
    "stream = urllib.request.urlopen('http://camerag11.local/html/cam_pic.php')\n",
    "bytes = b''\n",
    "while True:\n",
    "    \n",
    "\n",
    "    curr_dt = datetime.now()\n",
    "    timestamp = int(round(curr_dt.timestamp()))\n",
    "\n",
    "#     print(\"Integer timestamp of current datetime: \",\n",
    "#       timestamp)\n",
    "    bytes += stream.read(1024)\n",
    "    a = bytes.find(b'\\xff\\xd8') #frame starting \n",
    "    b = bytes.find(b'\\xff\\xd9') #frame ending\n",
    "    if a != -1 and b != -1:\n",
    "        jpg = bytes[a:b+2]\n",
    "        bytes = bytes[b+2:]\n",
    "        img = cv2.imdecode(np.frombuffer(jpg, dtype=np.uint8), cv2.IMREAD_COLOR)\n",
    "        cv2.imshow('image', img)\n",
    "        bytes = b''\n",
    "        url = 'http://camerag11.local/html/cam_pic.php?' + str(timestamp)\n",
    "        print(url)\n",
    "        stream = urllib.request.urlopen(url)\n",
    "        \n",
    "        if cv2.waitKey(1) == 27:\n",
    "            cv2.destroyAllWindows()\n",
    "            break"
   ]
  },
  {
   "cell_type": "code",
   "execution_count": null,
   "id": "568718dc-ae88-4478-9039-f2ccb27b432f",
   "metadata": {},
   "outputs": [],
   "source": [
    "%gui asyncio\n",
    "import asyncio\n",
    "import ipywidgets as widgets\n",
    "\n",
    "button = widgets.ToggleButton()\n",
    "display(button)\n",
    "text = widgets.Text()\n",
    "text_input = widgets.Text()\n",
    "display(text)\n",
    "display(text_input)\n",
    "text.value= str(button.value)\n",
    "\n",
    "stop_button = widgets.ToggleButton()\n",
    "stop_button.description = \"Stop\"\n",
    "display(stop_button)\n",
    "\n",
    "async def f():   \n",
    "    i=0\n",
    "    while True:\n",
    "        i += 1\n",
    "        #text.value = str(i) + \" \" + str(button.value)\n",
    "        if button.value == True:\n",
    "            i = 0\n",
    "            button.value = False\n",
    "            text.value = text_input.value\n",
    "        await asyncio.sleep(0.001)\n",
    "        if stop_button.value == True:\n",
    "            return\n",
    "\n",
    "asyncio.create_task(f());"
   ]
  }
 ],
 "metadata": {
  "kernelspec": {
   "display_name": "Python 3.9.7 ('base')",
   "language": "python",
   "name": "python3"
  },
  "language_info": {
   "codemirror_mode": {
    "name": "ipython",
    "version": 3
   },
   "file_extension": ".py",
   "mimetype": "text/x-python",
   "name": "python",
   "nbconvert_exporter": "python",
   "pygments_lexer": "ipython3",
   "version": "3.9.7"
  },
  "vscode": {
   "interpreter": {
    "hash": "3ec8f1b2517460a7fea7378739fe7664b5a33dfb55335b66cc1a5af5ab6bd4af"
   }
  }
 },
 "nbformat": 4,
 "nbformat_minor": 5
}
