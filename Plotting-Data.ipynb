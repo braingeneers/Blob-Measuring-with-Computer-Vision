{
 "cells": [
  {
   "cell_type": "code",
   "execution_count": 115,
   "id": "566f3755-8982-483a-b0c4-a0c79d729503",
   "metadata": {},
   "outputs": [],
   "source": [
    "import pandas as pd\n",
    "import numpy as np\n",
    "import matplotlib.pyplot as plt\n",
    "path = \"/Users/pierre/Pictures/biology/Blob-Measuring/Level-Measurement-Experiment/stream-captures/main-test-set-25-July-2022T13:23:41/all_values.csv\"\n",
    "frame = pd.read_csv(path)"
   ]
  },
  {
   "cell_type": "code",
   "execution_count": 112,
   "id": "588cb787-2d1d-4c80-a9e5-e38747d91d71",
   "metadata": {},
   "outputs": [],
   "source": [
    "df = pd.DataFrame({\"volume\":frame.columns,\n",
    "                   \"mean\": frame.mean().to_frame()[0].values,\n",
    "                   \"std\": frame.std().to_frame()[0].values,\n",
    "                   \"var\": frame.var().to_frame()[0].values,\n",
    "                    })"
   ]
  },
  {
   "cell_type": "code",
   "execution_count": 46,
   "id": "d305dac4-b90e-4e8d-a284-4fa1804b0173",
   "metadata": {},
   "outputs": [
    {
     "data": {
      "text/plain": [
       "array([  49.5       , 1056.13768375, 1117.66452128, 1146.83092619,\n",
       "       1192.71525222, 1176.24627337, 1271.06907276, 1267.1332071 ,\n",
       "       1312.66472581, 1310.90583305, 1264.96043287, 1319.56669428,\n",
       "       1339.82149445, 1360.57293827, 1356.1433148 , 1375.7345839 ,\n",
       "       1344.15132336, 1351.73957495, 1372.52629125, 1362.48470325,\n",
       "       1381.84383606, 1387.41576943, 1429.47937283, 1430.74172696,\n",
       "       1421.51489587, 1422.17213811, 1419.63186357, 1500.76957293,\n",
       "       2048.34894609])"
      ]
     },
     "execution_count": 46,
     "metadata": {},
     "output_type": "execute_result"
    }
   ],
   "source": [
    "frame.mean().to_frame()[0].values"
   ]
  },
  {
   "cell_type": "code",
   "execution_count": 84,
   "id": "d0a1f6ae-39e4-4054-a5c1-68b811d39edd",
   "metadata": {},
   "outputs": [],
   "source": [
    "frame.volume -= 0.5"
   ]
  },
  {
   "cell_type": "code",
   "execution_count": 12,
   "id": "ae253be3-0cbb-43bb-af91-89b9e163ae58",
   "metadata": {},
   "outputs": [],
   "source": [
    "frame.var = pow(frame.perimeter_pb_stdev,2)"
   ]
  },
  {
   "cell_type": "code",
   "execution_count": 105,
   "id": "4512bd7a-3707-43a5-852c-083916c428df",
   "metadata": {},
   "outputs": [
    {
     "data": {
      "text/html": [
       "<div>\n",
       "<style scoped>\n",
       "    .dataframe tbody tr th:only-of-type {\n",
       "        vertical-align: middle;\n",
       "    }\n",
       "\n",
       "    .dataframe tbody tr th {\n",
       "        vertical-align: top;\n",
       "    }\n",
       "\n",
       "    .dataframe thead th {\n",
       "        text-align: right;\n",
       "    }\n",
       "</style>\n",
       "<table border=\"1\" class=\"dataframe\">\n",
       "  <thead>\n",
       "    <tr style=\"text-align: right;\">\n",
       "      <th></th>\n",
       "      <th>Unnamed: 0</th>\n",
       "      <th>volume</th>\n",
       "      <th>perimeter</th>\n",
       "      <th>perimeter_pb_mean</th>\n",
       "      <th>perimeter_pb_stdev</th>\n",
       "      <th>contour_area</th>\n",
       "      <th>contour_area_pb_mean</th>\n",
       "      <th>contour_area_pb_stdev</th>\n",
       "    </tr>\n",
       "  </thead>\n",
       "  <tbody>\n",
       "    <tr>\n",
       "      <th>1</th>\n",
       "      <td>1</td>\n",
       "      <td>0.5</td>\n",
       "      <td>557.968162</td>\n",
       "      <td>558.266364</td>\n",
       "      <td>0.503143</td>\n",
       "      <td>6125.5</td>\n",
       "      <td>6125.842</td>\n",
       "      <td>4.294190</td>\n",
       "    </tr>\n",
       "    <tr>\n",
       "      <th>5</th>\n",
       "      <td>5</td>\n",
       "      <td>0.9</td>\n",
       "      <td>577.467661</td>\n",
       "      <td>579.497872</td>\n",
       "      <td>0.666895</td>\n",
       "      <td>6571.0</td>\n",
       "      <td>6598.218</td>\n",
       "      <td>14.021495</td>\n",
       "    </tr>\n",
       "    <tr>\n",
       "      <th>10</th>\n",
       "      <td>10</td>\n",
       "      <td>1.4</td>\n",
       "      <td>601.447932</td>\n",
       "      <td>602.054850</td>\n",
       "      <td>0.576808</td>\n",
       "      <td>7111.0</td>\n",
       "      <td>7125.042</td>\n",
       "      <td>11.151472</td>\n",
       "    </tr>\n",
       "  </tbody>\n",
       "</table>\n",
       "</div>"
      ],
      "text/plain": [
       "    Unnamed: 0  volume   perimeter  perimeter_pb_mean  perimeter_pb_stdev  \\\n",
       "1            1     0.5  557.968162         558.266364            0.503143   \n",
       "5            5     0.9  577.467661         579.497872            0.666895   \n",
       "10          10     1.4  601.447932         602.054850            0.576808   \n",
       "\n",
       "    contour_area  contour_area_pb_mean  contour_area_pb_stdev  \n",
       "1         6125.5              6125.842               4.294190  \n",
       "5         6571.0              6598.218              14.021495  \n",
       "10        7111.0              7125.042              11.151472  "
      ]
     },
     "execution_count": 105,
     "metadata": {},
     "output_type": "execute_result"
    }
   ],
   "source": [
    "frame.iloc[[1,5,10]]"
   ]
  },
  {
   "cell_type": "code",
   "execution_count": 15,
   "id": "7f5b1d2c-76be-4060-8cbd-f05863a21a1b",
   "metadata": {},
   "outputs": [
    {
     "data": {
      "text/plain": [
       "0     0.000257\n",
       "1     0.004774\n",
       "2     0.091821\n",
       "3     8.303540\n",
       "4     0.236994\n",
       "5     0.676446\n",
       "6     1.260012\n",
       "7     0.088237\n",
       "8     0.136389\n",
       "9     0.692293\n",
       "10    0.381066\n",
       "11    0.661058\n",
       "12    0.749843\n",
       "13    0.299309\n",
       "14    0.066858\n",
       "15    0.473739\n",
       "16    0.129388\n",
       "17    3.121971\n",
       "18    0.428960\n",
       "19    0.414328\n",
       "20    0.447195\n",
       "21    0.182429\n",
       "22    0.001305\n",
       "23    0.486558\n",
       "24    0.720547\n",
       "25    0.039504\n",
       "26    0.516934\n",
       "27    0.448758\n",
       "28    0.195486\n",
       "29    0.011656\n",
       "30    0.256455\n",
       "31    0.074211\n",
       "32    0.124673\n",
       "33    0.174853\n",
       "34    0.051934\n",
       "Name: perimeter_pb_stdev, dtype: float64"
      ]
     },
     "execution_count": 15,
     "metadata": {},
     "output_type": "execute_result"
    }
   ],
   "source": [
    "frame.var\n",
    "# df = df.drop(28)\n",
    "# df = df.drop(0)\n",
    "# df= df.drop(1)\n",
    "# df = df.drop(14)\n",
    "# df = df.drop(27)"
   ]
  },
  {
   "cell_type": "code",
   "execution_count": 124,
   "id": "7986c588-ac2c-4090-9420-714b045939c0",
   "metadata": {},
   "outputs": [],
   "source": []
  },
  {
   "cell_type": "code",
   "execution_count": 77,
   "id": "2d067a92-f01e-428c-811d-88fa7e6a1efd",
   "metadata": {},
   "outputs": [
    {
     "name": "stdout",
     "output_type": "stream",
     "text": [
      "  volume         mean       std\n",
      "2     05  1117.664521  0.897171\n",
      "  volume         mean      std\n",
      "3     06  1146.830926  1.52688\n",
      "  volume         mean       std\n",
      "4     07  1192.715252  1.508089\n",
      "  volume         mean      std\n",
      "5     08  1176.246273  1.49215\n",
      "  volume         mean       std\n",
      "6     09  1271.069073  1.426365\n",
      "  volume         mean       std\n",
      "7     10  1267.133207  1.483079\n",
      "  volume         mean       std\n",
      "8     11  1312.664726  4.112507\n",
      "  volume         mean       std\n",
      "9     12  1310.905833  2.559582\n",
      "   volume         mean       std\n",
      "10     13  1264.960433  6.420307\n",
      "   volume         mean       std\n",
      "11     14  1319.566694  3.774448\n",
      "   volume         mean       std\n",
      "12     15  1339.821494  3.952147\n",
      "   volume         mean       std\n",
      "13     16  1360.572938  2.397663\n",
      "   volume         mean        std\n",
      "14     17  1356.143315  18.565659\n",
      "   volume         mean       std\n",
      "15     18  1375.734584  5.626147\n",
      "   volume         mean       std\n",
      "16     19  1344.151323  2.815481\n",
      "   volume         mean       std\n",
      "17     20  1351.739575  2.665728\n",
      "   volume         mean       std\n",
      "18     21  1372.526291  2.877274\n",
      "   volume         mean       std\n",
      "19     22  1362.484703  4.798617\n",
      "   volume         mean       std\n",
      "20     23  1381.843836  8.818901\n",
      "   volume         mean       std\n",
      "21     24  1387.415769  7.607672\n",
      "   volume         mean       std\n",
      "22     25  1429.479373  5.268133\n",
      "   volume         mean       std\n",
      "23     26  1430.741727  8.229124\n",
      "   volume         mean       std\n",
      "24     27  1421.514896  3.621837\n",
      "   volume         mean       std\n",
      "25     28  1422.172138  5.028561\n",
      "   volume         mean      std\n",
      "26     29  1419.631864  5.84181\n",
      "   volume         mean       std\n",
      "27     30  1500.769573  2.797417\n"
     ]
    }
   ],
   "source": [
    "for key, group in df.groupby('volume'):\n",
    "    #print(key)\n",
    "    print(group)\n",
    "# plt.plot(df['volume'], df['mean'], yerr=df['std'])"
   ]
  },
  {
   "cell_type": "code",
   "execution_count": 107,
   "id": "79cbf9da-b595-4717-89d1-60ddf0c5916d",
   "metadata": {},
   "outputs": [
    {
     "data": {
      "text/html": [
       "<div>\n",
       "<style scoped>\n",
       "    .dataframe tbody tr th:only-of-type {\n",
       "        vertical-align: middle;\n",
       "    }\n",
       "\n",
       "    .dataframe tbody tr th {\n",
       "        vertical-align: top;\n",
       "    }\n",
       "\n",
       "    .dataframe thead th {\n",
       "        text-align: right;\n",
       "    }\n",
       "</style>\n",
       "<table border=\"1\" class=\"dataframe\">\n",
       "  <thead>\n",
       "    <tr style=\"text-align: right;\">\n",
       "      <th></th>\n",
       "      <th>Unnamed: 0</th>\n",
       "      <th>volume</th>\n",
       "      <th>perimeter</th>\n",
       "      <th>perimeter_pb_mean</th>\n",
       "      <th>perimeter_pb_stdev</th>\n",
       "      <th>contour_area</th>\n",
       "      <th>contour_area_pb_mean</th>\n",
       "      <th>contour_area_pb_stdev</th>\n",
       "    </tr>\n",
       "  </thead>\n",
       "  <tbody>\n",
       "    <tr>\n",
       "      <th>6</th>\n",
       "      <td>6</td>\n",
       "      <td>1.0</td>\n",
       "      <td>582.885512</td>\n",
       "      <td>583.695142</td>\n",
       "      <td>0.368987</td>\n",
       "      <td>6691.5</td>\n",
       "      <td>6708.632</td>\n",
       "      <td>8.901493</td>\n",
       "    </tr>\n",
       "    <tr>\n",
       "      <th>11</th>\n",
       "      <td>11</td>\n",
       "      <td>1.5</td>\n",
       "      <td>603.749188</td>\n",
       "      <td>604.093468</td>\n",
       "      <td>0.257939</td>\n",
       "      <td>7169.5</td>\n",
       "      <td>7176.130</td>\n",
       "      <td>6.152203</td>\n",
       "    </tr>\n",
       "    <tr>\n",
       "      <th>16</th>\n",
       "      <td>16</td>\n",
       "      <td>2.0</td>\n",
       "      <td>625.111200</td>\n",
       "      <td>625.335399</td>\n",
       "      <td>0.492550</td>\n",
       "      <td>7720.0</td>\n",
       "      <td>7724.792</td>\n",
       "      <td>8.609420</td>\n",
       "    </tr>\n",
       "    <tr>\n",
       "      <th>21</th>\n",
       "      <td>21</td>\n",
       "      <td>2.5</td>\n",
       "      <td>655.318596</td>\n",
       "      <td>655.615692</td>\n",
       "      <td>0.244709</td>\n",
       "      <td>8457.0</td>\n",
       "      <td>8480.264</td>\n",
       "      <td>17.862926</td>\n",
       "    </tr>\n",
       "    <tr>\n",
       "      <th>26</th>\n",
       "      <td>26</td>\n",
       "      <td>3.0</td>\n",
       "      <td>679.211571</td>\n",
       "      <td>679.042897</td>\n",
       "      <td>0.142738</td>\n",
       "      <td>9049.5</td>\n",
       "      <td>9069.856</td>\n",
       "      <td>23.349615</td>\n",
       "    </tr>\n",
       "  </tbody>\n",
       "</table>\n",
       "</div>"
      ],
      "text/plain": [
       "    Unnamed: 0  volume   perimeter  perimeter_pb_mean  perimeter_pb_stdev  \\\n",
       "6            6     1.0  582.885512         583.695142            0.368987   \n",
       "11          11     1.5  603.749188         604.093468            0.257939   \n",
       "16          16     2.0  625.111200         625.335399            0.492550   \n",
       "21          21     2.5  655.318596         655.615692            0.244709   \n",
       "26          26     3.0  679.211571         679.042897            0.142738   \n",
       "\n",
       "    contour_area  contour_area_pb_mean  contour_area_pb_stdev  \n",
       "6         6691.5              6708.632               8.901493  \n",
       "11        7169.5              7176.130               6.152203  \n",
       "16        7720.0              7724.792               8.609420  \n",
       "21        8457.0              8480.264              17.862926  \n",
       "26        9049.5              9069.856              23.349615  "
      ]
     },
     "execution_count": 107,
     "metadata": {},
     "output_type": "execute_result"
    }
   ],
   "source": [
    "frame.iloc[[6,11,16,21,26]]"
   ]
  },
  {
   "cell_type": "code",
   "execution_count": 165,
   "id": "a7b784e3",
   "metadata": {},
   "outputs": [
    {
     "ename": "IndexError",
     "evalue": "positional indexers are out-of-bounds",
     "output_type": "error",
     "traceback": [
      "\u001b[0;31m---------------------------------------------------------------------------\u001b[0m",
      "\u001b[0;31mIndexError\u001b[0m                                Traceback (most recent call last)",
      "File \u001b[0;32m~/miniforge3/lib/python3.9/site-packages/pandas/core/indexing.py:1482\u001b[0m, in \u001b[0;36m_iLocIndexer._get_list_axis\u001b[0;34m(self, key, axis)\u001b[0m\n\u001b[1;32m   1481\u001b[0m \u001b[39mtry\u001b[39;00m:\n\u001b[0;32m-> 1482\u001b[0m     \u001b[39mreturn\u001b[39;00m \u001b[39mself\u001b[39;49m\u001b[39m.\u001b[39;49mobj\u001b[39m.\u001b[39;49m_take_with_is_copy(key, axis\u001b[39m=\u001b[39;49maxis)\n\u001b[1;32m   1483\u001b[0m \u001b[39mexcept\u001b[39;00m \u001b[39mIndexError\u001b[39;00m \u001b[39mas\u001b[39;00m err:\n\u001b[1;32m   1484\u001b[0m     \u001b[39m# re-raise with different error message\u001b[39;00m\n",
      "File \u001b[0;32m~/miniforge3/lib/python3.9/site-packages/pandas/core/generic.py:3716\u001b[0m, in \u001b[0;36mNDFrame._take_with_is_copy\u001b[0;34m(self, indices, axis)\u001b[0m\n\u001b[1;32m   3709\u001b[0m \u001b[39m\"\"\"\u001b[39;00m\n\u001b[1;32m   3710\u001b[0m \u001b[39mInternal version of the `take` method that sets the `_is_copy`\u001b[39;00m\n\u001b[1;32m   3711\u001b[0m \u001b[39mattribute to keep track of the parent dataframe (using in indexing\u001b[39;00m\n\u001b[0;32m   (...)\u001b[0m\n\u001b[1;32m   3714\u001b[0m \u001b[39mSee the docstring of `take` for full explanation of the parameters.\u001b[39;00m\n\u001b[1;32m   3715\u001b[0m \u001b[39m\"\"\"\u001b[39;00m\n\u001b[0;32m-> 3716\u001b[0m result \u001b[39m=\u001b[39m \u001b[39mself\u001b[39;49m\u001b[39m.\u001b[39;49mtake(indices\u001b[39m=\u001b[39;49mindices, axis\u001b[39m=\u001b[39;49maxis)\n\u001b[1;32m   3717\u001b[0m \u001b[39m# Maybe set copy if we didn't actually change the index.\u001b[39;00m\n",
      "File \u001b[0;32m~/miniforge3/lib/python3.9/site-packages/pandas/core/generic.py:3703\u001b[0m, in \u001b[0;36mNDFrame.take\u001b[0;34m(self, indices, axis, is_copy, **kwargs)\u001b[0m\n\u001b[1;32m   3701\u001b[0m \u001b[39mself\u001b[39m\u001b[39m.\u001b[39m_consolidate_inplace()\n\u001b[0;32m-> 3703\u001b[0m new_data \u001b[39m=\u001b[39m \u001b[39mself\u001b[39;49m\u001b[39m.\u001b[39;49m_mgr\u001b[39m.\u001b[39;49mtake(\n\u001b[1;32m   3704\u001b[0m     indices, axis\u001b[39m=\u001b[39;49m\u001b[39mself\u001b[39;49m\u001b[39m.\u001b[39;49m_get_block_manager_axis(axis), verify\u001b[39m=\u001b[39;49m\u001b[39mTrue\u001b[39;49;00m\n\u001b[1;32m   3705\u001b[0m )\n\u001b[1;32m   3706\u001b[0m \u001b[39mreturn\u001b[39;00m \u001b[39mself\u001b[39m\u001b[39m.\u001b[39m_constructor(new_data)\u001b[39m.\u001b[39m__finalize__(\u001b[39mself\u001b[39m, method\u001b[39m=\u001b[39m\u001b[39m\"\u001b[39m\u001b[39mtake\u001b[39m\u001b[39m\"\u001b[39m)\n",
      "File \u001b[0;32m~/miniforge3/lib/python3.9/site-packages/pandas/core/internals/managers.py:897\u001b[0m, in \u001b[0;36mBaseBlockManager.take\u001b[0;34m(self, indexer, axis, verify)\u001b[0m\n\u001b[1;32m    896\u001b[0m n \u001b[39m=\u001b[39m \u001b[39mself\u001b[39m\u001b[39m.\u001b[39mshape[axis]\n\u001b[0;32m--> 897\u001b[0m indexer \u001b[39m=\u001b[39m maybe_convert_indices(indexer, n, verify\u001b[39m=\u001b[39;49mverify)\n\u001b[1;32m    899\u001b[0m new_labels \u001b[39m=\u001b[39m \u001b[39mself\u001b[39m\u001b[39m.\u001b[39maxes[axis]\u001b[39m.\u001b[39mtake(indexer)\n",
      "File \u001b[0;32m~/miniforge3/lib/python3.9/site-packages/pandas/core/indexers/utils.py:292\u001b[0m, in \u001b[0;36mmaybe_convert_indices\u001b[0;34m(indices, n, verify)\u001b[0m\n\u001b[1;32m    291\u001b[0m     \u001b[39mif\u001b[39;00m mask\u001b[39m.\u001b[39many():\n\u001b[0;32m--> 292\u001b[0m         \u001b[39mraise\u001b[39;00m \u001b[39mIndexError\u001b[39;00m(\u001b[39m\"\u001b[39m\u001b[39mindices are out-of-bounds\u001b[39m\u001b[39m\"\u001b[39m)\n\u001b[1;32m    293\u001b[0m \u001b[39mreturn\u001b[39;00m indices\n",
      "\u001b[0;31mIndexError\u001b[0m: indices are out-of-bounds",
      "\nThe above exception was the direct cause of the following exception:\n",
      "\u001b[0;31mIndexError\u001b[0m                                Traceback (most recent call last)",
      "\u001b[1;32m/Users/pierre/Pictures/biology/Blob-Measuring/Plotting-Data.ipynb Cell 11\u001b[0m in \u001b[0;36m<cell line: 1>\u001b[0;34m()\u001b[0m\n\u001b[0;32m----> <a href='vscode-notebook-cell:/Users/pierre/Pictures/biology/Blob-Measuring/Plotting-Data.ipynb#ch0000021?line=0'>1</a>\u001b[0m frame \u001b[39m=\u001b[39m frame\u001b[39m.\u001b[39;49miloc[[\u001b[39m6\u001b[39;49m,\u001b[39m11\u001b[39;49m,\u001b[39m16\u001b[39;49m,\u001b[39m21\u001b[39;49m,\u001b[39m26\u001b[39;49m]]\n",
      "File \u001b[0;32m~/miniforge3/lib/python3.9/site-packages/pandas/core/indexing.py:967\u001b[0m, in \u001b[0;36m_LocationIndexer.__getitem__\u001b[0;34m(self, key)\u001b[0m\n\u001b[1;32m    964\u001b[0m axis \u001b[39m=\u001b[39m \u001b[39mself\u001b[39m\u001b[39m.\u001b[39maxis \u001b[39mor\u001b[39;00m \u001b[39m0\u001b[39m\n\u001b[1;32m    966\u001b[0m maybe_callable \u001b[39m=\u001b[39m com\u001b[39m.\u001b[39mapply_if_callable(key, \u001b[39mself\u001b[39m\u001b[39m.\u001b[39mobj)\n\u001b[0;32m--> 967\u001b[0m \u001b[39mreturn\u001b[39;00m \u001b[39mself\u001b[39;49m\u001b[39m.\u001b[39;49m_getitem_axis(maybe_callable, axis\u001b[39m=\u001b[39;49maxis)\n",
      "File \u001b[0;32m~/miniforge3/lib/python3.9/site-packages/pandas/core/indexing.py:1511\u001b[0m, in \u001b[0;36m_iLocIndexer._getitem_axis\u001b[0;34m(self, key, axis)\u001b[0m\n\u001b[1;32m   1509\u001b[0m \u001b[39m# a list of integers\u001b[39;00m\n\u001b[1;32m   1510\u001b[0m \u001b[39melif\u001b[39;00m is_list_like_indexer(key):\n\u001b[0;32m-> 1511\u001b[0m     \u001b[39mreturn\u001b[39;00m \u001b[39mself\u001b[39;49m\u001b[39m.\u001b[39;49m_get_list_axis(key, axis\u001b[39m=\u001b[39;49maxis)\n\u001b[1;32m   1513\u001b[0m \u001b[39m# a single integer\u001b[39;00m\n\u001b[1;32m   1514\u001b[0m \u001b[39melse\u001b[39;00m:\n\u001b[1;32m   1515\u001b[0m     key \u001b[39m=\u001b[39m item_from_zerodim(key)\n",
      "File \u001b[0;32m~/miniforge3/lib/python3.9/site-packages/pandas/core/indexing.py:1485\u001b[0m, in \u001b[0;36m_iLocIndexer._get_list_axis\u001b[0;34m(self, key, axis)\u001b[0m\n\u001b[1;32m   1482\u001b[0m     \u001b[39mreturn\u001b[39;00m \u001b[39mself\u001b[39m\u001b[39m.\u001b[39mobj\u001b[39m.\u001b[39m_take_with_is_copy(key, axis\u001b[39m=\u001b[39maxis)\n\u001b[1;32m   1483\u001b[0m \u001b[39mexcept\u001b[39;00m \u001b[39mIndexError\u001b[39;00m \u001b[39mas\u001b[39;00m err:\n\u001b[1;32m   1484\u001b[0m     \u001b[39m# re-raise with different error message\u001b[39;00m\n\u001b[0;32m-> 1485\u001b[0m     \u001b[39mraise\u001b[39;00m \u001b[39mIndexError\u001b[39;00m(\u001b[39m\"\u001b[39m\u001b[39mpositional indexers are out-of-bounds\u001b[39m\u001b[39m\"\u001b[39m) \u001b[39mfrom\u001b[39;00m \u001b[39merr\u001b[39;00m\n",
      "\u001b[0;31mIndexError\u001b[0m: positional indexers are out-of-bounds"
     ]
    }
   ],
   "source": [
    "frame = frame.iloc[[6,11,16,21,26]]"
   ]
  },
  {
   "cell_type": "code",
   "execution_count": 160,
   "id": "49ddbebb-a2c4-4b05-b34f-3b54739320ef",
   "metadata": {},
   "outputs": [
    {
     "name": "stdout",
     "output_type": "stream",
     "text": [
      "[-5.67155706e-07  1.05950224e-03 -6.36558051e-01  1.24344396e+02]\n"
     ]
    },
    {
     "data": {
      "image/png": "[encoded data removed]",
      "text/plain": [
       "<Figure size 600x400 with 1 Axes>"
      ]
     },
     "metadata": {
      "needs_background": "light"
     },
     "output_type": "display_data"
    }
   ],
   "source": [
    "plt.rcParams['figure.dpi'] = 100\n",
    "fig, ax = plt.subplots()\n",
    "\n",
    "# plt.errorbar(df.volume, df[\"mean\"], yerr=df[\"var\"],fmt=\"o\", marker='s', mfc='red',\n",
    "#          mec='green')#, ms=20, mew=4)\n",
    "startIndex = 0\n",
    "endIndex = len(frame.volume)\n",
    "# value = \"contour_area\"\n",
    "value = \"perimeter\"\n",
    "ax.errorbar(frame.volume[startIndex:endIndex], frame[value+\"_pb_mean\"][startIndex:endIndex], yerr=frame[value+\"_pb_stdev\"][startIndex:endIndex],\n",
    "         fmt=\"o\", mfc='red', ms=4, mew=0)#, marker='s', mfc='red',\n",
    "         #mec='green')#, ms=20, mew=4)\n",
    "ax.set_ylabel('Size ($mm^2$)')\n",
    "ax.set_xlabel('ml')\n",
    "ax.set_title(\"Light Diffusion Average\")\n",
    "\n",
    "x=frame.volume[startIndex:endIndex]\n",
    "y=frame[value+\"_pb_mean\"][startIndex:endIndex]\n",
    "order = 3\n",
    "z = np.polyfit(x, y, order)\n",
    "z_inv = np.polyfit(y, x, order)\n",
    "print(z_inv)\n",
    "p = np.poly1d(z)\n",
    "ax.plot(x,p(x),'k--',linewidth=2)\n",
    "color = 0.8"
   ]
  },
  {
   "cell_type": "code",
   "execution_count": 167,
   "id": "79185b03",
   "metadata": {},
   "outputs": [
    {
     "ename": "IndexError",
     "evalue": "positional indexers are out-of-bounds",
     "output_type": "error",
     "traceback": [
      "\u001b[0;31m---------------------------------------------------------------------------\u001b[0m",
      "\u001b[0;31mIndexError\u001b[0m                                Traceback (most recent call last)",
      "File \u001b[0;32m~/miniforge3/lib/python3.9/site-packages/pandas/core/indexing.py:1482\u001b[0m, in \u001b[0;36m_iLocIndexer._get_list_axis\u001b[0;34m(self, key, axis)\u001b[0m\n\u001b[1;32m   1481\u001b[0m \u001b[39mtry\u001b[39;00m:\n\u001b[0;32m-> 1482\u001b[0m     \u001b[39mreturn\u001b[39;00m \u001b[39mself\u001b[39;49m\u001b[39m.\u001b[39;49mobj\u001b[39m.\u001b[39;49m_take_with_is_copy(key, axis\u001b[39m=\u001b[39;49maxis)\n\u001b[1;32m   1483\u001b[0m \u001b[39mexcept\u001b[39;00m \u001b[39mIndexError\u001b[39;00m \u001b[39mas\u001b[39;00m err:\n\u001b[1;32m   1484\u001b[0m     \u001b[39m# re-raise with different error message\u001b[39;00m\n",
      "File \u001b[0;32m~/miniforge3/lib/python3.9/site-packages/pandas/core/generic.py:3716\u001b[0m, in \u001b[0;36mNDFrame._take_with_is_copy\u001b[0;34m(self, indices, axis)\u001b[0m\n\u001b[1;32m   3709\u001b[0m \u001b[39m\"\"\"\u001b[39;00m\n\u001b[1;32m   3710\u001b[0m \u001b[39mInternal version of the `take` method that sets the `_is_copy`\u001b[39;00m\n\u001b[1;32m   3711\u001b[0m \u001b[39mattribute to keep track of the parent dataframe (using in indexing\u001b[39;00m\n\u001b[0;32m   (...)\u001b[0m\n\u001b[1;32m   3714\u001b[0m \u001b[39mSee the docstring of `take` for full explanation of the parameters.\u001b[39;00m\n\u001b[1;32m   3715\u001b[0m \u001b[39m\"\"\"\u001b[39;00m\n\u001b[0;32m-> 3716\u001b[0m result \u001b[39m=\u001b[39m \u001b[39mself\u001b[39;49m\u001b[39m.\u001b[39;49mtake(indices\u001b[39m=\u001b[39;49mindices, axis\u001b[39m=\u001b[39;49maxis)\n\u001b[1;32m   3717\u001b[0m \u001b[39m# Maybe set copy if we didn't actually change the index.\u001b[39;00m\n",
      "File \u001b[0;32m~/miniforge3/lib/python3.9/site-packages/pandas/core/generic.py:3703\u001b[0m, in \u001b[0;36mNDFrame.take\u001b[0;34m(self, indices, axis, is_copy, **kwargs)\u001b[0m\n\u001b[1;32m   3701\u001b[0m \u001b[39mself\u001b[39m\u001b[39m.\u001b[39m_consolidate_inplace()\n\u001b[0;32m-> 3703\u001b[0m new_data \u001b[39m=\u001b[39m \u001b[39mself\u001b[39;49m\u001b[39m.\u001b[39;49m_mgr\u001b[39m.\u001b[39;49mtake(\n\u001b[1;32m   3704\u001b[0m     indices, axis\u001b[39m=\u001b[39;49m\u001b[39mself\u001b[39;49m\u001b[39m.\u001b[39;49m_get_block_manager_axis(axis), verify\u001b[39m=\u001b[39;49m\u001b[39mTrue\u001b[39;49;00m\n\u001b[1;32m   3705\u001b[0m )\n\u001b[1;32m   3706\u001b[0m \u001b[39mreturn\u001b[39;00m \u001b[39mself\u001b[39m\u001b[39m.\u001b[39m_constructor(new_data)\u001b[39m.\u001b[39m__finalize__(\u001b[39mself\u001b[39m, method\u001b[39m=\u001b[39m\u001b[39m\"\u001b[39m\u001b[39mtake\u001b[39m\u001b[39m\"\u001b[39m)\n",
      "File \u001b[0;32m~/miniforge3/lib/python3.9/site-packages/pandas/core/internals/managers.py:897\u001b[0m, in \u001b[0;36mBaseBlockManager.take\u001b[0;34m(self, indexer, axis, verify)\u001b[0m\n\u001b[1;32m    896\u001b[0m n \u001b[39m=\u001b[39m \u001b[39mself\u001b[39m\u001b[39m.\u001b[39mshape[axis]\n\u001b[0;32m--> 897\u001b[0m indexer \u001b[39m=\u001b[39m maybe_convert_indices(indexer, n, verify\u001b[39m=\u001b[39;49mverify)\n\u001b[1;32m    899\u001b[0m new_labels \u001b[39m=\u001b[39m \u001b[39mself\u001b[39m\u001b[39m.\u001b[39maxes[axis]\u001b[39m.\u001b[39mtake(indexer)\n",
      "File \u001b[0;32m~/miniforge3/lib/python3.9/site-packages/pandas/core/indexers/utils.py:292\u001b[0m, in \u001b[0;36mmaybe_convert_indices\u001b[0;34m(indices, n, verify)\u001b[0m\n\u001b[1;32m    291\u001b[0m     \u001b[39mif\u001b[39;00m mask\u001b[39m.\u001b[39many():\n\u001b[0;32m--> 292\u001b[0m         \u001b[39mraise\u001b[39;00m \u001b[39mIndexError\u001b[39;00m(\u001b[39m\"\u001b[39m\u001b[39mindices are out-of-bounds\u001b[39m\u001b[39m\"\u001b[39m)\n\u001b[1;32m    293\u001b[0m \u001b[39mreturn\u001b[39;00m indices\n",
      "\u001b[0;31mIndexError\u001b[0m: indices are out-of-bounds",
      "\nThe above exception was the direct cause of the following exception:\n",
      "\u001b[0;31mIndexError\u001b[0m                                Traceback (most recent call last)",
      "\u001b[1;32m/Users/pierre/Pictures/biology/Blob-Measuring/Plotting-Data.ipynb Cell 13\u001b[0m in \u001b[0;36m<cell line: 1>\u001b[0;34m()\u001b[0m\n\u001b[0;32m----> <a href='vscode-notebook-cell:/Users/pierre/Pictures/biology/Blob-Measuring/Plotting-Data.ipynb#ch0000022?line=0'>1</a>\u001b[0m frame \u001b[39m=\u001b[39m frame\u001b[39m.\u001b[39;49miloc[[\u001b[39m6\u001b[39;49m,\u001b[39m11\u001b[39;49m,\u001b[39m16\u001b[39;49m,\u001b[39m21\u001b[39;49m,\u001b[39m26\u001b[39;49m]]\n\u001b[1;32m      <a href='vscode-notebook-cell:/Users/pierre/Pictures/biology/Blob-Measuring/Plotting-Data.ipynb#ch0000022?line=1'>2</a>\u001b[0m startIndex \u001b[39m=\u001b[39m \u001b[39m0\u001b[39m\n\u001b[1;32m      <a href='vscode-notebook-cell:/Users/pierre/Pictures/biology/Blob-Measuring/Plotting-Data.ipynb#ch0000022?line=2'>3</a>\u001b[0m endIndex \u001b[39m=\u001b[39m \u001b[39mlen\u001b[39m(frame\u001b[39m.\u001b[39mvolume)\n",
      "File \u001b[0;32m~/miniforge3/lib/python3.9/site-packages/pandas/core/indexing.py:967\u001b[0m, in \u001b[0;36m_LocationIndexer.__getitem__\u001b[0;34m(self, key)\u001b[0m\n\u001b[1;32m    964\u001b[0m axis \u001b[39m=\u001b[39m \u001b[39mself\u001b[39m\u001b[39m.\u001b[39maxis \u001b[39mor\u001b[39;00m \u001b[39m0\u001b[39m\n\u001b[1;32m    966\u001b[0m maybe_callable \u001b[39m=\u001b[39m com\u001b[39m.\u001b[39mapply_if_callable(key, \u001b[39mself\u001b[39m\u001b[39m.\u001b[39mobj)\n\u001b[0;32m--> 967\u001b[0m \u001b[39mreturn\u001b[39;00m \u001b[39mself\u001b[39;49m\u001b[39m.\u001b[39;49m_getitem_axis(maybe_callable, axis\u001b[39m=\u001b[39;49maxis)\n",
      "File \u001b[0;32m~/miniforge3/lib/python3.9/site-packages/pandas/core/indexing.py:1511\u001b[0m, in \u001b[0;36m_iLocIndexer._getitem_axis\u001b[0;34m(self, key, axis)\u001b[0m\n\u001b[1;32m   1509\u001b[0m \u001b[39m# a list of integers\u001b[39;00m\n\u001b[1;32m   1510\u001b[0m \u001b[39melif\u001b[39;00m is_list_like_indexer(key):\n\u001b[0;32m-> 1511\u001b[0m     \u001b[39mreturn\u001b[39;00m \u001b[39mself\u001b[39;49m\u001b[39m.\u001b[39;49m_get_list_axis(key, axis\u001b[39m=\u001b[39;49maxis)\n\u001b[1;32m   1513\u001b[0m \u001b[39m# a single integer\u001b[39;00m\n\u001b[1;32m   1514\u001b[0m \u001b[39melse\u001b[39;00m:\n\u001b[1;32m   1515\u001b[0m     key \u001b[39m=\u001b[39m item_from_zerodim(key)\n",
      "File \u001b[0;32m~/miniforge3/lib/python3.9/site-packages/pandas/core/indexing.py:1485\u001b[0m, in \u001b[0;36m_iLocIndexer._get_list_axis\u001b[0;34m(self, key, axis)\u001b[0m\n\u001b[1;32m   1482\u001b[0m     \u001b[39mreturn\u001b[39;00m \u001b[39mself\u001b[39m\u001b[39m.\u001b[39mobj\u001b[39m.\u001b[39m_take_with_is_copy(key, axis\u001b[39m=\u001b[39maxis)\n\u001b[1;32m   1483\u001b[0m \u001b[39mexcept\u001b[39;00m \u001b[39mIndexError\u001b[39;00m \u001b[39mas\u001b[39;00m err:\n\u001b[1;32m   1484\u001b[0m     \u001b[39m# re-raise with different error message\u001b[39;00m\n\u001b[0;32m-> 1485\u001b[0m     \u001b[39mraise\u001b[39;00m \u001b[39mIndexError\u001b[39;00m(\u001b[39m\"\u001b[39m\u001b[39mpositional indexers are out-of-bounds\u001b[39m\u001b[39m\"\u001b[39m) \u001b[39mfrom\u001b[39;00m \u001b[39merr\u001b[39;00m\n",
      "\u001b[0;31mIndexError\u001b[0m: positional indexers are out-of-bounds"
     ]
    }
   ],
   "source": [
    "\n",
    "frame = frame.iloc[[6,11,16,21,26]]\n",
    "startIndex = 0\n",
    "endIndex = len(frame.volume)\n",
    "print(endIndex)\n",
    "\n",
    "x=frame.volume[startIndex:endIndex]\n",
    "y=frame[value+\"_pb_mean\"][startIndex:endIndex]\n",
    "polyfits = []\n",
    "for i in range(1,4):\n",
    "    z_inv = np.polyfit(y, x, i)\n",
    "    polyfits.append(np.poly1d(z_inv))\n",
    "\n",
    "\n",
    "fig2, ax2 = plt.subplots()\n",
    "p = np.poly1d(z_inv)\n",
    "frame = pd.read_csv(path)\n",
    "startIndex = 6\n",
    "endIndex = len(frame.volume)-5\n",
    "x=frame.volume[startIndex:endIndex]\n",
    "y=frame[value+\"_pb_mean\"][startIndex:endIndex]\n",
    "\n",
    "error1 = abs(x - polyfits[0](y))\n",
    "ax2.plot(x,error1,'o',mfc='red',ms=4,mew=0)\n",
    "error2 = abs(x - polyfits[1](y))\n",
    "ax2.plot(x,error2,'o',mfc='green',ms=4,mew=0)\n",
    "error3 = abs(x - polyfits[2](y))\n",
    "ax2.plot(x,error3,'o',mfc='blue',ms=4,mew=0)\n",
    "ax2.set_ylabel('Error (ml)')\n",
    "ax2.set_xlabel('true ml')\n",
    "ax2.set_title(\"Error based on 5 point linear fit\")\n",
    "\n",
    "#get total error in linear range\n",
    "print(sum(error1), sum(error2), sum(error3))"
   ]
  },
  {
   "cell_type": "markdown",
   "id": "c512146f",
   "metadata": {},
   "source": []
  },
  {
   "cell_type": "code",
   "execution_count": null,
   "id": "42fed630-d3f7-40fc-a01f-33184d8b1fac",
   "metadata": {},
   "outputs": [],
   "source": [
    "# plt.plot(frame.volume, frame[\"perimeter_mean\"], marker='s', mfc='red',\n",
    "#          mec='green')#, ms=20, mew=4)\n",
    "\n",
    "plt.rcParams['axes.facecolor']='white'\n",
    "plt.rcParams['savefig.facecolor']='white'\n",
    "plt.rcParams['figure.dpi'] = 300\n",
    "plt.rcParams['savefig.dpi'] = 300\n",
    "\n",
    "x= frame.volume;\n",
    "y=frame[\"perimeter\"];\n",
    "plt.plot(x[16:],y[16:], 'ro-')\n",
    "z = np.polyfit(x, y, 2)\n",
    "p = np.poly1d(z)\n",
    "#plt.plot(x,p(x),'k--',linewidth=2)\n",
    "plt.axvline(x=2.95, ls= '--', c ='gray')\n",
    "color = 0.8;\n",
    "plt.ylabel('Perimeter of Ellipse (px)')\n",
    "plt.xlabel('Fluid Volume (ml)')\n",
    "plt.title(\"Meniscus Inversion\")\n",
    "plt.savefig('Miniscus-Inversion.png')\n",
    "plt.show()\n",
    "\n",
    "print( \"y=%fx^2+%fx+(%f)\"%(z[0],z[1],z[2]))"
   ]
  },
  {
   "cell_type": "code",
   "execution_count": 94,
   "id": "a74d5b40-57bb-4dd1-a789-3603ee7f82fa",
   "metadata": {},
   "outputs": [
    {
     "data": {
      "text/plain": [
       "6.653226007260832"
      ]
     },
     "execution_count": 94,
     "metadata": {},
     "output_type": "execute_result"
    }
   ],
   "source": [
    "np.polyval(z_inv, 3)"
   ]
  },
  {
   "cell_type": "code",
   "execution_count": 58,
   "id": "0a8194b8",
   "metadata": {},
   "outputs": [],
   "source": [
    "frame2 = pd.read_csv(\"/Users/pierre/Pictures/biology/Blob-Measuring/Level-Measurement-Experiment/stream-captures/trash/perimeter_dataframe.csv\")"
   ]
  },
  {
   "cell_type": "code",
   "execution_count": 72,
   "id": "89e824f0",
   "metadata": {},
   "outputs": [],
   "source": [
    "y = frame2.iloc[1][1:-1].to_list()\n",
    "x = [0.5, 1.0, 1.5, 2.0, 2.5]"
   ]
  },
  {
   "cell_type": "code",
   "execution_count": 77,
   "id": "923320ea",
   "metadata": {},
   "outputs": [
    {
     "data": {
      "image/png": "[encoded data removed]",
      "text/plain": [
       "<Figure size 600x400 with 1 Axes>"
      ]
     },
     "metadata": {
      "needs_background": "light"
     },
     "output_type": "display_data"
    }
   ],
   "source": [
    "plt.plot(x,y)\n",
    "z = np.polyfit(y, x, 1)"
   ]
  },
  {
   "cell_type": "code",
   "execution_count": 95,
   "id": "c6495530",
   "metadata": {},
   "outputs": [
    {
     "name": "stdout",
     "output_type": "stream",
     "text": [
      "[ 4.98243115e-05 -3.85909325e-02  6.76855039e+00]\n"
     ]
    }
   ],
   "source": [
    "print(z_inv)"
   ]
  },
  {
   "cell_type": "code",
   "execution_count": 100,
   "id": "6e0e5b55",
   "metadata": {},
   "outputs": [
    {
     "ename": "KeyError",
     "evalue": "'key of type tuple not found and not a MultiIndex'",
     "output_type": "error",
     "traceback": [
      "\u001b[0;31m---------------------------------------------------------------------------\u001b[0m",
      "\u001b[0;31mKeyError\u001b[0m                                  Traceback (most recent call last)",
      "\u001b[1;32m/Users/pierre/Pictures/biology/Blob-Measuring/Plotting-Data.ipynb Cell 18\u001b[0m in \u001b[0;36m<cell line: 1>\u001b[0;34m()\u001b[0m\n\u001b[0;32m----> <a href='vscode-notebook-cell:/Users/pierre/Pictures/biology/Blob-Measuring/Plotting-Data.ipynb#ch0000019?line=0'>1</a>\u001b[0m frame\u001b[39m.\u001b[39;49mvolume[\u001b[39m1\u001b[39;49m,\u001b[39m5\u001b[39;49m,\u001b[39m10\u001b[39;49m]\n",
      "File \u001b[0;32m~/miniforge3/lib/python3.9/site-packages/pandas/core/series.py:984\u001b[0m, in \u001b[0;36mSeries.__getitem__\u001b[0;34m(self, key)\u001b[0m\n\u001b[1;32m    981\u001b[0m     key \u001b[39m=\u001b[39m np\u001b[39m.\u001b[39masarray(key, dtype\u001b[39m=\u001b[39m\u001b[39mbool\u001b[39m)\n\u001b[1;32m    982\u001b[0m     \u001b[39mreturn\u001b[39;00m \u001b[39mself\u001b[39m\u001b[39m.\u001b[39m_get_values(key)\n\u001b[0;32m--> 984\u001b[0m \u001b[39mreturn\u001b[39;00m \u001b[39mself\u001b[39;49m\u001b[39m.\u001b[39;49m_get_with(key)\n",
      "File \u001b[0;32m~/miniforge3/lib/python3.9/site-packages/pandas/core/series.py:999\u001b[0m, in \u001b[0;36mSeries._get_with\u001b[0;34m(self, key)\u001b[0m\n\u001b[1;32m    994\u001b[0m     \u001b[39mraise\u001b[39;00m \u001b[39mTypeError\u001b[39;00m(\n\u001b[1;32m    995\u001b[0m         \u001b[39m\"\u001b[39m\u001b[39mIndexing a Series with DataFrame is not \u001b[39m\u001b[39m\"\u001b[39m\n\u001b[1;32m    996\u001b[0m         \u001b[39m\"\u001b[39m\u001b[39msupported, use the appropriate DataFrame column\u001b[39m\u001b[39m\"\u001b[39m\n\u001b[1;32m    997\u001b[0m     )\n\u001b[1;32m    998\u001b[0m \u001b[39melif\u001b[39;00m \u001b[39misinstance\u001b[39m(key, \u001b[39mtuple\u001b[39m):\n\u001b[0;32m--> 999\u001b[0m     \u001b[39mreturn\u001b[39;00m \u001b[39mself\u001b[39;49m\u001b[39m.\u001b[39;49m_get_values_tuple(key)\n\u001b[1;32m   1001\u001b[0m \u001b[39melif\u001b[39;00m \u001b[39mnot\u001b[39;00m is_list_like(key):\n\u001b[1;32m   1002\u001b[0m     \u001b[39m# e.g. scalars that aren't recognized by lib.is_scalar, GH#32684\u001b[39;00m\n\u001b[1;32m   1003\u001b[0m     \u001b[39mreturn\u001b[39;00m \u001b[39mself\u001b[39m\u001b[39m.\u001b[39mloc[key]\n",
      "File \u001b[0;32m~/miniforge3/lib/python3.9/site-packages/pandas/core/series.py:1034\u001b[0m, in \u001b[0;36mSeries._get_values_tuple\u001b[0;34m(self, key)\u001b[0m\n\u001b[1;32m   1031\u001b[0m     \u001b[39mreturn\u001b[39;00m result\n\u001b[1;32m   1033\u001b[0m \u001b[39mif\u001b[39;00m \u001b[39mnot\u001b[39;00m \u001b[39misinstance\u001b[39m(\u001b[39mself\u001b[39m\u001b[39m.\u001b[39mindex, MultiIndex):\n\u001b[0;32m-> 1034\u001b[0m     \u001b[39mraise\u001b[39;00m \u001b[39mKeyError\u001b[39;00m(\u001b[39m\"\u001b[39m\u001b[39mkey of type tuple not found and not a MultiIndex\u001b[39m\u001b[39m\"\u001b[39m)\n\u001b[1;32m   1036\u001b[0m \u001b[39m# If key is contained, would have returned by now\u001b[39;00m\n\u001b[1;32m   1037\u001b[0m indexer, new_index \u001b[39m=\u001b[39m \u001b[39mself\u001b[39m\u001b[39m.\u001b[39mindex\u001b[39m.\u001b[39mget_loc_level(key)\n",
      "\u001b[0;31mKeyError\u001b[0m: 'key of type tuple not found and not a MultiIndex'"
     ]
    }
   ],
   "source": []
  },
  {
   "cell_type": "code",
   "execution_count": 153,
   "id": "c5b2d6e5",
   "metadata": {},
   "outputs": [
    {
     "data": {
      "text/plain": [
       "[poly1d([  0.0209251 , -11.19647735]),\n",
       " poly1d([-1.10840814e-05,  3.49163977e-02, -1.55891098e+01]),\n",
       " poly1d([-5.67155706e-07,  1.05950224e-03, -6.36558051e-01,  1.24344396e+02])]"
      ]
     },
     "execution_count": 153,
     "metadata": {},
     "output_type": "execute_result"
    }
   ],
   "source": [
    "polyfits"
   ]
  },
  {
   "cell_type": "code",
   "execution_count": null,
   "id": "7480a107",
   "metadata": {},
   "outputs": [],
   "source": []
  }
 ],
 "metadata": {
  "kernelspec": {
   "display_name": "Python 3.9.7 ('base')",
   "language": "python",
   "name": "python3"
  },
  "language_info": {
   "codemirror_mode": {
    "name": "ipython",
    "version": 3
   },
   "file_extension": ".py",
   "mimetype": "text/x-python",
   "name": "python",
   "nbconvert_exporter": "python",
   "pygments_lexer": "ipython3",
   "version": "3.9.7"
  },
  "vscode": {
   "interpreter": {
    "hash": "3ec8f1b2517460a7fea7378739fe7664b5a33dfb55335b66cc1a5af5ab6bd4af"
   }
  }
 },
 "nbformat": 4,
 "nbformat_minor": 5
}
